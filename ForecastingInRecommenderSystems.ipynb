{
  "nbformat": 4,
  "nbformat_minor": 0,
  "metadata": {
    "colab": {
      "name": "ForecastingInRecommenderSystems.ipynb",
      "provenance": [],
      "collapsed_sections": [],
      "toc_visible": true,
      "machine_shape": "hm"
    },
    "kernelspec": {
      "name": "python3",
      "display_name": "Python 3"
    },
    "accelerator": "GPU"
  },
  "cells": [
    {
      "cell_type": "code",
      "metadata": {
        "colab_type": "code",
        "id": "MzXluAhBs9Vw",
        "outputId": "03abbd86-ef66-4541-be81-4683fbcbbc65",
        "colab": {
          "base_uri": "https://localhost:8080/",
          "height": 377
        }
      },
      "source": [
        "!pip install scikit-surprise\n",
        "        \n",
        "from google.colab import drive\n",
        "drive.mount('/content/drive')\n",
        "\n",
        "%cd /content/drive/My Drive/Colab Notebooks"
      ],
      "execution_count": 1,
      "outputs": [
        {
          "output_type": "stream",
          "text": [
            "Collecting scikit-surprise\n",
            "\u001b[?25l  Downloading https://files.pythonhosted.org/packages/f5/da/b5700d96495fb4f092be497f02492768a3d96a3f4fa2ae7dea46d4081cfa/scikit-surprise-1.1.0.tar.gz (6.4MB)\n",
            "\u001b[K     |████████████████████████████████| 6.5MB 8.1MB/s \n",
            "\u001b[?25hRequirement already satisfied: joblib>=0.11 in /usr/local/lib/python3.6/dist-packages (from scikit-surprise) (0.13.2)\n",
            "Requirement already satisfied: numpy>=1.11.2 in /usr/local/lib/python3.6/dist-packages (from scikit-surprise) (1.16.5)\n",
            "Requirement already satisfied: scipy>=1.0.0 in /usr/local/lib/python3.6/dist-packages (from scikit-surprise) (1.3.1)\n",
            "Requirement already satisfied: six>=1.10.0 in /usr/local/lib/python3.6/dist-packages (from scikit-surprise) (1.12.0)\n",
            "Building wheels for collected packages: scikit-surprise\n",
            "  Building wheel for scikit-surprise (setup.py) ... \u001b[?25l\u001b[?25hdone\n",
            "  Created wheel for scikit-surprise: filename=scikit_surprise-1.1.0-cp36-cp36m-linux_x86_64.whl size=1678029 sha256=e02e8715c8e9765c3223d91db2a21212392dd5658f70129815ef7ca2fda08380\n",
            "  Stored in directory: /root/.cache/pip/wheels/cc/fa/8c/16c93fccce688ae1bde7d979ff102f7bee980d9cfeb8641bcf\n",
            "Successfully built scikit-surprise\n",
            "Installing collected packages: scikit-surprise\n",
            "Successfully installed scikit-surprise-1.1.0\n",
            "Go to this URL in a browser: https://accounts.google.com/o/oauth2/auth?client_id=947318989803-6bn6qk8qdgf4n4g3pfee6491hc0brc4i.apps.googleusercontent.com&redirect_uri=urn%3Aietf%3Awg%3Aoauth%3A2.0%3Aoob&scope=email%20https%3A%2F%2Fwww.googleapis.com%2Fauth%2Fdocs.test%20https%3A%2F%2Fwww.googleapis.com%2Fauth%2Fdrive%20https%3A%2F%2Fwww.googleapis.com%2Fauth%2Fdrive.photos.readonly%20https%3A%2F%2Fwww.googleapis.com%2Fauth%2Fpeopleapi.readonly&response_type=code\n",
            "\n",
            "Enter your authorization code:\n",
            "··········\n",
            "Mounted at /content/drive\n",
            "/content/drive/My Drive/Colab Notebooks\n"
          ],
          "name": "stdout"
        }
      ]
    },
    {
      "cell_type": "code",
      "metadata": {
        "colab_type": "code",
        "id": "Fg0mVb6TJmop",
        "colab": {}
      },
      "source": [
        "import surprise\n",
        "import importlib\n",
        "import pandas as pd\n",
        "import numpy as np\n",
        "\n",
        "import source.recommender as rcm\n",
        "import source.datasets as ds\n",
        "import source.utils as ut\n",
        "import source.forecast as ft\n",
        "import source.evaluation as evl\n",
        "import source.pytorchSR as pytorchSR\n",
        "\n",
        "pd.options.mode.chained_assignment = None \n",
        "import warnings\n",
        "warnings.simplefilter(action='ignore', category=FutureWarning)"
      ],
      "execution_count": 0,
      "outputs": []
    },
    {
      "cell_type": "code",
      "metadata": {
        "id": "X3sBWUGIh2Cc",
        "colab_type": "code",
        "outputId": "9b240dec-ec42-4689-e531-4cb5939b8f2a",
        "colab": {
          "base_uri": "https://localhost:8080/",
          "height": 34
        }
      },
      "source": [
        "importlib.reload(rcm)\n",
        "importlib.reload(ft)\n",
        "importlib.reload(ds)\n",
        "importlib.reload(pytorchSR)\n",
        "importlib.reload(ut)"
      ],
      "execution_count": 0,
      "outputs": [
        {
          "output_type": "execute_result",
          "data": {
            "text/plain": [
              "<module 'source.utils' from '/content/drive/My Drive/Colab Notebooks/source/utils.py'>"
            ]
          },
          "metadata": {
            "tags": []
          },
          "execution_count": 9
        }
      ]
    },
    {
      "cell_type": "markdown",
      "metadata": {
        "colab_type": "text",
        "id": "1qsknlUuJmov"
      },
      "source": [
        "# Forecasting in Recommender Systems\n",
        "\n",
        "In this notebook I'll try use some simple ideas of forecasting ratings in recommender systems. I'll use MovieLens 20M dataset in all models.\n",
        "\n",
        "# Quick summary\n",
        "\n",
        "\n",
        "## Movie rating forecasting\n",
        "\n",
        "### Model\n",
        "\n",
        "For few reasons I've chosen Last Sample as forecasting model in my algorithm:\n",
        "1. The time series of movie ratings don't have any significant seasonality or clear trend.\n",
        "2. No model gave better accuracy in expermients of forecasting mean rating\n",
        "3. Last Sample model is the simplest and the fastest model\n",
        "4. In real recommender systems we almost never want to make recommendation for the long future. Typically system can use ratings made few moments before making a new recommendation\n",
        "\n",
        "### Method\n",
        "\n",
        "In my approach, I create a time series of mean rating for each popular movie in dataset (popular movie is a one in a top 2/3 of movies with most number of ratings). To do this, ratings of each popular movie are gathered into 10-day timebins and then mean of each timebin is computed. This is our raw time series which is further smoothed with exponential weighted smoothing. The smoothing also includes throwing away time points with no sufficient samples. Then this smoothed time series are used to fit Last Sample models for each popular movie\n",
        "\n",
        "## Using forecasting in recommender system\n",
        "\n",
        "### Idea #1\n",
        "\n",
        "In the first idea, recommender system will be used to predict deviation from mean rating of a movie instead of predicting rating explicitly. To do this, each rating value will be converted to deviation from mean rating of given movie. Then these deviations will be used as input to base recommender system algorithm. The mean of each movie will be forecasted and deviation will be computed with this forecast.\n",
        "\n",
        "\n",
        "### Idea #2\n",
        "\n",
        "I found interesting approach with time-aware recommendation: \n",
        "https://www.cse.iitk.ac.in/users/nsrivast/HCC/Recommender_systems_handbook.pdf\n",
        "5.3.3 Time-aware factor model\n",
        "\n",
        "The idea is to add new bias parameter for each timebin in dataset. So the prediction for movie is R_ui + b_i(t)\n",
        "\n",
        "## My Neural Network algorithm\n",
        "\n",
        "To test my approaches in a fast and flexible way, I implemented my own system recommender algorithm. This algorithm is implemented as Neural Network in PyTorch, which allows fast computations with CUDA. The main idea is based on Word2Vec algortihm. Each user and item has its embedding vector. When we want to predict rating made by user u to item i, we compute average vector of this pair and then use this new vector as input to a neural network. Thanks to PyTorch, we can use all neural network techniques like dropout or weight decay.\n",
        "\n"
      ]
    },
    {
      "cell_type": "markdown",
      "metadata": {
        "id": "8_etR7_Tl8Ka",
        "colab_type": "text"
      },
      "source": [
        "# Results summary\n",
        "\n",
        "Better results are bolded in the table"
      ]
    },
    {
      "cell_type": "markdown",
      "metadata": {
        "id": "JI2sgvAoGZdY",
        "colab_type": "text"
      },
      "source": [
        "## **Cross validation split method**\n",
        "\n",
        "Cross-validation on randomly shuffled data. This is the simplest and most popular way of splitting data to test a model. This method splits data randomly into \\( k \\) equal parts and uses one of them as test part while remaining parts are used as train part. This procedure is repeated \\( k \\) times, with different part used as test data each time.\n",
        "\n",
        "\n",
        "<table>\n",
        "  <tr>\n",
        "    <th rowspan=2>Model</th>\n",
        "    <th colspan=2>RMSE (less is better)</th>\n",
        "    <th colspan=2>MAE (less is better)</th>\n",
        "    <th colspan=2>NDPM (less is better)</th>\n",
        "    <th colspan=2>FCP (more is better)</th>\n",
        "  </tr>\n",
        "  <tr>\n",
        "    <th>without forecasting</th>\n",
        "    <th>with forecasting</th>\n",
        "    <th>without forecasting</th>\n",
        "    <th>with forecasting</th>\n",
        "    <th>without forecasting</th>\n",
        "    <th>with forecasting</th>\n",
        "    <th>without forecasting</th>\n",
        "    <th>with forecasting</th>\n",
        "  </tr>\n",
        "  \n",
        "  <tr>\n",
        "    <th>Baseline</th>\n",
        "    <td>0.859</td>\n",
        "    <td><b>0.856</b></td>\n",
        "    <td>0.660</td>\n",
        "    <td><b>0.658</b></td>\n",
        "    <td>0.316</td>\n",
        "    <td><b>0.312</b></td>\n",
        "    <td>0.711</td>\n",
        "    <td><b>0.712</b></td>\n",
        "  </tr>\n",
        "  \n",
        "  <tr>\n",
        "    <th>SVD</th>\n",
        "    <td>0.811</td>\n",
        "    <td><b>0.802</b></td>\n",
        "    <td>0.624</td>\n",
        "    <td><b>0.613</b></td>\n",
        "    <td>0.296</td>\n",
        "    <td><b>0.286</b></td>\n",
        "    <td>0.744</td>\n",
        "    <td><b>0.748</b></td>\n",
        "  </tr>\n",
        "  \n",
        "  <tr>\n",
        "    <th>Probabilistic Matrix Factorization</th>\n",
        "    <td>0.837</td>\n",
        "    <td><b>0.828</b></td>\n",
        "    <td>0.648</td>\n",
        "    <td><b>0.638</b></td>\n",
        "    <td>0.298</td>\n",
        "    <td><b>0.289</b></td>\n",
        "    <td>0.735</td>\n",
        "    <td><b>0.737</b></td>\n",
        "  \n",
        "  <tr>\n",
        "    <th>Neural network based</th>\n",
        "    <td>0.810</td>\n",
        "    <td><b>0.809</b></td>\n",
        "    <td>0.619</td>\n",
        "    <td><b>0.618</b></td>\n",
        "    <td>0.286</td>\n",
        "    <td><b>0.284</b></td>\n",
        "    <td>0.7448</td>\n",
        "    <td><b>0.745</b></td>\n",
        "  </tr>\n",
        "</table>\n"
      ]
    },
    {
      "cell_type": "markdown",
      "metadata": {
        "id": "oyUyHfcrAm-d",
        "colab_type": "text"
      },
      "source": [
        "## Split by time point method\n",
        "\n",
        "Splitting data by some time point \\( t \\). All ratings made before \\( t \\) are used as train part, while all newer ratings are used as test part. This method simulates case where we have some historical data and we want to use it in new recommender system.\n",
        "<table>\n",
        "  <tr>\n",
        "    <th rowspan=2>Model</th>\n",
        "    <th colspan=2>RMSE (less is better)</th>\n",
        "    <th colspan=2>MAE (less is better)</th>\n",
        "    <th colspan=2>NDPM (less is better)</th>\n",
        "    <th colspan=2>FCP (more is better)</th>\n",
        "  </tr>\n",
        "  <tr>\n",
        "    <th>without forecasting</th>\n",
        "    <th>with forecasting</th>\n",
        "    <th>without forecasting</th>\n",
        "    <th>with forecasting</th>\n",
        "    <th>without forecasting</th>\n",
        "    <th>with forecasting</th>\n",
        "    <th>without forecasting</th>\n",
        "    <th>with forecasting</th>\n",
        "  </tr>\n",
        "  \n",
        "  <tr>\n",
        "    <th>Baseline</th>\n",
        "    <td>0.942</td>\n",
        "    <td><b>0.936</b></td>\n",
        "    <td><b>0.713</b></td>\n",
        "    <td>0.715</td>\n",
        "    <td>0.316</td>\n",
        "    <td><b>0.312</b></td>\n",
        "    <td>0.711</td>\n",
        "    <td><b>0.712</b></td>\n",
        "  </tr>\n",
        "  \n",
        "  <tr>\n",
        "    <th>SVD</th>\n",
        "    <td><b>0.931</b></td>\n",
        "    <td>0.932</td>\n",
        "    <td>0.714</td>\n",
        "    <td><b>0.711</b></td>\n",
        "    <td><b>0.352</b></td>\n",
        "    <td>0.353</td>\n",
        "    <td>0.627</td>\n",
        "    <td><b>0.628</b></td>\n",
        "  </tr>\n",
        "  \n",
        "  <tr>\n",
        "    <th>Probabilistic Matrix Factorization</th>\n",
        "    <td>1.010</td>\n",
        "    <td><b>0.943</b></td>\n",
        "    <td>0.778</td>\n",
        "    <td><b>0.719</b></td>\n",
        "    <td>0.484</td>\n",
        "    <td><b>0.355</b></td>\n",
        "    <td>0.410</td>\n",
        "    <td><b>0.623</b></td>\n",
        "  \n",
        "  <tr>\n",
        "    <th>Neural network based</th>\n",
        "    <td>0.955</td>\n",
        "    <td><b>0.933</b></td>\n",
        "    <td>0.723</td>\n",
        "    <td><b>0.713</b></td>\n",
        "    <td>0.372</td>\n",
        "    <td><b>0.353</b></td>\n",
        "    <td>0.610</td>\n",
        "    <td><b>0.627</b></td>\n",
        "  </tr>\n",
        "</table>"
      ]
    },
    {
      "cell_type": "markdown",
      "metadata": {
        "id": "D21yHCtbXcbF",
        "colab_type": "text"
      },
      "source": [
        "## Popularity decay split method\n",
        "\n",
        "In this method, we group ratings by movie and throw away 80 \\% of ratings done later than 3/10 of given movie lifetime. For example, if movie \\( m \\) oldest rating was made in 2000, and the newest in 2010, then we throw away 80 \\% randomly chosen ratings made in year range 2003-2010. This simulates datasets with high and fast decrease of products' popularity.\n",
        "<table>\n",
        "  <tr>\n",
        "    <th rowspan=2>Model</th>\n",
        "    <th colspan=2>RMSE (less is better)</th>\n",
        "    <th colspan=2>MAE (less is better)</th>\n",
        "    <th colspan=2>NDPM (less is better)</th>\n",
        "    <th colspan=2>FCP (more is better)</th>\n",
        "  </tr>\n",
        "  <tr>\n",
        "    <th>without forecasting</th>\n",
        "    <th>with forecasting</th>\n",
        "    <th>without forecasting</th>\n",
        "    <th>with forecasting</th>\n",
        "    <th>without forecasting</th>\n",
        "    <th>with forecasting</th>\n",
        "    <th>without forecasting</th>\n",
        "    <th>with forecasting</th>\n",
        "  </tr>\n",
        "  \n",
        "  <tr>\n",
        "    <th>Baseline</th>\n",
        "    <td>0.856</td>\n",
        "    <td><b>0.851</b></td>\n",
        "    <td>0.643</td>\n",
        "    <td><b>0.642</b></td>\n",
        "    <td>0.328</td>\n",
        "    <td><b>0.323</b></td>\n",
        "    <td>0.662</td>\n",
        "    <td><b>0.665</b></td>\n",
        "  </tr>\n",
        "  \n",
        "  <tr>\n",
        "    <th>SVD</th>\n",
        "    <td><b>0.8178</b></td>\n",
        "    <td>0.8179</td>\n",
        "    <td><b>0.6139</b></td>\n",
        "    <td>0.6143</td>\n",
        "    <td>0.3116</td>\n",
        "    <td><b>0.3094</b></td>\n",
        "    <td>0.6818</td>\n",
        "    <td><b>0.6823</b></td>\n",
        "  </tr>\n",
        "  \n",
        "  <tr>\n",
        "    <th>Probabilistic Matrix Factorization</th>\n",
        "    <td><b>0.855</b></td>\n",
        "    <td>0.879</td>\n",
        "    <td><b>0.634</b></td>\n",
        "    <td>0.650</td>\n",
        "    <td><b>0.308</b></td>\n",
        "    <td>0.310</td>\n",
        "    <td><b>0.681</b></td>\n",
        "    <td>0.673</td>\n",
        "  \n",
        "  <tr>\n",
        "    <th>Neural network based</th>\n",
        "    <td>0.818</td>\n",
        "    <td><b>0.816</b></td>\n",
        "    <td>0.615</td>\n",
        "    <td><b>0.613</b></td>\n",
        "    <td>0.306</td>\n",
        "    <td><b>0.304</b></td>\n",
        "    <td>0.686</td>\n",
        "    <td><b>0.687</b></td>\n",
        "  </tr>\n",
        "</table>"
      ]
    },
    {
      "cell_type": "markdown",
      "metadata": {
        "id": "FKNmAEw_XEwZ",
        "colab_type": "text"
      },
      "source": [
        "## Cross validation with idea #3\n",
        "\n",
        "<table>\n",
        "  <tr>\n",
        "    <th rowspan=2>Model</th>\n",
        "    <th colspan=2>RMSE (less is better)</th>\n",
        "    <th colspan=2>MAE (less is better)</th>\n",
        "    <th colspan=2>NDPM (less is better)</th>\n",
        "    <th colspan=2>FCP (more is better)</th>\n",
        "  </tr>\n",
        "  <tr>\n",
        "    <th>without time context</th>\n",
        "    <th>with time context</th>\n",
        "    <th>without time context</th>\n",
        "    <th>with time context</th>\n",
        "    <th>without time context</th>\n",
        "    <th>with time context</th>\n",
        "    <th>without time context</th>\n",
        "    <th>with time context</th>\n",
        "  </tr>\n",
        " \n",
        "  <tr>\n",
        "    <th>Neural network based</th>\n",
        "    <td>0.80996</td>\n",
        "    <td>0.80864</td>\n",
        "    <td>0.61969</td>\n",
        "    <td><b>0.61913</b></td>\n",
        "    <td>0.0.28616</td>\n",
        "    <td><b>0.28375</b></td>\n",
        "    <td>0.74430</td>\n",
        "    <td><b>0.74339</b></td>\n",
        "  </tr>\n",
        "</table>"
      ]
    },
    {
      "cell_type": "markdown",
      "metadata": {
        "id": "igUdSck4KHYQ",
        "colab_type": "text"
      },
      "source": [
        "# Evaluation metrics\n",
        "## NDPM - Normalized Distance-based Performance Measure\n",
        "\n",
        "This measure evaluates preserved order between ranked items. It doesn't rely on exact values of predictions but only on their correct order. This measue doesn't penalize algorithm that changes order of items that have tie in reference ranking (for example when item A and item B have both rating 4.0 and our system predicted 3.5 and 4.5)\n",
        "\n",
        "\n",
        "## FCP - Fraction of Concordant Pairs\n",
        "\n",
        "Similar to NDPM:\n",
        "https://www.ijcai.org/Proceedings/13/Papers/449.pdf"
      ]
    },
    {
      "cell_type": "code",
      "metadata": {
        "colab_type": "code",
        "id": "GfM6eDwbJmo2",
        "colab": {}
      },
      "source": [
        "movielens20m = ds.get_movielens('20m')"
      ],
      "execution_count": 0,
      "outputs": []
    },
    {
      "cell_type": "code",
      "metadata": {
        "id": "BxlJ0bx5eCGB",
        "colab_type": "code",
        "colab": {}
      },
      "source": [
        "create_cached_cross_validation_data(movielens20m, filename=\"cross3k_3000movies\", k=3)"
      ],
      "execution_count": 0,
      "outputs": []
    },
    {
      "cell_type": "markdown",
      "metadata": {
        "id": "cchVqY4DvBlO",
        "colab_type": "text"
      },
      "source": [
        "# Cross validation split method"
      ]
    },
    {
      "cell_type": "markdown",
      "metadata": {
        "id": "XY4IlXCF-0U3",
        "colab_type": "text"
      },
      "source": [
        "## Neural Network algorithm"
      ]
    },
    {
      "cell_type": "markdown",
      "metadata": {
        "id": "cDgPYkYR--KN",
        "colab_type": "text"
      },
      "source": [
        "### Without forecasting"
      ]
    },
    {
      "cell_type": "code",
      "metadata": {
        "id": "1l9OwsTdCcr3",
        "colab_type": "code",
        "outputId": "3bcb178a-fa6f-4431-c3c5-c4fd493b1223",
        "colab": {
          "base_uri": "https://localhost:8080/",
          "height": 1000
        }
      },
      "source": [
        "def nn_model_constructor(train_df, test_df, forecaster):\n",
        "  return pytorchSR.NeuralNetworkSR(train_df, test_df, 20, 20, [256], 0.0, lr=3*1e-3, wd=1e-1, max_time=440.0, batch_size=10000, log_freq=1000)\n",
        "  \n",
        "ut.cross_validate_cached(nn_model_constructor, ['cross3k_3000movies0', 'cross3k_3000movies1', 'cross3k_3000movies2'])"
      ],
      "execution_count": 0,
      "outputs": [
        {
          "output_type": "stream",
          "text": [
            "[1,   500] loss: 1.691\n",
            "[1,  1000] loss: 0.897\n",
            "[2,   500] loss: 0.796\n",
            "[2,  1000] loss: 0.781\n",
            "[3,   500] loss: 0.746\n",
            "[3,  1000] loss: 0.737\n",
            "[4,   500] loss: 0.716\n",
            "[4,  1000] loss: 0.717\n",
            "[5,   500] loss: 0.697\n",
            "[5,  1000] loss: 0.701\n",
            "[6,   500] loss: 0.681\n",
            "[6,  1000] loss: 0.690\n",
            "[7,   500] loss: 0.671\n",
            "[7,  1000] loss: 0.684\n",
            "[8,   500] loss: 0.665\n",
            "[8,  1000] loss: 0.680\n",
            "[9,   500] loss: 0.660\n",
            "[9,  1000] loss: 0.675\n",
            "[10,   500] loss: 0.655\n",
            "[10,  1000] loss: 0.671\n",
            "[11,   500] loss: 0.651\n",
            "[11,  1000] loss: 0.668\n",
            "[12,   500] loss: 0.648\n",
            "[12,  1000] loss: 0.665\n",
            "[13,   500] loss: 0.646\n",
            "[13,  1000] loss: 0.663\n",
            "[14,   500] loss: 0.643\n",
            "[14,  1000] loss: 0.662\n",
            "[15,   500] loss: 0.642\n",
            "[15,  1000] loss: 0.660\n",
            "[16,   500] loss: 0.641\n",
            "[16,  1000] loss: 0.660\n",
            "[17,   500] loss: 0.639\n",
            "[17,  1000] loss: 0.659\n",
            "[18,   500] loss: 0.638\n",
            "[18,  1000] loss: 0.658\n",
            "[19,   500] loss: 0.638\n",
            "[19,  1000] loss: 0.658\n",
            "[20,   500] loss: 0.637\n",
            "[20,  1000] loss: 0.657\n",
            "Finished Training\n",
            "Estimated all\n",
            "RMSE: 0.8094\n",
            "MAE:  0.6202\n",
            "FCP:  0.7444\n",
            "[1,   500] loss: 1.668\n",
            "[1,  1000] loss: 0.894\n",
            "[2,   500] loss: 0.794\n",
            "[2,  1000] loss: 0.780\n",
            "[3,   500] loss: 0.744\n",
            "[3,  1000] loss: 0.734\n",
            "[4,   500] loss: 0.715\n",
            "[4,  1000] loss: 0.716\n",
            "[5,   500] loss: 0.697\n",
            "[5,  1000] loss: 0.702\n",
            "[6,   500] loss: 0.680\n",
            "[6,  1000] loss: 0.688\n",
            "[7,   500] loss: 0.670\n",
            "[7,  1000] loss: 0.680\n",
            "[8,   500] loss: 0.663\n",
            "[8,  1000] loss: 0.676\n",
            "[9,   500] loss: 0.657\n",
            "[9,  1000] loss: 0.672\n",
            "[10,   500] loss: 0.653\n",
            "[10,  1000] loss: 0.668\n",
            "[11,   500] loss: 0.649\n",
            "[11,  1000] loss: 0.666\n",
            "[12,   500] loss: 0.646\n",
            "[12,  1000] loss: 0.664\n",
            "[13,   500] loss: 0.644\n",
            "[13,  1000] loss: 0.662\n",
            "[14,   500] loss: 0.642\n",
            "[14,  1000] loss: 0.661\n",
            "[15,   500] loss: 0.640\n",
            "[15,  1000] loss: 0.660\n",
            "[16,   500] loss: 0.638\n",
            "[16,  1000] loss: 0.659\n",
            "[17,   500] loss: 0.637\n",
            "[17,  1000] loss: 0.658\n",
            "[18,   500] loss: 0.637\n",
            "[18,  1000] loss: 0.657\n",
            "[19,   500] loss: 0.636\n",
            "[19,  1000] loss: 0.657\n",
            "[20,   500] loss: 0.635\n",
            "[20,  1000] loss: 0.656\n",
            "Finished Training\n",
            "Estimated all\n",
            "RMSE: 0.8096\n",
            "MAE:  0.6192\n",
            "FCP:  0.7443\n",
            "[1,   500] loss: 1.692\n",
            "[1,  1000] loss: 0.896\n",
            "[2,   500] loss: 0.796\n",
            "[2,  1000] loss: 0.782\n",
            "[3,   500] loss: 0.761\n",
            "[3,  1000] loss: 0.745\n",
            "[4,   500] loss: 0.718\n",
            "[4,  1000] loss: 0.719\n",
            "[5,   500] loss: 0.701\n",
            "[5,  1000] loss: 0.705\n",
            "[6,   500] loss: 0.686\n",
            "[6,  1000] loss: 0.693\n",
            "[7,   500] loss: 0.674\n",
            "[7,  1000] loss: 0.685\n",
            "[8,   500] loss: 0.665\n",
            "[8,  1000] loss: 0.678\n",
            "[9,   500] loss: 0.659\n",
            "[9,  1000] loss: 0.673\n",
            "[10,   500] loss: 0.654\n",
            "[10,  1000] loss: 0.671\n",
            "[11,   500] loss: 0.651\n",
            "[11,  1000] loss: 0.667\n",
            "[12,   500] loss: 0.648\n",
            "[12,  1000] loss: 0.666\n",
            "[13,   500] loss: 0.646\n",
            "[13,  1000] loss: 0.664\n",
            "[14,   500] loss: 0.643\n",
            "[14,  1000] loss: 0.662\n",
            "[15,   500] loss: 0.642\n",
            "[15,  1000] loss: 0.660\n",
            "[16,   500] loss: 0.640\n",
            "[16,  1000] loss: 0.660\n",
            "[17,   500] loss: 0.639\n",
            "[17,  1000] loss: 0.658\n",
            "[18,   500] loss: 0.638\n",
            "[18,  1000] loss: 0.658\n",
            "[19,   500] loss: 0.637\n",
            "[19,  1000] loss: 0.657\n",
            "[20,   500] loss: 0.636\n",
            "[20,  1000] loss: 0.657\n",
            "Finished Training\n",
            "Estimated all\n",
            "RMSE: 0.8100\n",
            "MAE:  0.6185\n",
            "FCP:  0.7448\n",
            "Average RMSE = 0.8096568407683379\n",
            "Average NDPM = 0.28602997750482656\n"
          ],
          "name": "stdout"
        }
      ]
    },
    {
      "cell_type": "markdown",
      "metadata": {
        "id": "Z0QR1snr_B5U",
        "colab_type": "text"
      },
      "source": [
        "### With forecasting"
      ]
    },
    {
      "cell_type": "code",
      "metadata": {
        "id": "8Ru-Ipyj-yjI",
        "colab_type": "code",
        "outputId": "06228e0a-350f-406a-ce85-650c9f797809",
        "colab": {
          "base_uri": "https://localhost:8080/",
          "height": 1000
        }
      },
      "source": [
        "def forecast_model_constructor(train_df, test_df, forecaster):\n",
        "  pytorch_model_ratings = forecaster.ratings[['userId', 'movieId', 'y_dev']].copy()\n",
        "  pytorch_model_ratings['y_dev'] = pytorch_model_ratings['y_dev'] + 4.5\n",
        "  base_model = pytorchSR.NeuralNetworkSR(pytorch_model_ratings, test_df, 20, 20, [256], 0.0, lr=3*1e-3, wd=1e-1, max_time=440.0, batch_size=10000, log_freq=500)\n",
        "  \n",
        "  return rcm.MeanDeviationsRecommender(base_model, forecaster, rcm.get_timestamps_dict(test_df))\n",
        "\n",
        "m = ut.cross_validate_cached(forecast_model_constructor, ['cross3k_3000movies0', 'cross3k_3000movies1', 'cross3k_3000movies2'])"
      ],
      "execution_count": 0,
      "outputs": [
        {
          "output_type": "stream",
          "text": [
            "[1,   500] loss: 1.621\n",
            "[1,  1000] loss: 0.879\n",
            "[2,   500] loss: 0.781\n",
            "[2,  1000] loss: 0.768\n",
            "[3,   500] loss: 0.751\n",
            "[3,  1000] loss: 0.742\n",
            "[4,   500] loss: 0.711\n",
            "[4,  1000] loss: 0.710\n",
            "[5,   500] loss: 0.691\n",
            "[5,  1000] loss: 0.696\n",
            "[6,   500] loss: 0.676\n",
            "[6,  1000] loss: 0.683\n",
            "[7,   500] loss: 0.665\n",
            "[7,  1000] loss: 0.675\n",
            "[8,   500] loss: 0.657\n",
            "[8,  1000] loss: 0.669\n",
            "[9,   500] loss: 0.651\n",
            "[9,  1000] loss: 0.665\n",
            "[10,   500] loss: 0.646\n",
            "[10,  1000] loss: 0.661\n",
            "[11,   500] loss: 0.643\n",
            "[11,  1000] loss: 0.659\n",
            "[12,   500] loss: 0.640\n",
            "[12,  1000] loss: 0.656\n",
            "[13,   500] loss: 0.636\n",
            "[13,  1000] loss: 0.654\n",
            "[14,   500] loss: 0.635\n",
            "[14,  1000] loss: 0.653\n",
            "[15,   500] loss: 0.633\n",
            "[15,  1000] loss: 0.652\n",
            "[16,   500] loss: 0.633\n",
            "[16,  1000] loss: 0.651\n",
            "[17,   500] loss: 0.632\n",
            "[17,  1000] loss: 0.650\n",
            "[18,   500] loss: 0.631\n",
            "[18,  1000] loss: 0.650\n",
            "[19,   500] loss: 0.629\n",
            "[19,  1000] loss: 0.650\n",
            "[20,   500] loss: 0.628\n",
            "[20,  1000] loss: 0.650\n",
            "Finished Training\n",
            "Estimated all\n",
            "RMSE: 0.8092\n",
            "MAE:  0.6180\n",
            "FCP:  0.7454\n",
            "[1,   500] loss: 1.605\n",
            "[1,  1000] loss: 0.877\n",
            "[2,   500] loss: 0.782\n",
            "[2,  1000] loss: 0.766\n",
            "[3,   500] loss: 0.750\n",
            "[3,  1000] loss: 0.737\n",
            "[4,   500] loss: 0.707\n",
            "[4,  1000] loss: 0.708\n",
            "[5,   500] loss: 0.690\n",
            "[5,  1000] loss: 0.694\n",
            "[6,   500] loss: 0.676\n",
            "[6,  1000] loss: 0.683\n",
            "[7,   500] loss: 0.664\n",
            "[7,  1000] loss: 0.675\n",
            "[8,   500] loss: 0.655\n",
            "[8,  1000] loss: 0.668\n",
            "[9,   500] loss: 0.649\n",
            "[9,  1000] loss: 0.663\n",
            "[10,   500] loss: 0.644\n",
            "[10,  1000] loss: 0.659\n",
            "[11,   500] loss: 0.641\n",
            "[11,  1000] loss: 0.657\n",
            "[12,   500] loss: 0.638\n",
            "[12,  1000] loss: 0.656\n",
            "[13,   500] loss: 0.636\n",
            "[13,  1000] loss: 0.654\n",
            "[14,   500] loss: 0.634\n",
            "[14,  1000] loss: 0.653\n",
            "[15,   500] loss: 0.633\n",
            "[15,  1000] loss: 0.652\n",
            "[16,   500] loss: 0.632\n",
            "[16,  1000] loss: 0.651\n",
            "[17,   500] loss: 0.631\n",
            "[17,  1000] loss: 0.650\n",
            "[18,   500] loss: 0.630\n",
            "[18,  1000] loss: 0.650\n",
            "[19,   500] loss: 0.629\n",
            "[19,  1000] loss: 0.649\n",
            "[20,   500] loss: 0.629\n",
            "[20,  1000] loss: 0.648\n",
            "Finished Training\n",
            "Estimated all\n",
            "RMSE: 0.8092\n",
            "MAE:  0.6171\n",
            "FCP:  0.7451\n",
            "[1,   500] loss: 1.630\n",
            "[1,  1000] loss: 0.879\n",
            "[2,   500] loss: 0.781\n",
            "[2,  1000] loss: 0.769\n",
            "[3,   500] loss: 0.752\n",
            "[3,  1000] loss: 0.746\n",
            "[4,   500] loss: 0.713\n",
            "[4,  1000] loss: 0.711\n",
            "[5,   500] loss: 0.694\n",
            "[5,  1000] loss: 0.698\n",
            "[6,   500] loss: 0.678\n",
            "[6,  1000] loss: 0.685\n",
            "[7,   500] loss: 0.665\n",
            "[7,  1000] loss: 0.676\n",
            "[8,   500] loss: 0.657\n",
            "[8,  1000] loss: 0.670\n",
            "[9,   500] loss: 0.651\n",
            "[9,  1000] loss: 0.665\n",
            "[10,   500] loss: 0.645\n",
            "[10,  1000] loss: 0.662\n",
            "[11,   500] loss: 0.642\n",
            "[11,  1000] loss: 0.659\n",
            "[12,   500] loss: 0.639\n",
            "[12,  1000] loss: 0.656\n",
            "[13,   500] loss: 0.637\n",
            "[13,  1000] loss: 0.655\n",
            "[14,   500] loss: 0.636\n",
            "[14,  1000] loss: 0.653\n",
            "[15,   500] loss: 0.635\n",
            "[15,  1000] loss: 0.652\n",
            "[16,   500] loss: 0.633\n",
            "[16,  1000] loss: 0.652\n",
            "[17,   500] loss: 0.632\n",
            "[17,  1000] loss: 0.651\n",
            "[18,   500] loss: 0.631\n",
            "[18,  1000] loss: 0.651\n",
            "[19,   500] loss: 0.630\n",
            "[19,  1000] loss: 0.651\n",
            "[20,   500] loss: 0.629\n",
            "[20,  1000] loss: 0.650\n",
            "Finished Training\n",
            "Estimated all\n",
            "RMSE: 0.8081\n",
            "MAE:  0.6178\n",
            "FCP:  0.7450\n",
            "Average RMSE = 0.8088065947359775\n",
            "Average MAE = 0.6176250136569821\n",
            "Average NDPM = 0.2841626807906677\n",
            "Average FCP = 0.7451600964543856\n"
          ],
          "name": "stdout"
        }
      ]
    },
    {
      "cell_type": "markdown",
      "metadata": {
        "id": "j4dUsmegNEXL",
        "colab_type": "text"
      },
      "source": [
        "## SVD Algorithm"
      ]
    },
    {
      "cell_type": "markdown",
      "metadata": {
        "id": "8Omx59p4iF4l",
        "colab_type": "text"
      },
      "source": [
        "### Without forecasting"
      ]
    },
    {
      "cell_type": "code",
      "metadata": {
        "id": "qoW9QandiRqL",
        "colab_type": "code",
        "outputId": "162beedd-e5b2-43a4-ff0d-9d0eb6874439",
        "colab": {
          "base_uri": "https://localhost:8080/",
          "height": 238
        }
      },
      "source": [
        "def svd_model_constructor(train_df, test_df, forecaster):\n",
        "  return surprise.SVD(n_factors=20, n_epochs=20, biased=True)\n",
        "  \n",
        "ut.cross_validate_cached(svd_model_constructor, ['cross3k_3000movies0', 'cross3k_3000movies1', 'cross3k_3000movies2'])"
      ],
      "execution_count": 0,
      "outputs": [
        {
          "output_type": "stream",
          "text": [
            "RMSE: 0.8103\n",
            "MAE:  0.6235\n",
            "FCP:  0.7439\n",
            "RMSE: 0.8107\n",
            "MAE:  0.6236\n",
            "FCP:  0.7434\n",
            "RMSE: 0.8106\n",
            "MAE:  0.6240\n",
            "FCP:  0.7437\n",
            "Average RMSE = 0.8105609436841816\n",
            "Average MAE = 0.62369723037497\n",
            "Average NDPM = 0.29582077352402947\n",
            "Average FCP = 0.7436683689664833\n"
          ],
          "name": "stdout"
        }
      ]
    },
    {
      "cell_type": "markdown",
      "metadata": {
        "id": "xQXB2AIeiLbY",
        "colab_type": "text"
      },
      "source": [
        "### With forecasting"
      ]
    },
    {
      "cell_type": "code",
      "metadata": {
        "id": "mR19dmN1aphG",
        "colab_type": "code",
        "outputId": "6e3ac9b8-043d-4a6e-bae0-dd7d3f3e5c09",
        "colab": {
          "base_uri": "https://localhost:8080/",
          "height": 238
        }
      },
      "source": [
        "def svd_forecast_model_constructor(train_df, test_df, forecaster):\n",
        "  base_model = surprise.SVD(n_factors=20, n_epochs=20, biased=True)\n",
        "  return rcm.MeanDeviationsRecommender(base_model, forecaster, rcm.get_timestamps_dict(test_df))\n",
        "\n",
        "m = ut.cross_validate_cached(svd_forecast_model_constructor, ['cross3k_3000movies0', 'cross3k_3000movies1', 'cross3k_3000movies2'])"
      ],
      "execution_count": 0,
      "outputs": [
        {
          "output_type": "stream",
          "text": [
            "RMSE: 0.8015\n",
            "MAE:  0.6131\n",
            "FCP:  0.7482\n",
            "RMSE: 0.8018\n",
            "MAE:  0.6132\n",
            "FCP:  0.7480\n",
            "RMSE: 0.8022\n",
            "MAE:  0.6139\n",
            "FCP:  0.7477\n",
            "Average RMSE = 0.8017988563828841\n",
            "Average MAE = 0.6133852903098534\n",
            "Average NDPM = 0.2861783127917851\n",
            "Average FCP = 0.747965248282196\n"
          ],
          "name": "stdout"
        }
      ]
    },
    {
      "cell_type": "markdown",
      "metadata": {
        "id": "0k88ENvTNEXP",
        "colab_type": "text"
      },
      "source": [
        "## Probabilistic Matrix Factorization"
      ]
    },
    {
      "cell_type": "markdown",
      "metadata": {
        "id": "epgslmpr-9tr",
        "colab_type": "text"
      },
      "source": [
        "### Without forecasting"
      ]
    },
    {
      "cell_type": "code",
      "metadata": {
        "id": "yOqYoRyANEXQ",
        "colab_type": "code",
        "outputId": "1e121ef2-cb52-43f4-ff2d-8ca9ec9e7f38",
        "colab": {
          "base_uri": "https://localhost:8080/",
          "height": 238
        }
      },
      "source": [
        "def pmf_model_constructor(train_df, test_df, forecaster):\n",
        "  return surprise.SVD(n_factors=20, n_epochs=20, biased=False)\n",
        "  \n",
        "ut.cross_validate_cached(pmf_model_constructor, ['cross3k_3000movies0', 'cross3k_3000movies1', 'cross3k_3000movies2'])"
      ],
      "execution_count": 0,
      "outputs": [
        {
          "output_type": "stream",
          "text": [
            "RMSE: 0.8360\n",
            "MAE:  0.6474\n",
            "FCP:  0.7353\n",
            "RMSE: 0.8375\n",
            "MAE:  0.6485\n",
            "FCP:  0.7338\n",
            "RMSE: 0.8367\n",
            "MAE:  0.6483\n",
            "FCP:  0.7346\n",
            "Average RMSE = 0.8367430548042759\n",
            "Average MAE = 0.6480531658924386\n",
            "Average NDPM = 0.29793424190231854\n",
            "Average FCP = 0.73458859865642\n"
          ],
          "name": "stdout"
        }
      ]
    },
    {
      "cell_type": "markdown",
      "metadata": {
        "id": "PUgNWa6DTZfQ",
        "colab_type": "text"
      },
      "source": [
        ""
      ]
    },
    {
      "cell_type": "markdown",
      "metadata": {
        "id": "qIXZAx3U-9qP",
        "colab_type": "text"
      },
      "source": [
        "### With forecasting"
      ]
    },
    {
      "cell_type": "code",
      "metadata": {
        "id": "8bocjEoV_whT",
        "colab_type": "code",
        "outputId": "f02b6b99-5b99-473f-9023-b4a6a068e1e0",
        "colab": {
          "base_uri": "https://localhost:8080/",
          "height": 238
        }
      },
      "source": [
        "def pmf_forecast_model_constructor(train_df, test_df, forecaster):\n",
        "  base_model = surprise.SVD(n_factors=20, n_epochs=20, biased=False)\n",
        "  return rcm.MeanDeviationsRecommender(base_model, forecaster, rcm.get_timestamps_dict(test_df))\n",
        "\n",
        "m = ut.cross_validate_cached(pmf_forecast_model_constructor, ['cross3k_3000movies0', 'cross3k_3000movies1', 'cross3k_3000movies2'])"
      ],
      "execution_count": 0,
      "outputs": [
        {
          "output_type": "stream",
          "text": [
            "RMSE: 0.8280\n",
            "MAE:  0.6380\n",
            "FCP:  0.7373\n",
            "RMSE: 0.8293\n",
            "MAE:  0.6390\n",
            "FCP:  0.7367\n",
            "RMSE: 0.8280\n",
            "MAE:  0.6384\n",
            "FCP:  0.7377\n",
            "Average RMSE = 0.8284177726871941\n",
            "Average MAE = 0.6384743082903097\n",
            "Average NDPM = 0.2889346719208716\n",
            "Average FCP = 0.7371901109780253\n"
          ],
          "name": "stdout"
        }
      ]
    },
    {
      "cell_type": "markdown",
      "metadata": {
        "id": "oh8Hnd5kNEXU",
        "colab_type": "text"
      },
      "source": [
        "## Baseline Algorithm"
      ]
    },
    {
      "cell_type": "markdown",
      "metadata": {
        "colab_type": "text",
        "id": "n3u_rK4YJSi_"
      },
      "source": [
        "### Without forecasting"
      ]
    },
    {
      "cell_type": "code",
      "metadata": {
        "id": "qJe2wJxANEXU",
        "colab_type": "code",
        "outputId": "c3e6ce30-40be-4e2d-fda8-11e8491e9bc9",
        "colab": {
          "base_uri": "https://localhost:8080/",
          "height": 289
        }
      },
      "source": [
        "def baseline_model_constructor(train_df, test_df, forecaster):\n",
        "  return surprise.prediction_algorithms.baseline_only.BaselineOnly()\n",
        "  \n",
        "ut.cross_validate_cached(baseline_model_constructor, ['cross3k_3000movies0', 'cross3k_3000movies1', 'cross3k_3000movies2'])"
      ],
      "execution_count": 0,
      "outputs": [
        {
          "output_type": "stream",
          "text": [
            "Estimating biases using als...\n",
            "RMSE: 0.8593\n",
            "MAE:  0.6605\n",
            "FCP:  0.7109\n",
            "Estimating biases using als...\n",
            "RMSE: 0.8594\n",
            "MAE:  0.6603\n",
            "FCP:  0.7103\n",
            "Estimating biases using als...\n",
            "RMSE: 0.8588\n",
            "MAE:  0.6604\n",
            "FCP:  0.7108\n",
            "Average RMSE = 0.8592043313324186\n",
            "Average MAE = 0.6603866718593452\n",
            "Average NDPM = 0.3156578810859119\n",
            "Average FCP = 0.7106698924439194\n"
          ],
          "name": "stdout"
        }
      ]
    },
    {
      "cell_type": "markdown",
      "metadata": {
        "colab_type": "text",
        "id": "4g_ygiLRJUFi"
      },
      "source": [
        "### With forecasting"
      ]
    },
    {
      "cell_type": "code",
      "metadata": {
        "id": "TfBsV5M9KBfb",
        "colab_type": "code",
        "outputId": "3e6e5f34-7ca2-4c61-bef5-d60bda782b78",
        "colab": {
          "base_uri": "https://localhost:8080/",
          "height": 289
        }
      },
      "source": [
        "def baseline_forecast_model_constructor(train_df, test_df, forecaster):\n",
        "  base_model = surprise.prediction_algorithms.baseline_only.BaselineOnly()\n",
        "  return rcm.MeanDeviationsRecommender(base_model, forecaster, rcm.get_timestamps_dict(test_df))\n",
        "  \n",
        "ut.cross_validate_cached(baseline_forecast_model_constructor, ['cross3k_3000movies0', 'cross3k_3000movies1', 'cross3k_3000movies2'])"
      ],
      "execution_count": 0,
      "outputs": [
        {
          "output_type": "stream",
          "text": [
            "Estimating biases using als...\n",
            "RMSE: 0.8565\n",
            "MAE:  0.6582\n",
            "FCP:  0.7126\n",
            "Estimating biases using als...\n",
            "RMSE: 0.8566\n",
            "MAE:  0.6580\n",
            "FCP:  0.7121\n",
            "Estimating biases using als...\n",
            "RMSE: 0.8561\n",
            "MAE:  0.6582\n",
            "FCP:  0.7123\n",
            "Average RMSE = 0.8563959678800459\n",
            "Average MAE = 0.6581581453130875\n",
            "Average NDPM = 0.3118198377044134\n",
            "Average FCP = 0.712337747764859\n"
          ],
          "name": "stdout"
        }
      ]
    },
    {
      "cell_type": "markdown",
      "metadata": {
        "id": "n5Vzdg6wdf9D",
        "colab_type": "text"
      },
      "source": [
        "# Split by time point method"
      ]
    },
    {
      "cell_type": "code",
      "metadata": {
        "id": "_pLfP7CH2UD5",
        "colab_type": "code",
        "colab": {}
      },
      "source": [
        "def test_model(model, train_dataset, test_dataset):\n",
        "  \n",
        "  model.fit(train_dataset)\n",
        "  predictions = model.test(test_dataset)\n",
        "  \n",
        "  print(\"NDPM : {}\".format(evl.NDPM(predictions))) \n",
        "  surprise.accuracy.rmse(predictions)\n",
        "  surprise.accuracy.mae(predictions)\n",
        "  surprise.accuracy.fcp(predictions)\n",
        "  \n",
        "  return predictions"
      ],
      "execution_count": 0,
      "outputs": []
    },
    {
      "cell_type": "code",
      "metadata": {
        "id": "Pv0XgL7cNEXu",
        "colab_type": "code",
        "colab": {}
      },
      "source": [
        "train_df, test_df = ds.split_dataset(movielens20m.ratings, offset_ratio=0.0, train_ratio=0.75, test_ratio=0.25, ratings_order='chrono')\n",
        "\n",
        "most_popular_movies = ut.get_popular_movies_ids(train_df, movielens20m, 2000)\n",
        "\n",
        "forecaster = rcm.RatingsForecaster(ft.LastSample)\n",
        "forecaster.compute_devs(train_df, most_popular_movies.movieId.tolist())\n",
        "forecaster.precompute_means(test_df)\n",
        "\n",
        "train_dataset = ds.to_surprise_trainset(train_df)\n",
        "test_dataset = ds.to_surprise_testset(test_df)\n",
        "test_timestamps_dict = ut.get_timestamps_dict(test_df)"
      ],
      "execution_count": 0,
      "outputs": []
    },
    {
      "cell_type": "code",
      "metadata": {
        "id": "3brN1h1ebSM9",
        "colab_type": "code",
        "colab": {}
      },
      "source": [
        "test_timestamps_dict = ut.get_timestamps_dict(test_df)"
      ],
      "execution_count": 0,
      "outputs": []
    },
    {
      "cell_type": "markdown",
      "metadata": {
        "id": "2VWuWf97NEX5",
        "colab_type": "text"
      },
      "source": [
        "## Baseline algortithm"
      ]
    },
    {
      "cell_type": "markdown",
      "metadata": {
        "id": "ukPbDg6X4DyD",
        "colab_type": "text"
      },
      "source": [
        "### Without forecasting"
      ]
    },
    {
      "cell_type": "code",
      "metadata": {
        "colab_type": "code",
        "outputId": "7fb42f1b-de18-4819-cd8a-6093ff3f53f9",
        "id": "bIeT7nCG5vUA",
        "colab": {
          "base_uri": "https://localhost:8080/",
          "height": 34
        }
      },
      "source": [
        "algo = surprise.prediction_algorithms.baseline_only.BaselineOnly()\n",
        "test_model(algo, train_dataset, test_dataset)"
      ],
      "execution_count": 0,
      "outputs": [
        {
          "output_type": "stream",
          "text": [
            "Estimating biases using als...\n"
          ],
          "name": "stdout"
        }
      ]
    },
    {
      "cell_type": "markdown",
      "metadata": {
        "id": "wao_UlqW4B2z",
        "colab_type": "text"
      },
      "source": [
        "### With forecasting"
      ]
    },
    {
      "cell_type": "code",
      "metadata": {
        "id": "TUzgegJENEX5",
        "colab_type": "code",
        "outputId": "a3348fdc-9cf2-4079-8f8f-6ff425ab825a",
        "colab": {
          "base_uri": "https://localhost:8080/",
          "height": 105
        }
      },
      "source": [
        "algo = surprise.prediction_algorithms.baseline_only.BaselineOnly()\n",
        "f_algo = rcm.MeanDeviationsRecommender(algo, forecaster, test_timestamps_dict)\n",
        "\n",
        "test_model(f_algo, train_dataset, test_dataset)"
      ],
      "execution_count": 0,
      "outputs": [
        {
          "output_type": "stream",
          "text": [
            "Estimating biases using als...\n",
            "NDPM : 0.35472955774690285\n",
            "RMSE: 0.9358\n",
            "MAE:  0.7153\n",
            "FCP:  0.6253\n"
          ],
          "name": "stdout"
        }
      ]
    },
    {
      "cell_type": "code",
      "metadata": {
        "id": "MHkLHAS1qEfd",
        "colab_type": "code",
        "outputId": "b789d72e-803b-42ba-f0ed-8b6a4257a1f8",
        "colab": {
          "base_uri": "https://localhost:8080/",
          "height": 1000
        }
      },
      "source": [
        "importlib.reload(rcm)\n",
        "importlib.reload(ft)\n",
        "importlib.reload(ds)\n",
        "importlib.reload(pytorchSR)\n",
        "importlib.reload(ut)\n",
        "algo = surprise.prediction_algorithms.baseline_only.BaselineOnly()\n",
        "f_algo = rcm.MeanDeviationsRecommender(algo, forecaster, test_timestamps_dict, True)\n",
        "\n",
        "test_model(f_algo, train_dataset, test_dataset)"
      ],
      "execution_count": 0,
      "outputs": [
        {
          "output_type": "stream",
          "text": [
            "Estimating biases using als...\n",
            "NDPM : 0.5\n",
            "RMSE: 1.7606\n",
            "MAE:  1.4358\n",
            "FCP:  0.0000\n"
          ],
          "name": "stdout"
        },
        {
          "output_type": "execute_result",
          "data": {
            "text/plain": [
              "[Prediction(uid=29882, iid=1653, r_ui=3.5, est=5.0, details={'was_impossible': False}),\n",
              " Prediction(uid=29882, iid=1639, r_ui=3.0, est=5.0, details={'was_impossible': False}),\n",
              " Prediction(uid=29882, iid=1584, r_ui=3.0, est=5.0, details={'was_impossible': False}),\n",
              " Prediction(uid=29882, iid=1552, r_ui=3.5, est=5.0, details={'was_impossible': False}),\n",
              " Prediction(uid=29882, iid=1485, r_ui=2.0, est=5.0, details={'was_impossible': False}),\n",
              " Prediction(uid=29882, iid=1407, r_ui=2.0, est=5.0, details={'was_impossible': False}),\n",
              " Prediction(uid=29882, iid=1387, r_ui=3.5, est=5.0, details={'was_impossible': False}),\n",
              " Prediction(uid=29882, iid=1370, r_ui=3.0, est=5.0, details={'was_impossible': False}),\n",
              " Prediction(uid=29882, iid=1269, r_ui=0.5, est=5.0, details={'was_impossible': False}),\n",
              " Prediction(uid=29882, iid=1213, r_ui=4.5, est=5.0, details={'was_impossible': False}),\n",
              " Prediction(uid=29882, iid=1207, r_ui=4.0, est=5.0, details={'was_impossible': False}),\n",
              " Prediction(uid=29882, iid=1089, r_ui=3.5, est=5.0, details={'was_impossible': False}),\n",
              " Prediction(uid=29882, iid=1061, r_ui=4.0, est=5.0, details={'was_impossible': False}),\n",
              " Prediction(uid=29882, iid=1029, r_ui=3.0, est=5.0, details={'was_impossible': False}),\n",
              " Prediction(uid=29882, iid=904, r_ui=3.5, est=5.0, details={'was_impossible': False}),\n",
              " Prediction(uid=29882, iid=788, r_ui=3.5, est=5.0, details={'was_impossible': False}),\n",
              " Prediction(uid=29882, iid=673, r_ui=3.0, est=5.0, details={'was_impossible': False}),\n",
              " Prediction(uid=29882, iid=647, r_ui=3.5, est=5.0, details={'was_impossible': False}),\n",
              " Prediction(uid=29882, iid=494, r_ui=3.0, est=5.0, details={'was_impossible': False}),\n",
              " Prediction(uid=29882, iid=520, r_ui=3.0, est=5.0, details={'was_impossible': False}),\n",
              " Prediction(uid=29882, iid=531, r_ui=3.0, est=5.0, details={'was_impossible': False}),\n",
              " Prediction(uid=29882, iid=440, r_ui=4.0, est=5.0, details={'was_impossible': False}),\n",
              " Prediction(uid=29882, iid=410, r_ui=2.5, est=5.0, details={'was_impossible': False}),\n",
              " Prediction(uid=29882, iid=288, r_ui=2.0, est=5.0, details={'was_impossible': False}),\n",
              " Prediction(uid=29882, iid=247, r_ui=2.5, est=5.0, details={'was_impossible': False}),\n",
              " Prediction(uid=29882, iid=182, r_ui=3.5, est=5.0, details={'was_impossible': False}),\n",
              " Prediction(uid=29882, iid=180, r_ui=3.0, est=5.0, details={'was_impossible': False}),\n",
              " Prediction(uid=29882, iid=31, r_ui=3.0, est=5.0, details={'was_impossible': False}),\n",
              " Prediction(uid=29882, iid=38038, r_ui=3.5, est=5.0, details={'was_impossible': False}),\n",
              " Prediction(uid=29882, iid=34321, r_ui=2.5, est=5.0, details={'was_impossible': False}),\n",
              " Prediction(uid=29882, iid=9004, r_ui=3.0, est=5.0, details={'was_impossible': False}),\n",
              " Prediction(uid=29882, iid=8978, r_ui=2.0, est=5.0, details={'was_impossible': False}),\n",
              " Prediction(uid=29882, iid=8376, r_ui=4.0, est=5.0, details={'was_impossible': False}),\n",
              " Prediction(uid=29882, iid=7149, r_ui=3.5, est=5.0, details={'was_impossible': False}),\n",
              " Prediction(uid=29882, iid=7107, r_ui=4.0, est=5.0, details={'was_impossible': False}),\n",
              " Prediction(uid=29882, iid=6936, r_ui=3.5, est=5.0, details={'was_impossible': False}),\n",
              " Prediction(uid=29882, iid=6827, r_ui=0.5, est=5.0, details={'was_impossible': False}),\n",
              " Prediction(uid=29882, iid=6373, r_ui=2.0, est=5.0, details={'was_impossible': False}),\n",
              " Prediction(uid=29882, iid=6308, r_ui=3.0, est=5.0, details={'was_impossible': False}),\n",
              " Prediction(uid=29882, iid=6281, r_ui=2.5, est=5.0, details={'was_impossible': False}),\n",
              " Prediction(uid=29882, iid=5956, r_ui=3.0, est=5.0, details={'was_impossible': False}),\n",
              " Prediction(uid=29882, iid=5954, r_ui=3.0, est=5.0, details={'was_impossible': False}),\n",
              " Prediction(uid=29882, iid=5836, r_ui=3.0, est=5.0, details={'was_impossible': False}),\n",
              " Prediction(uid=29882, iid=5577, r_ui=3.0, est=5.0, details={'was_impossible': False}),\n",
              " Prediction(uid=29882, iid=5574, r_ui=3.0, est=5.0, details={'was_impossible': False}),\n",
              " Prediction(uid=29882, iid=5497, r_ui=3.0, est=5.0, details={'was_impossible': False}),\n",
              " Prediction(uid=29882, iid=5442, r_ui=0.5, est=5.0, details={'was_impossible': False}),\n",
              " Prediction(uid=29882, iid=5241, r_ui=3.5, est=5.0, details={'was_impossible': False}),\n",
              " Prediction(uid=29882, iid=5049, r_ui=3.5, est=5.0, details={'was_impossible': False}),\n",
              " Prediction(uid=29882, iid=4992, r_ui=3.0, est=5.0, details={'was_impossible': False}),\n",
              " Prediction(uid=29882, iid=4980, r_ui=0.5, est=5.0, details={'was_impossible': False}),\n",
              " Prediction(uid=29882, iid=4909, r_ui=2.0, est=5.0, details={'was_impossible': False}),\n",
              " Prediction(uid=29882, iid=4816, r_ui=2.0, est=5.0, details={'was_impossible': False}),\n",
              " Prediction(uid=29882, iid=4558, r_ui=2.0, est=5.0, details={'was_impossible': False}),\n",
              " Prediction(uid=29882, iid=4520, r_ui=1.0, est=5.0, details={'was_impossible': False}),\n",
              " Prediction(uid=29882, iid=4489, r_ui=3.0, est=5.0, details={'was_impossible': False}),\n",
              " Prediction(uid=29882, iid=4238, r_ui=3.0, est=5.0, details={'was_impossible': False}),\n",
              " Prediction(uid=29882, iid=4219, r_ui=3.5, est=5.0, details={'was_impossible': False}),\n",
              " Prediction(uid=29882, iid=4127, r_ui=1.0, est=5.0, details={'was_impossible': False}),\n",
              " Prediction(uid=29882, iid=4121, r_ui=3.0, est=5.0, details={'was_impossible': False}),\n",
              " Prediction(uid=29882, iid=4084, r_ui=3.0, est=5.0, details={'was_impossible': False}),\n",
              " Prediction(uid=29882, iid=4029, r_ui=1.0, est=5.0, details={'was_impossible': False}),\n",
              " Prediction(uid=29882, iid=4015, r_ui=2.5, est=5.0, details={'was_impossible': False}),\n",
              " Prediction(uid=29882, iid=3893, r_ui=2.5, est=5.0, details={'was_impossible': False}),\n",
              " Prediction(uid=29882, iid=3763, r_ui=3.0, est=5.0, details={'was_impossible': False}),\n",
              " Prediction(uid=29882, iid=3617, r_ui=2.5, est=5.0, details={'was_impossible': False}),\n",
              " Prediction(uid=29882, iid=3513, r_ui=3.0, est=5.0, details={'was_impossible': False}),\n",
              " Prediction(uid=29882, iid=3409, r_ui=3.0, est=5.0, details={'was_impossible': False}),\n",
              " Prediction(uid=29882, iid=3398, r_ui=3.0, est=5.0, details={'was_impossible': False}),\n",
              " Prediction(uid=29882, iid=3397, r_ui=3.0, est=5.0, details={'was_impossible': False}),\n",
              " Prediction(uid=29882, iid=3298, r_ui=3.5, est=5.0, details={'was_impossible': False}),\n",
              " Prediction(uid=29882, iid=3105, r_ui=3.0, est=5.0, details={'was_impossible': False}),\n",
              " Prediction(uid=29882, iid=2990, r_ui=2.0, est=5.0, details={'was_impossible': False}),\n",
              " Prediction(uid=29882, iid=2953, r_ui=2.0, est=5.0, details={'was_impossible': False}),\n",
              " Prediction(uid=29882, iid=2795, r_ui=3.0, est=5.0, details={'was_impossible': False}),\n",
              " Prediction(uid=29882, iid=2794, r_ui=3.0, est=5.0, details={'was_impossible': False}),\n",
              " Prediction(uid=29882, iid=2558, r_ui=2.5, est=5.0, details={'was_impossible': False}),\n",
              " Prediction(uid=29882, iid=2496, r_ui=2.5, est=5.0, details={'was_impossible': False}),\n",
              " Prediction(uid=29882, iid=2316, r_ui=2.5, est=5.0, details={'was_impossible': False}),\n",
              " Prediction(uid=29882, iid=2139, r_ui=3.0, est=5.0, details={'was_impossible': False}),\n",
              " Prediction(uid=29882, iid=2088, r_ui=1.0, est=5.0, details={'was_impossible': False}),\n",
              " Prediction(uid=29882, iid=2072, r_ui=2.5, est=5.0, details={'was_impossible': False}),\n",
              " Prediction(uid=29882, iid=2018, r_ui=3.0, est=5.0, details={'was_impossible': False}),\n",
              " Prediction(uid=29882, iid=1958, r_ui=3.5, est=5.0, details={'was_impossible': False}),\n",
              " Prediction(uid=29882, iid=1754, r_ui=3.5, est=5.0, details={'was_impossible': False}),\n",
              " Prediction(uid=29882, iid=1707, r_ui=0.5, est=5.0, details={'was_impossible': False}),\n",
              " Prediction(uid=29882, iid=1615, r_ui=2.0, est=5.0, details={'was_impossible': False}),\n",
              " Prediction(uid=29882, iid=1602, r_ui=0.5, est=5.0, details={'was_impossible': False}),\n",
              " Prediction(uid=29882, iid=1586, r_ui=3.5, est=5.0, details={'was_impossible': False}),\n",
              " Prediction(uid=29882, iid=1541, r_ui=3.5, est=5.0, details={'was_impossible': False}),\n",
              " Prediction(uid=29882, iid=1461, r_ui=3.0, est=5.0, details={'was_impossible': False}),\n",
              " Prediction(uid=29882, iid=1457, r_ui=3.0, est=5.0, details={'was_impossible': False}),\n",
              " Prediction(uid=29882, iid=1449, r_ui=4.5, est=5.0, details={'was_impossible': False}),\n",
              " Prediction(uid=29882, iid=1422, r_ui=2.0, est=5.0, details={'was_impossible': False}),\n",
              " Prediction(uid=29882, iid=991, r_ui=3.0, est=5.0, details={'was_impossible': False}),\n",
              " Prediction(uid=29882, iid=911, r_ui=3.5, est=5.0, details={'was_impossible': False}),\n",
              " Prediction(uid=29882, iid=813, r_ui=2.5, est=5.0, details={'was_impossible': False}),\n",
              " Prediction(uid=29882, iid=782, r_ui=2.5, est=5.0, details={'was_impossible': False}),\n",
              " Prediction(uid=29882, iid=765, r_ui=2.5, est=5.0, details={'was_impossible': False}),\n",
              " Prediction(uid=29882, iid=688, r_ui=2.0, est=5.0, details={'was_impossible': False}),\n",
              " Prediction(uid=29882, iid=550, r_ui=2.0, est=5.0, details={'was_impossible': False}),\n",
              " Prediction(uid=29882, iid=544, r_ui=2.5, est=5.0, details={'was_impossible': False}),\n",
              " Prediction(uid=29882, iid=492, r_ui=3.5, est=5.0, details={'was_impossible': False}),\n",
              " Prediction(uid=29882, iid=415, r_ui=1.0, est=5.0, details={'was_impossible': False}),\n",
              " Prediction(uid=29882, iid=371, r_ui=2.5, est=5.0, details={'was_impossible': False}),\n",
              " Prediction(uid=29882, iid=361, r_ui=2.5, est=5.0, details={'was_impossible': False}),\n",
              " Prediction(uid=29882, iid=276, r_ui=2.5, est=5.0, details={'was_impossible': False}),\n",
              " Prediction(uid=29882, iid=125, r_ui=3.5, est=5.0, details={'was_impossible': False}),\n",
              " Prediction(uid=29882, iid=55276, r_ui=3.0, est=5.0, details={'was_impossible': False}),\n",
              " Prediction(uid=29882, iid=8937, r_ui=2.5, est=5.0, details={'was_impossible': False}),\n",
              " Prediction(uid=29882, iid=8860, r_ui=2.5, est=5.0, details={'was_impossible': False}),\n",
              " Prediction(uid=29882, iid=7444, r_ui=3.0, est=5.0, details={'was_impossible': False}),\n",
              " Prediction(uid=29882, iid=7227, r_ui=2.5, est=5.0, details={'was_impossible': False}),\n",
              " Prediction(uid=29882, iid=7161, r_ui=2.5, est=5.0, details={'was_impossible': False}),\n",
              " Prediction(uid=29882, iid=7155, r_ui=3.5, est=5.0, details={'was_impossible': False}),\n",
              " Prediction(uid=29882, iid=7076, r_ui=3.0, est=5.0, details={'was_impossible': False}),\n",
              " Prediction(uid=29882, iid=6187, r_ui=2.5, est=5.0, details={'was_impossible': False}),\n",
              " Prediction(uid=29882, iid=6166, r_ui=3.0, est=5.0, details={'was_impossible': False}),\n",
              " Prediction(uid=29882, iid=5666, r_ui=1.5, est=5.0, details={'was_impossible': False}),\n",
              " Prediction(uid=29882, iid=5524, r_ui=3.0, est=5.0, details={'was_impossible': False}),\n",
              " Prediction(uid=29882, iid=5415, r_ui=2.5, est=5.0, details={'was_impossible': False}),\n",
              " Prediction(uid=29882, iid=4719, r_ui=2.0, est=5.0, details={'was_impossible': False}),\n",
              " Prediction(uid=29882, iid=4477, r_ui=1.5, est=5.0, details={'was_impossible': False}),\n",
              " Prediction(uid=29882, iid=4352, r_ui=2.5, est=5.0, details={'was_impossible': False}),\n",
              " Prediction(uid=29882, iid=4322, r_ui=2.5, est=5.0, details={'was_impossible': False}),\n",
              " Prediction(uid=29882, iid=4010, r_ui=2.5, est=5.0, details={'was_impossible': False}),\n",
              " Prediction(uid=29882, iid=3528, r_ui=3.0, est=5.0, details={'was_impossible': False}),\n",
              " Prediction(uid=29882, iid=3392, r_ui=1.0, est=5.0, details={'was_impossible': False}),\n",
              " Prediction(uid=29882, iid=3388, r_ui=2.5, est=5.0, details={'was_impossible': False}),\n",
              " Prediction(uid=29882, iid=2883, r_ui=3.0, est=5.0, details={'was_impossible': False}),\n",
              " Prediction(uid=29882, iid=2796, r_ui=3.0, est=5.0, details={'was_impossible': False}),\n",
              " Prediction(uid=29882, iid=2439, r_ui=2.5, est=5.0, details={'was_impossible': False}),\n",
              " Prediction(uid=29882, iid=2385, r_ui=2.5, est=5.0, details={'was_impossible': False}),\n",
              " Prediction(uid=29882, iid=2261, r_ui=2.0, est=5.0, details={'was_impossible': False}),\n",
              " Prediction(uid=29882, iid=1889, r_ui=3.0, est=5.0, details={'was_impossible': False}),\n",
              " Prediction(uid=29882, iid=5952, r_ui=3.5, est=5.0, details={'was_impossible': False}),\n",
              " Prediction(uid=29882, iid=474, r_ui=3.0, est=5.0, details={'was_impossible': False}),\n",
              " Prediction(uid=29882, iid=2959, r_ui=3.5, est=5.0, details={'was_impossible': False}),\n",
              " Prediction(uid=29882, iid=2858, r_ui=3.5, est=5.0, details={'was_impossible': False}),\n",
              " Prediction(uid=29882, iid=2804, r_ui=3.5, est=5.0, details={'was_impossible': False}),\n",
              " Prediction(uid=29882, iid=1704, r_ui=3.0, est=5.0, details={'was_impossible': False}),\n",
              " Prediction(uid=29882, iid=1291, r_ui=3.5, est=5.0, details={'was_impossible': False}),\n",
              " Prediction(uid=29882, iid=59315, r_ui=3.5, est=5.0, details={'was_impossible': False}),\n",
              " Prediction(uid=29882, iid=26111, r_ui=2.5, est=5.0, details={'was_impossible': False}),\n",
              " Prediction(uid=29882, iid=2997, r_ui=4.0, est=5.0, details={'was_impossible': False}),\n",
              " Prediction(uid=29882, iid=56367, r_ui=2.5, est=5.0, details={'was_impossible': False}),\n",
              " Prediction(uid=29882, iid=46578, r_ui=4.0, est=5.0, details={'was_impossible': False}),\n",
              " Prediction(uid=29882, iid=4226, r_ui=3.0, est=5.0, details={'was_impossible': False}),\n",
              " Prediction(uid=29882, iid=1197, r_ui=3.5, est=5.0, details={'was_impossible': False}),\n",
              " Prediction(uid=29882, iid=47, r_ui=0.5, est=5.0, details={'was_impossible': False}),\n",
              " Prediction(uid=29882, iid=2762, r_ui=3.0, est=5.0, details={'was_impossible': False}),\n",
              " Prediction(uid=29882, iid=50, r_ui=3.5, est=5.0, details={'was_impossible': False}),\n",
              " Prediction(uid=29882, iid=4973, r_ui=2.5, est=5.0, details={'was_impossible': False}),\n",
              " Prediction(uid=29882, iid=6970, r_ui=3.5, est=5.0, details={'was_impossible': False}),\n",
              " Prediction(uid=29882, iid=457, r_ui=3.0, est=5.0, details={'was_impossible': False}),\n",
              " Prediction(uid=29882, iid=4993, r_ui=3.5, est=5.0, details={'was_impossible': False}),\n",
              " Prediction(uid=29882, iid=53123, r_ui=3.5, est=5.0, details={'was_impossible': False}),\n",
              " Prediction(uid=29882, iid=1198, r_ui=3.5, est=5.0, details={'was_impossible': False}),\n",
              " Prediction(uid=29882, iid=4262, r_ui=3.0, est=5.0, details={'was_impossible': False}),\n",
              " Prediction(uid=29882, iid=318, r_ui=4.0, est=5.0, details={'was_impossible': False}),\n",
              " Prediction(uid=29882, iid=1358, r_ui=4.0, est=5.0, details={'was_impossible': False}),\n",
              " Prediction(uid=29882, iid=6867, r_ui=3.5, est=5.0, details={'was_impossible': False}),\n",
              " Prediction(uid=29882, iid=1288, r_ui=4.0, est=5.0, details={'was_impossible': False}),\n",
              " Prediction(uid=29882, iid=6787, r_ui=3.5, est=5.0, details={'was_impossible': False}),\n",
              " Prediction(uid=29882, iid=8638, r_ui=4.0, est=5.0, details={'was_impossible': False}),\n",
              " Prediction(uid=29882, iid=3362, r_ui=3.0, est=5.0, details={'was_impossible': False}),\n",
              " Prediction(uid=29882, iid=3578, r_ui=3.0, est=5.0, details={'was_impossible': False}),\n",
              " Prediction(uid=29882, iid=8961, r_ui=3.5, est=5.0, details={'was_impossible': False}),\n",
              " Prediction(uid=29882, iid=7153, r_ui=4.0, est=5.0, details={'was_impossible': False}),\n",
              " Prediction(uid=29882, iid=296, r_ui=1.0, est=5.0, details={'was_impossible': False}),\n",
              " Prediction(uid=29882, iid=1258, r_ui=2.5, est=5.0, details={'was_impossible': False}),\n",
              " Prediction(uid=29882, iid=1200, r_ui=2.0, est=5.0, details={'was_impossible': False}),\n",
              " Prediction(uid=29882, iid=608, r_ui=3.0, est=5.0, details={'was_impossible': False}),\n",
              " Prediction(uid=29882, iid=3504, r_ui=3.0, est=5.0, details={'was_impossible': False}),\n",
              " Prediction(uid=29882, iid=55820, r_ui=3.0, est=5.0, details={'was_impossible': False}),\n",
              " Prediction(uid=29882, iid=32587, r_ui=3.0, est=5.0, details={'was_impossible': False}),\n",
              " Prediction(uid=29882, iid=3983, r_ui=3.5, est=5.0, details={'was_impossible': False}),\n",
              " Prediction(uid=29882, iid=1304, r_ui=3.5, est=5.0, details={'was_impossible': False}),\n",
              " Prediction(uid=29882, iid=1206, r_ui=1.5, est=5.0, details={'was_impossible': False}),\n",
              " Prediction(uid=29882, iid=1086, r_ui=3.5, est=5.0, details={'was_impossible': False}),\n",
              " Prediction(uid=29882, iid=356, r_ui=3.5, est=5.0, details={'was_impossible': False}),\n",
              " Prediction(uid=29882, iid=1235, r_ui=3.0, est=5.0, details={'was_impossible': False}),\n",
              " Prediction(uid=29882, iid=1193, r_ui=3.0, est=5.0, details={'was_impossible': False}),\n",
              " Prediction(uid=29882, iid=1234, r_ui=3.5, est=5.0, details={'was_impossible': False}),\n",
              " Prediction(uid=29882, iid=1203, r_ui=3.0, est=5.0, details={'was_impossible': False}),\n",
              " Prediction(uid=29882, iid=1263, r_ui=3.5, est=5.0, details={'was_impossible': False}),\n",
              " Prediction(uid=29882, iid=858, r_ui=3.5, est=5.0, details={'was_impossible': False}),\n",
              " Prediction(uid=29882, iid=1221, r_ui=3.5, est=5.0, details={'was_impossible': False}),\n",
              " Prediction(uid=29882, iid=1247, r_ui=3.0, est=5.0, details={'was_impossible': False}),\n",
              " Prediction(uid=29882, iid=3468, r_ui=3.0, est=5.0, details={'was_impossible': False}),\n",
              " Prediction(uid=29882, iid=800, r_ui=3.0, est=5.0, details={'was_impossible': False}),\n",
              " Prediction(uid=29882, iid=1219, r_ui=2.5, est=5.0, details={'was_impossible': False}),\n",
              " Prediction(uid=29882, iid=60487, r_ui=3.0, est=5.0, details={'was_impossible': False}),\n",
              " Prediction(uid=29882, iid=592, r_ui=3.0, est=5.0, details={'was_impossible': False}),\n",
              " Prediction(uid=29882, iid=150, r_ui=3.5, est=5.0, details={'was_impossible': False}),\n",
              " Prediction(uid=29882, iid=589, r_ui=3.5, est=5.0, details={'was_impossible': False}),\n",
              " Prediction(uid=29882, iid=1, r_ui=3.5, est=5.0, details={'was_impossible': False}),\n",
              " Prediction(uid=29882, iid=780, r_ui=3.0, est=5.0, details={'was_impossible': False}),\n",
              " Prediction(uid=29882, iid=590, r_ui=3.0, est=5.0, details={'was_impossible': False}),\n",
              " Prediction(uid=29882, iid=588, r_ui=3.5, est=5.0, details={'was_impossible': False}),\n",
              " Prediction(uid=29882, iid=377, r_ui=3.0, est=5.0, details={'was_impossible': False}),\n",
              " Prediction(uid=29882, iid=344, r_ui=2.0, est=5.0, details={'was_impossible': False}),\n",
              " Prediction(uid=29882, iid=648, r_ui=2.5, est=5.0, details={'was_impossible': False}),\n",
              " Prediction(uid=29882, iid=1270, r_ui=3.0, est=5.0, details={'was_impossible': False}),\n",
              " Prediction(uid=29882, iid=165, r_ui=3.5, est=5.0, details={'was_impossible': False}),\n",
              " Prediction(uid=29882, iid=595, r_ui=3.0, est=5.0, details={'was_impossible': False}),\n",
              " Prediction(uid=29882, iid=153, r_ui=2.5, est=5.0, details={'was_impossible': False}),\n",
              " Prediction(uid=29882, iid=736, r_ui=2.5, est=5.0, details={'was_impossible': False}),\n",
              " Prediction(uid=29882, iid=349, r_ui=3.0, est=5.0, details={'was_impossible': False}),\n",
              " Prediction(uid=29882, iid=500, r_ui=3.0, est=5.0, details={'was_impossible': False}),\n",
              " Prediction(uid=29882, iid=231, r_ui=3.0, est=5.0, details={'was_impossible': False}),\n",
              " Prediction(uid=29882, iid=367, r_ui=1.0, est=5.0, details={'was_impossible': False}),\n",
              " Prediction(uid=29882, iid=1097, r_ui=3.0, est=5.0, details={'was_impossible': False}),\n",
              " Prediction(uid=29882, iid=1721, r_ui=2.5, est=5.0, details={'was_impossible': False}),\n",
              " Prediction(uid=29882, iid=10, r_ui=2.5, est=5.0, details={'was_impossible': False}),\n",
              " Prediction(uid=29882, iid=1240, r_ui=3.5, est=5.0, details={'was_impossible': False}),\n",
              " Prediction(uid=29882, iid=539, r_ui=3.0, est=5.0, details={'was_impossible': False}),\n",
              " Prediction(uid=29882, iid=1073, r_ui=3.0, est=5.0, details={'was_impossible': False}),\n",
              " Prediction(uid=29882, iid=2628, r_ui=2.5, est=5.0, details={'was_impossible': False}),\n",
              " Prediction(uid=29882, iid=292, r_ui=2.5, est=5.0, details={'was_impossible': False}),\n",
              " Prediction(uid=29882, iid=357, r_ui=2.5, est=5.0, details={'was_impossible': False}),\n",
              " Prediction(uid=29882, iid=1265, r_ui=3.0, est=5.0, details={'was_impossible': False}),\n",
              " Prediction(uid=29882, iid=208, r_ui=1.5, est=5.0, details={'was_impossible': False}),\n",
              " Prediction(uid=29882, iid=454, r_ui=0.5, est=5.0, details={'was_impossible': False}),\n",
              " Prediction(uid=29882, iid=1036, r_ui=3.5, est=5.0, details={'was_impossible': False}),\n",
              " Prediction(uid=29882, iid=185, r_ui=2.5, est=5.0, details={'was_impossible': False}),\n",
              " Prediction(uid=29882, iid=2716, r_ui=3.0, est=5.0, details={'was_impossible': False}),\n",
              " Prediction(uid=29882, iid=39, r_ui=3.0, est=5.0, details={'was_impossible': False}),\n",
              " Prediction(uid=29882, iid=586, r_ui=3.0, est=5.0, details={'was_impossible': False}),\n",
              " Prediction(uid=29882, iid=4306, r_ui=3.5, est=5.0, details={'was_impossible': False}),\n",
              " Prediction(uid=29882, iid=21, r_ui=2.5, est=5.0, details={'was_impossible': False}),\n",
              " Prediction(uid=29882, iid=141, r_ui=2.0, est=5.0, details={'was_impossible': False}),\n",
              " Prediction(uid=29882, iid=95, r_ui=2.0, est=5.0, details={'was_impossible': False}),\n",
              " Prediction(uid=29882, iid=339, r_ui=3.0, est=5.0, details={'was_impossible': False}),\n",
              " Prediction(uid=29882, iid=6, r_ui=3.5, est=5.0, details={'was_impossible': False}),\n",
              " Prediction(uid=29882, iid=1961, r_ui=3.0, est=5.0, details={'was_impossible': False}),\n",
              " Prediction(uid=29882, iid=1527, r_ui=3.5, est=5.0, details={'was_impossible': False}),\n",
              " Prediction(uid=29882, iid=2683, r_ui=2.5, est=5.0, details={'was_impossible': False}),\n",
              " Prediction(uid=29882, iid=62, r_ui=3.0, est=5.0, details={'was_impossible': False}),\n",
              " Prediction(uid=29882, iid=3793, r_ui=3.0, est=5.0, details={'was_impossible': False}),\n",
              " Prediction(uid=29882, iid=300, r_ui=2.5, est=5.0, details={'was_impossible': False}),\n",
              " Prediction(uid=29882, iid=223, r_ui=2.5, est=5.0, details={'was_impossible': False}),\n",
              " Prediction(uid=29882, iid=1393, r_ui=3.0, est=5.0, details={'was_impossible': False}),\n",
              " Prediction(uid=29882, iid=919, r_ui=2.5, est=5.0, details={'was_impossible': False}),\n",
              " Prediction(uid=29882, iid=1517, r_ui=2.5, est=5.0, details={'was_impossible': False}),\n",
              " Prediction(uid=29882, iid=1307, r_ui=4.0, est=5.0, details={'was_impossible': False}),\n",
              " Prediction(uid=29882, iid=2987, r_ui=3.0, est=5.0, details={'was_impossible': False}),\n",
              " Prediction(uid=29882, iid=2706, r_ui=3.0, est=5.0, details={'was_impossible': False}),\n",
              " Prediction(uid=29882, iid=1784, r_ui=3.0, est=5.0, details={'was_impossible': False}),\n",
              " Prediction(uid=29882, iid=2, r_ui=2.5, est=5.0, details={'was_impossible': False}),\n",
              " Prediction(uid=29882, iid=19, r_ui=1.0, est=5.0, details={'was_impossible': False}),\n",
              " Prediction(uid=29882, iid=1917, r_ui=2.5, est=5.0, details={'was_impossible': False}),\n",
              " Prediction(uid=29882, iid=1610, r_ui=3.0, est=5.0, details={'was_impossible': False}),\n",
              " Prediction(uid=29882, iid=1968, r_ui=3.0, est=5.0, details={'was_impossible': False}),\n",
              " Prediction(uid=29882, iid=778, r_ui=2.0, est=5.0, details={'was_impossible': False}),\n",
              " Prediction(uid=29882, iid=1101, r_ui=3.0, est=5.0, details={'was_impossible': False}),\n",
              " Prediction(uid=29882, iid=11, r_ui=3.5, est=5.0, details={'was_impossible': False}),\n",
              " Prediction(uid=29882, iid=1259, r_ui=3.0, est=5.0, details={'was_impossible': False}),\n",
              " Prediction(uid=29882, iid=2355, r_ui=3.0, est=5.0, details={'was_impossible': False}),\n",
              " Prediction(uid=29882, iid=5445, r_ui=3.0, est=5.0, details={'was_impossible': False}),\n",
              " Prediction(uid=29882, iid=508, r_ui=3.5, est=5.0, details={'was_impossible': False}),\n",
              " Prediction(uid=29882, iid=1079, r_ui=3.5, est=5.0, details={'was_impossible': False}),\n",
              " Prediction(uid=29882, iid=2012, r_ui=2.0, est=5.0, details={'was_impossible': False}),\n",
              " Prediction(uid=29882, iid=2797, r_ui=3.0, est=5.0, details={'was_impossible': False}),\n",
              " Prediction(uid=29882, iid=786, r_ui=2.5, est=5.0, details={'was_impossible': False}),\n",
              " Prediction(uid=29882, iid=551, r_ui=1.5, est=5.0, details={'was_impossible': False}),\n",
              " Prediction(uid=29882, iid=104, r_ui=1.5, est=5.0, details={'was_impossible': False}),\n",
              " Prediction(uid=29882, iid=594, r_ui=3.0, est=5.0, details={'was_impossible': False}),\n",
              " Prediction(uid=29882, iid=368, r_ui=2.5, est=5.0, details={'was_impossible': False}),\n",
              " Prediction(uid=29882, iid=2011, r_ui=2.5, est=5.0, details={'was_impossible': False}),\n",
              " Prediction(uid=29882, iid=1573, r_ui=2.0, est=5.0, details={'was_impossible': False}),\n",
              " Prediction(uid=29882, iid=266, r_ui=3.0, est=5.0, details={'was_impossible': False}),\n",
              " Prediction(uid=29882, iid=708, r_ui=2.5, est=5.0, details={'was_impossible': False}),\n",
              " Prediction(uid=29882, iid=4963, r_ui=3.0, est=5.0, details={'was_impossible': False}),\n",
              " Prediction(uid=29882, iid=350, r_ui=3.0, est=5.0, details={'was_impossible': False}),\n",
              " Prediction(uid=29882, iid=2502, r_ui=4.0, est=5.0, details={'was_impossible': False}),\n",
              " Prediction(uid=29882, iid=317, r_ui=3.0, est=5.0, details={'was_impossible': False}),\n",
              " Prediction(uid=29882, iid=2700, r_ui=3.0, est=5.0, details={'was_impossible': False}),\n",
              " Prediction(uid=29882, iid=2054, r_ui=2.0, est=5.0, details={'was_impossible': False}),\n",
              " Prediction(uid=29882, iid=1391, r_ui=2.0, est=5.0, details={'was_impossible': False}),\n",
              " Prediction(uid=29882, iid=6377, r_ui=4.0, est=5.0, details={'was_impossible': False}),\n",
              " Prediction(uid=29882, iid=2000, r_ui=3.5, est=5.0, details={'was_impossible': False}),\n",
              " Prediction(uid=29882, iid=1127, r_ui=3.5, est=5.0, details={'was_impossible': False}),\n",
              " Prediction(uid=29882, iid=4995, r_ui=3.0, est=5.0, details={'was_impossible': False}),\n",
              " Prediction(uid=29882, iid=2640, r_ui=3.0, est=5.0, details={'was_impossible': False}),\n",
              " Prediction(uid=29882, iid=420, r_ui=2.0, est=5.0, details={'was_impossible': False}),\n",
              " Prediction(uid=29882, iid=4022, r_ui=3.0, est=5.0, details={'was_impossible': False}),\n",
              " Prediction(uid=29882, iid=1641, r_ui=4.0, est=5.0, details={'was_impossible': False}),\n",
              " Prediction(uid=29882, iid=1380, r_ui=3.0, est=5.0, details={'was_impossible': False}),\n",
              " Prediction(uid=29882, iid=2617, r_ui=3.0, est=5.0, details={'was_impossible': False}),\n",
              " Prediction(uid=29882, iid=160, r_ui=1.5, est=5.0, details={'was_impossible': False}),\n",
              " Prediction(uid=29882, iid=3, r_ui=3.0, est=5.0, details={'was_impossible': False}),\n",
              " Prediction(uid=29882, iid=832, r_ui=2.5, est=5.0, details={'was_impossible': False}),\n",
              " Prediction(uid=29882, iid=3408, r_ui=3.0, est=5.0, details={'was_impossible': False}),\n",
              " Prediction(uid=29882, iid=3977, r_ui=3.0, est=5.0, details={'was_impossible': False}),\n",
              " Prediction(uid=29882, iid=7, r_ui=3.0, est=5.0, details={'was_impossible': False}),\n",
              " Prediction(uid=29882, iid=784, r_ui=1.5, est=5.0, details={'was_impossible': False}),\n",
              " Prediction(uid=29882, iid=1394, r_ui=3.0, est=5.0, details={'was_impossible': False}),\n",
              " Prediction(uid=29882, iid=1500, r_ui=3.5, est=5.0, details={'was_impossible': False}),\n",
              " Prediction(uid=79828, iid=54997, r_ui=3.0, est=5.0, details={'was_impossible': False}),\n",
              " Prediction(uid=79828, iid=6993, r_ui=3.5, est=5.0, details={'was_impossible': False}),\n",
              " Prediction(uid=79828, iid=62437, r_ui=2.0, est=5.0, details={'was_impossible': False}),\n",
              " Prediction(uid=79828, iid=319, r_ui=4.0, est=5.0, details={'was_impossible': False}),\n",
              " Prediction(uid=79828, iid=63113, r_ui=4.0, est=5.0, details={'was_impossible': False}),\n",
              " Prediction(uid=79828, iid=6818, r_ui=3.5, est=5.0, details={'was_impossible': False}),\n",
              " Prediction(uid=79828, iid=39768, r_ui=5.0, est=5.0, details={'was_impossible': False}),\n",
              " Prediction(uid=79828, iid=3645, r_ui=3.5, est=5.0, details={'was_impossible': False}),\n",
              " Prediction(uid=79828, iid=59118, r_ui=4.5, est=5.0, details={'was_impossible': False}),\n",
              " Prediction(uid=79828, iid=2730, r_ui=4.0, est=5.0, details={'was_impossible': False}),\n",
              " Prediction(uid=79828, iid=2788, r_ui=4.5, est=5.0, details={'was_impossible': False}),\n",
              " Prediction(uid=79828, iid=356, r_ui=4.5, est=5.0, details={'was_impossible': False}),\n",
              " Prediction(uid=79828, iid=593, r_ui=4.5, est=5.0, details={'was_impossible': False}),\n",
              " Prediction(uid=79828, iid=454, r_ui=3.5, est=5.0, details={'was_impossible': False}),\n",
              " Prediction(uid=79828, iid=4973, r_ui=4.5, est=5.0, details={'was_impossible': False}),\n",
              " Prediction(uid=79828, iid=1732, r_ui=4.5, est=5.0, details={'was_impossible': False}),\n",
              " Prediction(uid=79828, iid=2131, r_ui=4.0, est=5.0, details={'was_impossible': False}),\n",
              " Prediction(uid=79828, iid=5147, r_ui=4.0, est=5.0, details={'was_impossible': False}),\n",
              " Prediction(uid=79828, iid=8529, r_ui=3.5, est=5.0, details={'was_impossible': False}),\n",
              " Prediction(uid=79828, iid=2840, r_ui=2.0, est=5.0, details={'was_impossible': False}),\n",
              " Prediction(uid=79828, iid=1464, r_ui=4.5, est=5.0, details={'was_impossible': False}),\n",
              " Prediction(uid=79828, iid=7297, r_ui=4.5, est=5.0, details={'was_impossible': False}),\n",
              " Prediction(uid=79828, iid=39292, r_ui=4.5, est=5.0, details={'was_impossible': False}),\n",
              " Prediction(uid=79828, iid=1844, r_ui=4.0, est=5.0, details={'was_impossible': False}),\n",
              " Prediction(uid=79828, iid=60766, r_ui=4.0, est=5.0, details={'was_impossible': False}),\n",
              " Prediction(uid=79828, iid=1228, r_ui=3.5, est=5.0, details={'was_impossible': False}),\n",
              " Prediction(uid=79828, iid=5291, r_ui=3.5, est=5.0, details={'was_impossible': False}),\n",
              " Prediction(uid=79828, iid=63082, r_ui=4.0, est=5.0, details={'was_impossible': False}),\n",
              " Prediction(uid=79828, iid=8014, r_ui=4.0, est=5.0, details={'was_impossible': False}),\n",
              " Prediction(uid=79828, iid=67422, r_ui=4.5, est=5.0, details={'was_impossible': False}),\n",
              " Prediction(uid=79828, iid=69640, r_ui=3.0, est=5.0, details={'was_impossible': False}),\n",
              " Prediction(uid=79828, iid=2585, r_ui=4.0, est=5.0, details={'was_impossible': False}),\n",
              " Prediction(uid=79828, iid=40586, r_ui=4.0, est=5.0, details={'was_impossible': False}),\n",
              " Prediction(uid=79828, iid=53894, r_ui=4.5, est=5.0, details={'was_impossible': False}),\n",
              " Prediction(uid=79828, iid=68157, r_ui=5.0, est=5.0, details={'was_impossible': False}),\n",
              " Prediction(uid=79828, iid=1199, r_ui=4.5, est=5.0, details={'was_impossible': False}),\n",
              " Prediction(uid=79828, iid=8874, r_ui=4.0, est=5.0, details={'was_impossible': False}),\n",
              " Prediction(uid=79828, iid=31952, r_ui=3.5, est=5.0, details={'was_impossible': False}),\n",
              " Prediction(uid=79828, iid=57669, r_ui=4.5, est=5.0, details={'was_impossible': False}),\n",
              " Prediction(uid=79828, iid=67734, r_ui=4.5, est=5.0, details={'was_impossible': False}),\n",
              " Prediction(uid=79828, iid=68954, r_ui=3.5, est=5.0, details={'was_impossible': False}),\n",
              " Prediction(uid=79828, iid=55444, r_ui=4.0, est=5.0, details={'was_impossible': False}),\n",
              " Prediction(uid=79828, iid=914, r_ui=4.0, est=5.0, details={'was_impossible': False}),\n",
              " Prediction(uid=79828, iid=617, r_ui=4.0, est=5.0, details={'was_impossible': False}),\n",
              " Prediction(uid=79828, iid=1963, r_ui=4.5, est=5.0, details={'was_impossible': False}),\n",
              " Prediction(uid=79828, iid=26810, r_ui=3.5, est=5.0, details={'was_impossible': False}),\n",
              " Prediction(uid=79828, iid=30803, r_ui=4.0, est=5.0, details={'was_impossible': False}),\n",
              " Prediction(uid=79828, iid=8973, r_ui=4.0, est=5.0, details={'was_impossible': False}),\n",
              " Prediction(uid=79828, iid=592, r_ui=3.5, est=5.0, details={'was_impossible': False}),\n",
              " Prediction(uid=79828, iid=3671, r_ui=4.0, est=5.0, details={'was_impossible': False}),\n",
              " Prediction(uid=79828, iid=3655, r_ui=3.0, est=5.0, details={'was_impossible': False}),\n",
              " Prediction(uid=79828, iid=48385, r_ui=4.0, est=5.0, details={'was_impossible': False}),\n",
              " Prediction(uid=79828, iid=3977, r_ui=4.0, est=5.0, details={'was_impossible': False}),\n",
              " Prediction(uid=79828, iid=33166, r_ui=4.0, est=5.0, details={'was_impossible': False}),\n",
              " Prediction(uid=79828, iid=1263, r_ui=3.5, est=5.0, details={'was_impossible': False}),\n",
              " Prediction(uid=79828, iid=5872, r_ui=3.5, est=5.0, details={'was_impossible': False}),\n",
              " Prediction(uid=79828, iid=7361, r_ui=4.5, est=5.0, details={'was_impossible': False}),\n",
              " Prediction(uid=79828, iid=1586, r_ui=3.0, est=5.0, details={'was_impossible': False}),\n",
              " Prediction(uid=79828, iid=1388, r_ui=1.0, est=5.0, details={'was_impossible': False}),\n",
              " Prediction(uid=79828, iid=30810, r_ui=4.5, est=5.0, details={'was_impossible': False}),\n",
              " Prediction(uid=79828, iid=3814, r_ui=4.5, est=5.0, details={'was_impossible': False}),\n",
              " Prediction(uid=79828, iid=6947, r_ui=2.5, est=5.0, details={'was_impossible': False}),\n",
              " Prediction(uid=79828, iid=2617, r_ui=1.0, est=5.0, details={'was_impossible': False}),\n",
              " Prediction(uid=79828, iid=8972, r_ui=2.5, est=5.0, details={'was_impossible': False}),\n",
              " Prediction(uid=79828, iid=2161, r_ui=3.5, est=5.0, details={'was_impossible': False}),\n",
              " Prediction(uid=79828, iid=788, r_ui=0.5, est=5.0, details={'was_impossible': False}),\n",
              " Prediction(uid=79828, iid=2502, r_ui=4.5, est=5.0, details={'was_impossible': False}),\n",
              " Prediction(uid=79828, iid=296, r_ui=5.0, est=5.0, details={'was_impossible': False}),\n",
              " Prediction(uid=79828, iid=3949, r_ui=2.5, est=5.0, details={'was_impossible': False}),\n",
              " Prediction(uid=79828, iid=1407, r_ui=1.0, est=5.0, details={'was_impossible': False}),\n",
              " Prediction(uid=79828, iid=68073, r_ui=4.0, est=5.0, details={'was_impossible': False}),\n",
              " Prediction(uid=79828, iid=2973, r_ui=3.5, est=5.0, details={'was_impossible': False}),\n",
              " Prediction(uid=79828, iid=1394, r_ui=3.5, est=5.0, details={'was_impossible': False}),\n",
              " Prediction(uid=79828, iid=64197, r_ui=4.0, est=5.0, details={'was_impossible': False}),\n",
              " Prediction(uid=79828, iid=3681, r_ui=4.0, est=5.0, details={'was_impossible': False}),\n",
              " Prediction(uid=79828, iid=7983, r_ui=4.0, est=5.0, details={'was_impossible': False}),\n",
              " Prediction(uid=79828, iid=36363, r_ui=4.5, est=5.0, details={'was_impossible': False}),\n",
              " Prediction(uid=79828, iid=6442, r_ui=4.5, est=5.0, details={'was_impossible': False}),\n",
              " Prediction(uid=79828, iid=58425, r_ui=4.5, est=5.0, details={'was_impossible': False}),\n",
              " Prediction(uid=79828, iid=61724, r_ui=4.0, est=5.0, details={'was_impossible': False}),\n",
              " Prediction(uid=79828, iid=63808, r_ui=4.0, est=5.0, details={'was_impossible': False}),\n",
              " Prediction(uid=79828, iid=4996, r_ui=2.5, est=5.0, details={'was_impossible': False}),\n",
              " Prediction(uid=79828, iid=73017, r_ui=4.0, est=5.0, details={'was_impossible': False}),\n",
              " Prediction(uid=79828, iid=52694, r_ui=4.0, est=5.0, details={'was_impossible': False}),\n",
              " Prediction(uid=79828, iid=1125, r_ui=1.0, est=5.0, details={'was_impossible': False}),\n",
              " Prediction(uid=79828, iid=56715, r_ui=4.5, est=5.0, details={'was_impossible': False}),\n",
              " Prediction(uid=79828, iid=1278, r_ui=4.0, est=5.0, details={'was_impossible': False}),\n",
              " Prediction(uid=79828, iid=55069, r_ui=3.5, est=5.0, details={'was_impossible': False}),\n",
              " Prediction(uid=79828, iid=48394, r_ui=4.0, est=5.0, details={'was_impossible': False}),\n",
              " Prediction(uid=79828, iid=66097, r_ui=4.0, est=5.0, details={'was_impossible': False}),\n",
              " Prediction(uid=79828, iid=72226, r_ui=4.5, est=5.0, details={'was_impossible': False}),\n",
              " Prediction(uid=79828, iid=55280, r_ui=4.0, est=5.0, details={'was_impossible': False}),\n",
              " Prediction(uid=79828, iid=74789, r_ui=3.5, est=5.0, details={'was_impossible': False}),\n",
              " Prediction(uid=79828, iid=3361, r_ui=3.5, est=5.0, details={'was_impossible': False}),\n",
              " Prediction(uid=79828, iid=74545, r_ui=4.0, est=5.0, details={'was_impossible': False}),\n",
              " Prediction(uid=79828, iid=55276, r_ui=4.0, est=5.0, details={'was_impossible': False}),\n",
              " Prediction(uid=79828, iid=3130, r_ui=3.0, est=5.0, details={'was_impossible': False}),\n",
              " Prediction(uid=79828, iid=1947, r_ui=3.0, est=5.0, details={'was_impossible': False}),\n",
              " Prediction(uid=79828, iid=67997, r_ui=4.0, est=5.0, details={'was_impossible': False}),\n",
              " Prediction(uid=79828, iid=2243, r_ui=3.5, est=5.0, details={'was_impossible': False}),\n",
              " Prediction(uid=79828, iid=60069, r_ui=4.0, est=5.0, details={'was_impossible': False}),\n",
              " Prediction(uid=79828, iid=63179, r_ui=4.0, est=5.0, details={'was_impossible': False}),\n",
              " Prediction(uid=79828, iid=70286, r_ui=4.5, est=5.0, details={'was_impossible': False}),\n",
              " Prediction(uid=79828, iid=714, r_ui=4.5, est=5.0, details={'was_impossible': False}),\n",
              " Prediction(uid=79828, iid=1208, r_ui=4.5, est=5.0, details={'was_impossible': False}),\n",
              " Prediction(uid=79828, iid=2115, r_ui=4.0, est=5.0, details={'was_impossible': False}),\n",
              " Prediction(uid=79828, iid=67193, r_ui=4.5, est=5.0, details={'was_impossible': False}),\n",
              " Prediction(uid=79828, iid=2360, r_ui=4.0, est=5.0, details={'was_impossible': False}),\n",
              " Prediction(uid=79828, iid=1225, r_ui=4.0, est=5.0, details={'was_impossible': False}),\n",
              " Prediction(uid=79828, iid=26840, r_ui=3.0, est=5.0, details={'was_impossible': False}),\n",
              " Prediction(uid=79828, iid=69458, r_ui=4.0, est=5.0, details={'was_impossible': False}),\n",
              " Prediction(uid=79828, iid=66813, r_ui=4.5, est=5.0, details={'was_impossible': False}),\n",
              " Prediction(uid=79828, iid=33893, r_ui=4.0, est=5.0, details={'was_impossible': False}),\n",
              " Prediction(uid=79828, iid=71579, r_ui=4.0, est=5.0, details={'was_impossible': False}),\n",
              " Prediction(uid=79828, iid=52952, r_ui=4.0, est=5.0, details={'was_impossible': False}),\n",
              " Prediction(uid=79828, iid=71899, r_ui=4.5, est=5.0, details={'was_impossible': False}),\n",
              " Prediction(uid=79828, iid=72330, r_ui=4.0, est=5.0, details={'was_impossible': False}),\n",
              " Prediction(uid=79828, iid=69951, r_ui=4.0, est=5.0, details={'was_impossible': False}),\n",
              " Prediction(uid=79828, iid=64285, r_ui=4.0, est=5.0, details={'was_impossible': False}),\n",
              " Prediction(uid=79828, iid=72479, r_ui=4.0, est=5.0, details={'was_impossible': False}),\n",
              " Prediction(uid=79828, iid=3078, r_ui=3.5, est=5.0, details={'was_impossible': False}),\n",
              " Prediction(uid=79828, iid=8117, r_ui=4.5, est=5.0, details={'was_impossible': False}),\n",
              " Prediction(uid=79828, iid=79132, r_ui=4.0, est=5.0, details={'was_impossible': False}),\n",
              " Prediction(uid=79828, iid=80864, r_ui=3.5, est=5.0, details={'was_impossible': False}),\n",
              " Prediction(uid=79828, iid=76173, r_ui=4.0, est=5.0, details={'was_impossible': False}),\n",
              " Prediction(uid=79828, iid=51255, r_ui=4.0, est=5.0, details={'was_impossible': False}),\n",
              " Prediction(uid=79828, iid=76251, r_ui=4.0, est=5.0, details={'was_impossible': False}),\n",
              " Prediction(uid=79828, iid=73681, r_ui=4.0, est=5.0, details={'was_impossible': False}),\n",
              " Prediction(uid=79828, iid=6370, r_ui=4.0, est=5.0, details={'was_impossible': False}),\n",
              " Prediction(uid=79828, iid=34198, r_ui=3.5, est=5.0, details={'was_impossible': False}),\n",
              " Prediction(uid=79828, iid=1288, r_ui=4.0, est=5.0, details={'was_impossible': False}),\n",
              " Prediction(uid=79828, iid=79702, r_ui=3.5, est=5.0, details={'was_impossible': False}),\n",
              " Prediction(uid=79828, iid=5368, r_ui=4.0, est=5.0, details={'was_impossible': False}),\n",
              " Prediction(uid=79828, iid=78122, r_ui=4.0, est=5.0, details={'was_impossible': False}),\n",
              " Prediction(uid=79828, iid=1235, r_ui=4.0, est=5.0, details={'was_impossible': False}),\n",
              " Prediction(uid=79828, iid=82202, r_ui=4.0, est=5.0, details={'was_impossible': False}),\n",
              " Prediction(uid=79828, iid=61323, r_ui=4.5, est=5.0, details={'was_impossible': False}),\n",
              " Prediction(uid=79828, iid=53887, r_ui=3.5, est=5.0, details={'was_impossible': False}),\n",
              " Prediction(uid=79828, iid=26268, r_ui=4.0, est=5.0, details={'was_impossible': False}),\n",
              " Prediction(uid=79828, iid=3618, r_ui=4.0, est=5.0, details={'was_impossible': False}),\n",
              " Prediction(uid=79828, iid=46967, r_ui=4.5, est=5.0, details={'was_impossible': False}),\n",
              " Prediction(uid=79828, iid=53956, r_ui=4.0, est=5.0, details={'was_impossible': False}),\n",
              " Prediction(uid=79828, iid=58295, r_ui=3.0, est=5.0, details={'was_impossible': False}),\n",
              " Prediction(uid=79828, iid=2413, r_ui=4.0, est=5.0, details={'was_impossible': False}),\n",
              " Prediction(uid=79828, iid=80463, r_ui=4.5, est=5.0, details={'was_impossible': False}),\n",
              " Prediction(uid=79828, iid=50011, r_ui=4.5, est=5.0, details={'was_impossible': False}),\n",
              " Prediction(uid=79828, iid=79242, r_ui=4.0, est=5.0, details={'was_impossible': False}),\n",
              " Prediction(uid=79828, iid=4027, r_ui=3.5, est=5.0, details={'was_impossible': False}),\n",
              " Prediction(uid=79828, iid=81845, r_ui=4.0, est=5.0, details={'was_impossible': False}),\n",
              " Prediction(uid=79828, iid=77307, r_ui=4.5, est=5.0, details={'was_impossible': False}),\n",
              " Prediction(uid=79828, iid=80219, r_ui=3.5, est=5.0, details={'was_impossible': False}),\n",
              " Prediction(uid=79828, iid=81591, r_ui=3.0, est=5.0, details={'was_impossible': False}),\n",
              " Prediction(uid=79828, iid=60735, r_ui=3.0, est=5.0, details={'was_impossible': False}),\n",
              " Prediction(uid=79828, iid=57243, r_ui=4.5, est=5.0, details={'was_impossible': False}),\n",
              " Prediction(uid=79828, iid=3317, r_ui=4.0, est=5.0, details={'was_impossible': False}),\n",
              " Prediction(uid=79828, iid=81932, r_ui=4.0, est=5.0, details={'was_impossible': False}),\n",
              " Prediction(uid=79828, iid=4280, r_ui=4.0, est=5.0, details={'was_impossible': False}),\n",
              " Prediction(uid=79828, iid=27820, r_ui=4.0, est=5.0, details={'was_impossible': False}),\n",
              " Prediction(uid=79828, iid=82459, r_ui=4.0, est=5.0, details={'was_impossible': False}),\n",
              " Prediction(uid=79828, iid=85540, r_ui=1.5, est=5.0, details={'was_impossible': False}),\n",
              " Prediction(uid=79828, iid=87234, r_ui=4.5, est=5.0, details={'was_impossible': False}),\n",
              " Prediction(uid=79828, iid=86190, r_ui=4.0, est=5.0, details={'was_impossible': False}),\n",
              " Prediction(uid=79828, iid=32562, r_ui=4.5, est=5.0, details={'was_impossible': False}),\n",
              " Prediction(uid=79828, iid=88127, r_ui=3.5, est=5.0, details={'was_impossible': False}),\n",
              " Prediction(uid=79828, iid=87876, r_ui=3.0, est=5.0, details={'was_impossible': False}),\n",
              " Prediction(uid=79828, iid=223, r_ui=3.0, est=5.0, details={'was_impossible': False}),\n",
              " Prediction(uid=79828, iid=69481, r_ui=3.5, est=5.0, details={'was_impossible': False}),\n",
              " Prediction(uid=79828, iid=235, r_ui=3.5, est=5.0, details={'was_impossible': False}),\n",
              " Prediction(uid=79828, iid=87869, r_ui=4.0, est=5.0, details={'was_impossible': False}),\n",
              " Prediction(uid=79828, iid=893, r_ui=4.0, est=5.0, details={'was_impossible': False}),\n",
              " Prediction(uid=79828, iid=91902, r_ui=4.0, est=5.0, details={'was_impossible': False}),\n",
              " Prediction(uid=79828, iid=99114, r_ui=4.5, est=5.0, details={'was_impossible': False}),\n",
              " Prediction(uid=79828, iid=86882, r_ui=4.0, est=5.0, details={'was_impossible': False}),\n",
              " Prediction(uid=79828, iid=96079, r_ui=4.0, est=5.0, details={'was_impossible': False}),\n",
              " Prediction(uid=79828, iid=1078, r_ui=4.0, est=5.0, details={'was_impossible': False}),\n",
              " Prediction(uid=79828, iid=67255, r_ui=3.0, est=5.0, details={'was_impossible': False}),\n",
              " Prediction(uid=79828, iid=5782, r_ui=4.0, est=5.0, details={'was_impossible': False}),\n",
              " Prediction(uid=79828, iid=91542, r_ui=4.0, est=5.0, details={'was_impossible': False}),\n",
              " Prediction(uid=79828, iid=293, r_ui=4.0, est=5.0, details={'was_impossible': False}),\n",
              " Prediction(uid=79828, iid=89492, r_ui=4.0, est=5.0, details={'was_impossible': False}),\n",
              " Prediction(uid=79828, iid=2951, r_ui=4.0, est=5.0, details={'was_impossible': False}),\n",
              " Prediction(uid=79828, iid=59784, r_ui=3.5, est=5.0, details={'was_impossible': False}),\n",
              " Prediction(uid=79828, iid=6666, r_ui=4.0, est=5.0, details={'was_impossible': False}),\n",
              " Prediction(uid=79828, iid=8033, r_ui=4.0, est=5.0, details={'was_impossible': False}),\n",
              " Prediction(uid=79828, iid=74458, r_ui=4.0, est=5.0, details={'was_impossible': False}),\n",
              " Prediction(uid=79828, iid=86320, r_ui=2.0, est=5.0, details={'was_impossible': False}),\n",
              " Prediction(uid=79828, iid=780, r_ui=1.5, est=5.0, details={'was_impossible': False}),\n",
              " Prediction(uid=79828, iid=69122, r_ui=3.5, est=5.0, details={'was_impossible': False}),\n",
              " Prediction(uid=79828, iid=94677, r_ui=4.0, est=5.0, details={'was_impossible': False}),\n",
              " Prediction(uid=79828, iid=215, r_ui=2.5, est=5.0, details={'was_impossible': False}),\n",
              " Prediction(uid=79828, iid=106782, r_ui=3.0, est=5.0, details={'was_impossible': False}),\n",
              " Prediction(uid=79828, iid=720, r_ui=4.5, est=5.0, details={'was_impossible': False}),\n",
              " Prediction(uid=79828, iid=54995, r_ui=4.0, est=5.0, details={'was_impossible': False}),\n",
              " Prediction(uid=79828, iid=94959, r_ui=4.5, est=5.0, details={'was_impossible': False}),\n",
              " Prediction(uid=79828, iid=541, r_ui=3.5, est=5.0, details={'was_impossible': False}),\n",
              " Prediction(uid=79828, iid=1148, r_ui=4.0, est=5.0, details={'was_impossible': False}),\n",
              " Prediction(uid=79828, iid=72720, r_ui=4.0, est=5.0, details={'was_impossible': False}),\n",
              " Prediction(uid=79828, iid=1209, r_ui=4.5, est=5.0, details={'was_impossible': False}),\n",
              " Prediction(uid=79828, iid=96821, r_ui=3.5, est=5.0, details={'was_impossible': False}),\n",
              " Prediction(uid=84404, iid=6155, r_ui=3.5, est=5.0, details={'was_impossible': False}),\n",
              " Prediction(uid=84404, iid=5299, r_ui=3.5, est=5.0, details={'was_impossible': False}),\n",
              " Prediction(uid=84404, iid=44195, r_ui=4.0, est=5.0, details={'was_impossible': False}),\n",
              " Prediction(uid=84404, iid=49793, r_ui=3.0, est=5.0, details={'was_impossible': False}),\n",
              " Prediction(uid=84404, iid=45081, r_ui=3.5, est=5.0, details={'was_impossible': False}),\n",
              " Prediction(uid=84404, iid=6323, r_ui=4.0, est=5.0, details={'was_impossible': False}),\n",
              " Prediction(uid=84404, iid=4011, r_ui=4.5, est=5.0, details={'was_impossible': False}),\n",
              " Prediction(uid=84404, iid=7458, r_ui=4.0, est=5.0, details={'was_impossible': False}),\n",
              " Prediction(uid=84404, iid=62439, r_ui=2.5, est=5.0, details={'was_impossible': False}),\n",
              " Prediction(uid=84404, iid=27797, r_ui=2.5, est=5.0, details={'was_impossible': False}),\n",
              " Prediction(uid=84404, iid=6, r_ui=3.5, est=5.0, details={'was_impossible': False}),\n",
              " Prediction(uid=84404, iid=1089, r_ui=4.0, est=5.0, details={'was_impossible': False}),\n",
              " Prediction(uid=84404, iid=37741, r_ui=3.5, est=5.0, details={'was_impossible': False}),\n",
              " Prediction(uid=84404, iid=6754, r_ui=3.5, est=5.0, details={'was_impossible': False}),\n",
              " Prediction(uid=84404, iid=34532, r_ui=4.0, est=5.0, details={'was_impossible': False}),\n",
              " Prediction(uid=84404, iid=31696, r_ui=3.0, est=5.0, details={'was_impossible': False}),\n",
              " Prediction(uid=84404, iid=53000, r_ui=3.5, est=5.0, details={'was_impossible': False}),\n",
              " Prediction(uid=84404, iid=7360, r_ui=3.5, est=5.0, details={'was_impossible': False}),\n",
              " Prediction(uid=84404, iid=8874, r_ui=1.0, est=5.0, details={'was_impossible': False}),\n",
              " Prediction(uid=84404, iid=8132, r_ui=4.5, est=5.0, details={'was_impossible': False}),\n",
              " Prediction(uid=84404, iid=40732, r_ui=2.5, est=5.0, details={'was_impossible': False}),\n",
              " Prediction(uid=84404, iid=4226, r_ui=4.0, est=5.0, details={'was_impossible': False}),\n",
              " Prediction(uid=84404, iid=2594, r_ui=4.0, est=5.0, details={'was_impossible': False}),\n",
              " Prediction(uid=84404, iid=1213, r_ui=4.5, est=5.0, details={'was_impossible': False}),\n",
              " Prediction(uid=84404, iid=45517, r_ui=4.0, est=5.0, details={'was_impossible': False}),\n",
              " Prediction(uid=84404, iid=37729, r_ui=2.5, est=5.0, details={'was_impossible': False}),\n",
              " Prediction(uid=84404, iid=33615, r_ui=4.0, est=5.0, details={'was_impossible': False}),\n",
              " Prediction(uid=84404, iid=2542, r_ui=4.0, est=5.0, details={'was_impossible': False}),\n",
              " Prediction(uid=84404, iid=5903, r_ui=2.5, est=5.0, details={'was_impossible': False}),\n",
              " Prediction(uid=84404, iid=1220, r_ui=4.0, est=5.0, details={'was_impossible': False}),\n",
              " Prediction(uid=84404, iid=1617, r_ui=4.5, est=5.0, details={'was_impossible': False}),\n",
              " Prediction(uid=84404, iid=4995, r_ui=4.0, est=5.0, details={'was_impossible': False}),\n",
              " Prediction(uid=84404, iid=54997, r_ui=3.5, est=5.0, details={'was_impossible': False}),\n",
              " Prediction(uid=84404, iid=55247, r_ui=4.0, est=5.0, details={'was_impossible': False}),\n",
              " Prediction(uid=84404, iid=46974, r_ui=1.0, est=5.0, details={'was_impossible': False}),\n",
              " Prediction(uid=84404, iid=46972, r_ui=3.5, est=5.0, details={'was_impossible': False}),\n",
              " Prediction(uid=84404, iid=59315, r_ui=3.5, est=5.0, details={'was_impossible': False}),\n",
              " Prediction(uid=84404, iid=30793, r_ui=3.5, est=5.0, details={'was_impossible': False}),\n",
              " Prediction(uid=84404, iid=48738, r_ui=4.5, est=5.0, details={'was_impossible': False}),\n",
              " Prediction(uid=84404, iid=60069, r_ui=4.0, est=5.0, details={'was_impossible': False}),\n",
              " Prediction(uid=84404, iid=60950, r_ui=4.0, est=5.0, details={'was_impossible': False}),\n",
              " Prediction(uid=84404, iid=64497, r_ui=1.5, est=5.0, details={'was_impossible': False}),\n",
              " Prediction(uid=84404, iid=63859, r_ui=3.5, est=5.0, details={'was_impossible': False}),\n",
              " Prediction(uid=84404, iid=64716, r_ui=2.5, est=5.0, details={'was_impossible': False}),\n",
              " Prediction(uid=84404, iid=65994, r_ui=1.0, est=5.0, details={'was_impossible': False}),\n",
              " Prediction(uid=84404, iid=253, r_ui=4.0, est=5.0, details={'was_impossible': False}),\n",
              " Prediction(uid=84404, iid=46723, r_ui=3.5, est=5.0, details={'was_impossible': False}),\n",
              " Prediction(uid=84404, iid=60072, r_ui=3.5, est=5.0, details={'was_impossible': False}),\n",
              " Prediction(uid=84404, iid=62999, r_ui=3.5, est=5.0, details={'was_impossible': False}),\n",
              " Prediction(uid=84404, iid=65130, r_ui=2.0, est=5.0, details={'was_impossible': False}),\n",
              " Prediction(uid=84404, iid=64983, r_ui=4.0, est=5.0, details={'was_impossible': False}),\n",
              " Prediction(uid=84404, iid=6249, r_ui=3.0, est=5.0, details={'was_impossible': False}),\n",
              " Prediction(uid=84404, iid=8798, r_ui=4.0, est=5.0, details={'was_impossible': False}),\n",
              " Prediction(uid=84404, iid=1090, r_ui=4.0, est=5.0, details={'was_impossible': False}),\n",
              " Prediction(uid=84404, iid=5266, r_ui=3.0, est=5.0, details={'was_impossible': False}),\n",
              " Prediction(uid=84404, iid=63113, r_ui=2.5, est=5.0, details={'was_impossible': False}),\n",
              " Prediction(uid=84404, iid=61323, r_ui=3.5, est=5.0, details={'was_impossible': False}),\n",
              " Prediction(uid=84404, iid=55290, r_ui=3.5, est=5.0, details={'was_impossible': False}),\n",
              " Prediction(uid=84404, iid=61240, r_ui=3.0, est=5.0, details={'was_impossible': False}),\n",
              " Prediction(uid=84404, iid=49286, r_ui=3.5, est=5.0, details={'was_impossible': False}),\n",
              " Prediction(uid=84404, iid=4262, r_ui=4.0, est=5.0, details={'was_impossible': False}),\n",
              " Prediction(uid=84404, iid=48142, r_ui=3.5, est=5.0, details={'was_impossible': False}),\n",
              " Prediction(uid=84404, iid=60760, r_ui=2.0, est=5.0, details={'was_impossible': False}),\n",
              " Prediction(uid=84404, iid=55999, r_ui=3.0, est=5.0, details={'was_impossible': False}),\n",
              " Prediction(uid=84404, iid=63278, r_ui=3.5, est=5.0, details={'was_impossible': False}),\n",
              " Prediction(uid=84404, iid=45950, r_ui=4.0, est=5.0, details={'was_impossible': False}),\n",
              " Prediction(uid=84404, iid=61132, r_ui=1.5, est=5.0, details={'was_impossible': False}),\n",
              " Prediction(uid=84404, iid=65642, r_ui=4.0, est=5.0, details={'was_impossible': False}),\n",
              " Prediction(uid=84404, iid=63853, r_ui=2.5, est=5.0, details={'was_impossible': False}),\n",
              " Prediction(uid=84404, iid=47640, r_ui=2.0, est=5.0, details={'was_impossible': False}),\n",
              " Prediction(uid=84404, iid=59727, r_ui=1.0, est=5.0, details={'was_impossible': False}),\n",
              " Prediction(uid=84404, iid=68319, r_ui=3.0, est=5.0, details={'was_impossible': False}),\n",
              " Prediction(uid=84404, iid=54286, r_ui=3.0, est=5.0, details={'was_impossible': False}),\n",
              " Prediction(uid=84404, iid=68554, r_ui=4.0, est=5.0, details={'was_impossible': False}),\n",
              " Prediction(uid=84404, iid=51084, r_ui=3.0, est=5.0, details={'was_impossible': False}),\n",
              " Prediction(uid=84404, iid=68793, r_ui=3.0, est=5.0, details={'was_impossible': False}),\n",
              " Prediction(uid=84404, iid=64839, r_ui=2.0, est=5.0, details={'was_impossible': False}),\n",
              " Prediction(uid=84404, iid=53996, r_ui=3.0, est=5.0, details={'was_impossible': False}),\n",
              " Prediction(uid=84404, iid=60941, r_ui=1.0, est=5.0, details={'was_impossible': False}),\n",
              " Prediction(uid=84404, iid=2329, r_ui=5.0, est=5.0, details={'was_impossible': False}),\n",
              " Prediction(uid=84404, iid=66198, r_ui=2.5, est=5.0, details={'was_impossible': False}),\n",
              " Prediction(uid=84404, iid=7371, r_ui=2.0, est=5.0, details={'was_impossible': False}),\n",
              " Prediction(uid=84404, iid=1408, r_ui=3.0, est=5.0, details={'was_impossible': False}),\n",
              " Prediction(uid=84404, iid=1556, r_ui=1.5, est=5.0, details={'was_impossible': False}),\n",
              " Prediction(uid=84404, iid=59126, r_ui=3.5, est=5.0, details={'was_impossible': False}),\n",
              " Prediction(uid=84404, iid=52283, r_ui=3.5, est=5.0, details={'was_impossible': False}),\n",
              " Prediction(uid=84404, iid=64622, r_ui=2.0, est=5.0, details={'was_impossible': False}),\n",
              " Prediction(uid=84404, iid=52644, r_ui=2.0, est=5.0, details={'was_impossible': False}),\n",
              " Prediction(uid=84404, iid=56607, r_ui=3.5, est=5.0, details={'was_impossible': False}),\n",
              " Prediction(uid=84404, iid=69644, r_ui=4.0, est=5.0, details={'was_impossible': False}),\n",
              " Prediction(uid=84404, iid=50445, r_ui=3.0, est=5.0, details={'was_impossible': False}),\n",
              " Prediction(uid=84404, iid=56782, r_ui=2.5, est=5.0, details={'was_impossible': False}),\n",
              " Prediction(uid=84404, iid=69844, r_ui=2.0, est=5.0, details={'was_impossible': False}),\n",
              " Prediction(uid=84404, iid=1270, r_ui=4.5, est=5.0, details={'was_impossible': False}),\n",
              " Prediction(uid=84404, iid=64575, r_ui=2.5, est=5.0, details={'was_impossible': False}),\n",
              " Prediction(uid=84404, iid=2011, r_ui=3.5, est=5.0, details={'was_impossible': False}),\n",
              " Prediction(uid=84404, iid=42718, r_ui=3.0, est=5.0, details={'was_impossible': False}),\n",
              " Prediction(uid=84404, iid=318, r_ui=4.5, est=5.0, details={'was_impossible': False}),\n",
              " Prediction(uid=84404, iid=2012, r_ui=4.0, est=5.0, details={'was_impossible': False}),\n",
              " Prediction(uid=84404, iid=50630, r_ui=2.5, est=5.0, details={'was_impossible': False}),\n",
              " Prediction(uid=84404, iid=56141, r_ui=2.5, est=5.0, details={'was_impossible': False}),\n",
              " Prediction(uid=84404, iid=52950, r_ui=1.0, est=5.0, details={'was_impossible': False}),\n",
              " Prediction(uid=84404, iid=60753, r_ui=3.5, est=5.0, details={'was_impossible': False}),\n",
              " Prediction(uid=84404, iid=65230, r_ui=3.5, est=5.0, details={'was_impossible': False}),\n",
              " Prediction(uid=84404, iid=68952, r_ui=3.5, est=5.0, details={'was_impossible': False}),\n",
              " Prediction(uid=84404, iid=60397, r_ui=3.5, est=5.0, details={'was_impossible': False}),\n",
              " Prediction(uid=84404, iid=44555, r_ui=4.0, est=5.0, details={'was_impossible': False}),\n",
              " Prediction(uid=84404, iid=55814, r_ui=3.0, est=5.0, details={'was_impossible': False}),\n",
              " Prediction(uid=84404, iid=608, r_ui=4.0, est=5.0, details={'was_impossible': False}),\n",
              " Prediction(uid=84404, iid=69122, r_ui=4.0, est=5.0, details={'was_impossible': False}),\n",
              " Prediction(uid=84404, iid=356, r_ui=4.5, est=5.0, details={'was_impossible': False}),\n",
              " Prediction(uid=84404, iid=64620, r_ui=4.0, est=5.0, details={'was_impossible': False}),\n",
              " Prediction(uid=84404, iid=57669, r_ui=4.0, est=5.0, details={'was_impossible': False}),\n",
              " Prediction(uid=84404, iid=2, r_ui=3.5, est=5.0, details={'was_impossible': False}),\n",
              " Prediction(uid=84404, iid=58376, r_ui=4.0, est=5.0, details={'was_impossible': False}),\n",
              " Prediction(uid=84404, iid=2858, r_ui=4.5, est=5.0, details={'was_impossible': False}),\n",
              " Prediction(uid=84404, iid=55872, r_ui=3.5, est=5.0, details={'was_impossible': False}),\n",
              " Prediction(uid=84404, iid=65685, r_ui=2.5, est=5.0, details={'was_impossible': False}),\n",
              " Prediction(uid=84404, iid=55363, r_ui=2.5, est=5.0, details={'was_impossible': False}),\n",
              " Prediction(uid=84404, iid=5878, r_ui=3.5, est=5.0, details={'was_impossible': False}),\n",
              " Prediction(uid=84404, iid=68954, r_ui=3.5, est=5.0, details={'was_impossible': False}),\n",
              " Prediction(uid=84404, iid=68157, r_ui=4.5, est=5.0, details={'was_impossible': False}),\n",
              " Prediction(uid=84404, iid=70183, r_ui=3.0, est=5.0, details={'was_impossible': False}),\n",
              " Prediction(uid=84404, iid=55732, r_ui=3.0, est=5.0, details={'was_impossible': False}),\n",
              " Prediction(uid=84404, iid=70286, r_ui=4.0, est=5.0, details={'was_impossible': False}),\n",
              " Prediction(uid=84404, iid=4973, r_ui=4.0, est=5.0, details={'was_impossible': False}),\n",
              " Prediction(uid=84404, iid=293, r_ui=4.0, est=5.0, details={'was_impossible': False}),\n",
              " Prediction(uid=84404, iid=56169, r_ui=3.5, est=5.0, details={'was_impossible': False}),\n",
              " Prediction(uid=84404, iid=31427, r_ui=3.0, est=5.0, details={'was_impossible': False}),\n",
              " Prediction(uid=84404, iid=59369, r_ui=2.0, est=5.0, details={'was_impossible': False}),\n",
              " Prediction(uid=84404, iid=27773, r_ui=4.0, est=5.0, details={'was_impossible': False}),\n",
              " Prediction(uid=84404, iid=57370, r_ui=3.0, est=5.0, details={'was_impossible': False}),\n",
              " Prediction(uid=84404, iid=68159, r_ui=4.0, est=5.0, details={'was_impossible': False}),\n",
              " Prediction(uid=84404, iid=71530, r_ui=3.5, est=5.0, details={'was_impossible': False}),\n",
              " Prediction(uid=84404, iid=32, r_ui=4.0, est=5.0, details={'was_impossible': False}),\n",
              " Prediction(uid=84404, iid=71838, r_ui=3.0, est=5.0, details={'was_impossible': False}),\n",
              " Prediction(uid=84404, iid=1625, r_ui=4.5, est=5.0, details={'was_impossible': False}),\n",
              " Prediction(uid=84404, iid=63992, r_ui=1.5, est=5.0, details={'was_impossible': False}),\n",
              " Prediction(uid=84404, iid=27592, r_ui=3.5, est=5.0, details={'was_impossible': False}),\n",
              " Prediction(uid=84404, iid=42632, r_ui=4.0, est=5.0, details={'was_impossible': False}),\n",
              " Prediction(uid=84404, iid=52281, r_ui=1.0, est=5.0, details={'was_impossible': False}),\n",
              " Prediction(uid=84404, iid=52973, r_ui=2.5, est=5.0, details={'was_impossible': False}),\n",
              " Prediction(uid=84404, iid=49205, r_ui=2.0, est=5.0, details={'was_impossible': False}),\n",
              " Prediction(uid=84404, iid=52717, r_ui=3.0, est=5.0, details={'was_impossible': False}),\n",
              " Prediction(uid=84404, iid=7254, r_ui=4.0, est=5.0, details={'was_impossible': False}),\n",
              " Prediction(uid=84404, iid=4447, r_ui=1.5, est=5.0, details={'was_impossible': False}),\n",
              " Prediction(uid=84404, iid=2617, r_ui=2.5, est=5.0, details={'was_impossible': False}),\n",
              " Prediction(uid=84404, iid=733, r_ui=3.0, est=5.0, details={'was_impossible': False}),\n",
              " Prediction(uid=84404, iid=377, r_ui=2.0, est=5.0, details={'was_impossible': False}),\n",
              " Prediction(uid=84404, iid=63082, r_ui=4.5, est=5.0, details={'was_impossible': False}),\n",
              " Prediction(uid=84404, iid=778, r_ui=2.5, est=5.0, details={'was_impossible': False}),\n",
              " Prediction(uid=84404, iid=31685, r_ui=3.5, est=5.0, details={'was_impossible': False}),\n",
              " Prediction(uid=84404, iid=45720, r_ui=3.0, est=5.0, details={'was_impossible': False}),\n",
              " Prediction(uid=84404, iid=8644, r_ui=3.5, est=5.0, details={'was_impossible': False}),\n",
              " Prediction(uid=84404, iid=44191, r_ui=4.5, est=5.0, details={'was_impossible': False}),\n",
              " Prediction(uid=84404, iid=27803, r_ui=3.5, est=5.0, details={'was_impossible': False}),\n",
              " Prediction(uid=84404, iid=64957, r_ui=4.5, est=5.0, details={'was_impossible': False}),\n",
              " Prediction(uid=84404, iid=54272, r_ui=4.0, est=5.0, details={'was_impossible': False}),\n",
              " Prediction(uid=84404, iid=8360, r_ui=4.0, est=5.0, details={'was_impossible': False}),\n",
              " Prediction(uid=84404, iid=4306, r_ui=4.0, est=5.0, details={'was_impossible': False}),\n",
              " Prediction(uid=84404, iid=36529, r_ui=4.0, est=5.0, details={'was_impossible': False}),\n",
              " Prediction(uid=84404, iid=64614, r_ui=4.0, est=5.0, details={'was_impossible': False}),\n",
              " Prediction(uid=84404, iid=2959, r_ui=5.0, est=5.0, details={'was_impossible': False}),\n",
              " Prediction(uid=84404, iid=63062, r_ui=4.0, est=5.0, details={'was_impossible': False}),\n",
              " Prediction(uid=84404, iid=62374, r_ui=3.0, est=5.0, details={'was_impossible': False}),\n",
              " Prediction(uid=84404, iid=7256, r_ui=4.0, est=5.0, details={'was_impossible': False}),\n",
              " Prediction(uid=84404, iid=111, r_ui=4.0, est=5.0, details={'was_impossible': False}),\n",
              " Prediction(uid=84404, iid=3300, r_ui=3.5, est=5.0, details={'was_impossible': False}),\n",
              " Prediction(uid=84404, iid=8371, r_ui=3.0, est=5.0, details={'was_impossible': False}),\n",
              " Prediction(uid=84404, iid=5507, r_ui=2.5, est=5.0, details={'was_impossible': False}),\n",
              " Prediction(uid=84404, iid=46335, r_ui=1.5, est=5.0, details={'was_impossible': False}),\n",
              " Prediction(uid=84404, iid=6383, r_ui=3.0, est=5.0, details={'was_impossible': False}),\n",
              " Prediction(uid=84404, iid=4369, r_ui=3.5, est=5.0, details={'was_impossible': False}),\n",
              " Prediction(uid=84404, iid=61350, r_ui=2.5, est=5.0, details={'was_impossible': False}),\n",
              " Prediction(uid=84404, iid=72998, r_ui=4.5, est=5.0, details={'was_impossible': False}),\n",
              " Prediction(uid=84404, iid=61697, r_ui=3.5, est=5.0, details={'was_impossible': False}),\n",
              " Prediction(uid=84404, iid=1590, r_ui=3.5, est=5.0, details={'was_impossible': False}),\n",
              " Prediction(uid=84404, iid=73017, r_ui=3.5, est=5.0, details={'was_impossible': False}),\n",
              " Prediction(uid=84404, iid=72733, r_ui=4.5, est=5.0, details={'was_impossible': False}),\n",
              " Prediction(uid=84404, iid=58154, r_ui=4.0, est=5.0, details={'was_impossible': False}),\n",
              " Prediction(uid=84404, iid=1265, r_ui=3.5, est=5.0, details={'was_impossible': False}),\n",
              " Prediction(uid=84404, iid=70159, r_ui=3.5, est=5.0, details={'was_impossible': False}),\n",
              " Prediction(uid=84404, iid=69406, r_ui=3.0, est=5.0, details={'was_impossible': False}),\n",
              " Prediction(uid=84404, iid=69712, r_ui=4.0, est=5.0, details={'was_impossible': False}),\n",
              " Prediction(uid=84404, iid=1080, r_ui=4.0, est=5.0, details={'was_impossible': False}),\n",
              " Prediction(uid=84404, iid=63876, r_ui=4.0, est=5.0, details={'was_impossible': False}),\n",
              " Prediction(uid=84404, iid=74458, r_ui=4.0, est=5.0, details={'was_impossible': False}),\n",
              " Prediction(uid=84404, iid=74789, r_ui=3.5, est=5.0, details={'was_impossible': False}),\n",
              " Prediction(uid=84404, iid=1730, r_ui=2.5, est=5.0, details={'was_impossible': False}),\n",
              " Prediction(uid=84404, iid=4878, r_ui=4.5, est=5.0, details={'was_impossible': False}),\n",
              " Prediction(uid=84404, iid=1249, r_ui=3.0, est=5.0, details={'was_impossible': False}),\n",
              " Prediction(uid=84404, iid=73211, r_ui=2.5, est=5.0, details={'was_impossible': False}),\n",
              " Prediction(uid=84404, iid=55908, r_ui=4.5, est=5.0, details={'was_impossible': False}),\n",
              " Prediction(uid=84404, iid=57274, r_ui=4.0, est=5.0, details={'was_impossible': False}),\n",
              " Prediction(uid=84404, iid=63033, r_ui=3.5, est=5.0, details={'was_impossible': False}),\n",
              " Prediction(uid=84404, iid=2899, r_ui=3.5, est=5.0, details={'was_impossible': False}),\n",
              " Prediction(uid=84404, iid=46976, r_ui=4.0, est=5.0, details={'was_impossible': False}),\n",
              " Prediction(uid=84404, iid=7361, r_ui=4.5, est=5.0, details={'was_impossible': False}),\n",
              " Prediction(uid=84404, iid=1961, r_ui=4.5, est=5.0, details={'was_impossible': False}),\n",
              " Prediction(uid=84404, iid=923, r_ui=3.5, est=5.0, details={'was_impossible': False}),\n",
              " Prediction(uid=84404, iid=1246, r_ui=4.5, est=5.0, details={'was_impossible': False}),\n",
              " Prediction(uid=84404, iid=1358, r_ui=4.0, est=5.0, details={'was_impossible': False}),\n",
              " Prediction(uid=84404, iid=6807, r_ui=3.0, est=5.0, details={'was_impossible': False}),\n",
              " Prediction(uid=84404, iid=1347, r_ui=3.5, est=5.0, details={'was_impossible': False}),\n",
              " Prediction(uid=84404, iid=431, r_ui=3.5, est=5.0, details={'was_impossible': False}),\n",
              " Prediction(uid=84404, iid=628, r_ui=4.0, est=5.0, details={'was_impossible': False}),\n",
              " Prediction(uid=84404, iid=60040, r_ui=3.5, est=5.0, details={'was_impossible': False}),\n",
              " Prediction(uid=84404, iid=1343, r_ui=3.5, est=5.0, details={'was_impossible': False}),\n",
              " Prediction(uid=84404, iid=69481, r_ui=3.5, est=5.0, details={'was_impossible': False}),\n",
              " Prediction(uid=84404, iid=64034, r_ui=4.0, est=5.0, details={'was_impossible': False}),\n",
              " Prediction(uid=84404, iid=79293, r_ui=3.0, est=5.0, details={'was_impossible': False}),\n",
              " Prediction(uid=84404, iid=1732, r_ui=3.0, est=5.0, details={'was_impossible': False}),\n",
              " Prediction(uid=84404, iid=1784, r_ui=4.0, est=5.0, details={'was_impossible': False}),\n",
              " Prediction(uid=84404, iid=71033, r_ui=4.0, est=5.0, details={'was_impossible': False}),\n",
              " Prediction(uid=84404, iid=79541, r_ui=4.0, est=5.0, details={'was_impossible': False}),\n",
              " Prediction(uid=84404, iid=73321, r_ui=1.5, est=5.0, details={'was_impossible': False}),\n",
              " Prediction(uid=84404, iid=76175, r_ui=3.0, est=5.0, details={'was_impossible': False}),\n",
              " Prediction(uid=84404, iid=65216, r_ui=3.0, est=5.0, details={'was_impossible': False}),\n",
              " Prediction(uid=84404, iid=79132, r_ui=4.0, est=5.0, details={'was_impossible': False}),\n",
              " Prediction(uid=84404, iid=74452, r_ui=3.5, est=5.0, details={'was_impossible': False}),\n",
              " Prediction(uid=84404, iid=65225, r_ui=3.5, est=5.0, details={'was_impossible': False}),\n",
              " Prediction(uid=84404, iid=69640, r_ui=2.5, est=5.0, details={'was_impossible': False}),\n",
              " Prediction(uid=84404, iid=59615, r_ui=3.0, est=5.0, details={'was_impossible': False}),\n",
              " Prediction(uid=84404, iid=5954, r_ui=3.0, est=5.0, details={'was_impossible': False}),\n",
              " Prediction(uid=84404, iid=27744, r_ui=2.5, est=5.0, details={'was_impossible': False}),\n",
              " Prediction(uid=84404, iid=48774, r_ui=3.0, est=5.0, details={'was_impossible': False}),\n",
              " Prediction(uid=84404, iid=30825, r_ui=3.5, est=5.0, details={'was_impossible': False}),\n",
              " Prediction(uid=84404, iid=82852, r_ui=3.0, est=5.0, details={'was_impossible': False}),\n",
              " Prediction(uid=84404, iid=1619, r_ui=4.0, est=5.0, details={'was_impossible': False}),\n",
              " Prediction(uid=84404, iid=81591, r_ui=4.5, est=5.0, details={'was_impossible': False}),\n",
              " Prediction(uid=84404, iid=80463, r_ui=4.0, est=5.0, details={'was_impossible': False}),\n",
              " Prediction(uid=84404, iid=71264, r_ui=3.0, est=5.0, details={'was_impossible': False}),\n",
              " Prediction(uid=84404, iid=79242, r_ui=3.5, est=5.0, details={'was_impossible': False}),\n",
              " Prediction(uid=84404, iid=2694, r_ui=3.0, est=5.0, details={'was_impossible': False}),\n",
              " Prediction(uid=84404, iid=1203, r_ui=4.0, est=5.0, details={'was_impossible': False}),\n",
              " Prediction(uid=84404, iid=86882, r_ui=4.0, est=5.0, details={'was_impossible': False}),\n",
              " Prediction(uid=84404, iid=4007, r_ui=4.0, est=5.0, details={'was_impossible': False}),\n",
              " Prediction(uid=84404, iid=80590, r_ui=3.5, est=5.0, details={'was_impossible': False}),\n",
              " Prediction(uid=84404, iid=80880, r_ui=3.0, est=5.0, details={'was_impossible': False}),\n",
              " Prediction(uid=84404, iid=85342, r_ui=4.0, est=5.0, details={'was_impossible': False}),\n",
              " Prediction(uid=84404, iid=3252, r_ui=4.0, est=5.0, details={'was_impossible': False}),\n",
              " Prediction(uid=84404, iid=1562, r_ui=3.0, est=5.0, details={'was_impossible': False}),\n",
              " Prediction(uid=84404, iid=7004, r_ui=3.0, est=5.0, details={'was_impossible': False}),\n",
              " Prediction(uid=84404, iid=4558, r_ui=3.0, est=5.0, details={'was_impossible': False}),\n",
              " Prediction(uid=84404, iid=88356, r_ui=3.0, est=5.0, details={'was_impossible': False}),\n",
              " Prediction(uid=84404, iid=80906, r_ui=4.0, est=5.0, details={'was_impossible': False}),\n",
              " Prediction(uid=84404, iid=88744, r_ui=3.0, est=5.0, details={'was_impossible': False}),\n",
              " Prediction(uid=84404, iid=78893, r_ui=2.5, est=5.0, details={'was_impossible': False}),\n",
              " Prediction(uid=84404, iid=78637, r_ui=3.5, est=5.0, details={'was_impossible': False}),\n",
              " Prediction(uid=84404, iid=81845, r_ui=4.5, est=5.0, details={'was_impossible': False}),\n",
              " Prediction(uid=84404, iid=81417, r_ui=2.5, est=5.0, details={'was_impossible': False}),\n",
              " Prediction(uid=84404, iid=71379, r_ui=3.5, est=5.0, details={'was_impossible': False}),\n",
              " Prediction(uid=84404, iid=77837, r_ui=3.5, est=5.0, details={'was_impossible': False}),\n",
              " Prediction(uid=84404, iid=3362, r_ui=3.5, est=5.0, details={'was_impossible': False}),\n",
              " Prediction(uid=84404, iid=53121, r_ui=3.5, est=5.0, details={'was_impossible': False}),\n",
              " Prediction(uid=84404, iid=4014, r_ui=3.5, est=5.0, details={'was_impossible': False}),\n",
              " Prediction(uid=84404, iid=1955, r_ui=4.0, est=5.0, details={'was_impossible': False}),\n",
              " Prediction(uid=84404, iid=52604, r_ui=4.0, est=5.0, details={'was_impossible': False}),\n",
              " Prediction(uid=84404, iid=5013, r_ui=4.0, est=5.0, details={'was_impossible': False}),\n",
              " Prediction(uid=84404, iid=6870, r_ui=4.0, est=5.0, details={'was_impossible': False}),\n",
              " Prediction(uid=84404, iid=44204, r_ui=3.5, est=5.0, details={'was_impossible': False}),\n",
              " Prediction(uid=84404, iid=89904, r_ui=4.0, est=5.0, details={'was_impossible': False}),\n",
              " Prediction(uid=84404, iid=58025, r_ui=2.5, est=5.0, details={'was_impossible': False}),\n",
              " Prediction(uid=84404, iid=91630, r_ui=3.5, est=5.0, details={'was_impossible': False}),\n",
              " Prediction(uid=84404, iid=90866, r_ui=3.5, est=5.0, details={'was_impossible': False}),\n",
              " Prediction(uid=84404, iid=1193, r_ui=4.0, est=5.0, details={'was_impossible': False}),\n",
              " Prediction(uid=84404, iid=81782, r_ui=2.5, est=5.0, details={'was_impossible': False}),\n",
              " Prediction(uid=84404, iid=4448, r_ui=3.5, est=5.0, details={'was_impossible': False}),\n",
              " Prediction(uid=84404, iid=94649, r_ui=2.0, est=5.0, details={'was_impossible': False}),\n",
              " Prediction(uid=84404, iid=94864, r_ui=2.5, est=5.0, details={'was_impossible': False}),\n",
              " Prediction(uid=84404, iid=90746, r_ui=4.0, est=5.0, details={'was_impossible': False}),\n",
              " Prediction(uid=84404, iid=5618, r_ui=3.5, est=5.0, details={'was_impossible': False}),\n",
              " Prediction(uid=84404, iid=96121, r_ui=3.5, est=5.0, details={'was_impossible': False}),\n",
              " Prediction(uid=84404, iid=588, r_ui=3.5, est=5.0, details={'was_impossible': False}),\n",
              " Prediction(uid=84404, iid=1198, r_ui=4.0, est=5.0, details={'was_impossible': False}),\n",
              " Prediction(uid=84404, iid=364, r_ui=3.5, est=5.0, details={'was_impossible': False}),\n",
              " Prediction(uid=84404, iid=595, r_ui=3.0, est=5.0, details={'was_impossible': False}),\n",
              " Prediction(uid=84404, iid=231, r_ui=1.5, est=5.0, details={'was_impossible': False}),\n",
              " Prediction(uid=84404, iid=91094, r_ui=1.0, est=5.0, details={'was_impossible': False}),\n",
              " Prediction(uid=84404, iid=86911, r_ui=3.5, est=5.0, details={'was_impossible': False}),\n",
              " Prediction(uid=84404, iid=6058, r_ui=3.0, est=5.0, details={'was_impossible': False}),\n",
              " Prediction(uid=84404, iid=82169, r_ui=3.0, est=5.0, details={'was_impossible': False}),\n",
              " Prediction(uid=84404, iid=41285, r_ui=3.0, est=5.0, details={'was_impossible': False}),\n",
              " Prediction(uid=84404, iid=76030, r_ui=3.5, est=5.0, details={'was_impossible': False}),\n",
              " Prediction(uid=84404, iid=92259, r_ui=4.5, est=5.0, details={'was_impossible': False}),\n",
              " Prediction(uid=84404, iid=91529, r_ui=4.0, est=5.0, details={'was_impossible': False}),\n",
              " Prediction(uid=84404, iid=96610, r_ui=3.5, est=5.0, details={'was_impossible': False}),\n",
              " Prediction(uid=84404, iid=98154, r_ui=4.0, est=5.0, details={'was_impossible': False}),\n",
              " Prediction(uid=84404, iid=95199, r_ui=3.0, est=5.0, details={'was_impossible': False}),\n",
              " Prediction(uid=84404, iid=97304, r_ui=4.0, est=5.0, details={'was_impossible': False}),\n",
              " Prediction(uid=84404, iid=99114, r_ui=4.0, est=5.0, details={'was_impossible': False}),\n",
              " Prediction(uid=84404, iid=8873, r_ui=3.5, est=5.0, details={'was_impossible': False}),\n",
              " Prediction(uid=84404, iid=2413, r_ui=3.5, est=5.0, details={'was_impossible': False}),\n",
              " Prediction(uid=84404, iid=97752, r_ui=3.5, est=5.0, details={'was_impossible': False}),\n",
              " Prediction(uid=84404, iid=1221, r_ui=4.0, est=5.0, details={'was_impossible': False}),\n",
              " Prediction(uid=84404, iid=2023, r_ui=4.5, est=5.0, details={'was_impossible': False}),\n",
              " Prediction(uid=84404, iid=91077, r_ui=3.0, est=5.0, details={'was_impossible': False}),\n",
              " Prediction(uid=84404, iid=97913, r_ui=4.0, est=5.0, details={'was_impossible': False}),\n",
              " Prediction(uid=84404, iid=99912, r_ui=3.5, est=5.0, details={'was_impossible': False}),\n",
              " Prediction(uid=84404, iid=89492, r_ui=3.5, est=5.0, details={'was_impossible': False}),\n",
              " Prediction(uid=84404, iid=105709, r_ui=2.5, est=5.0, details={'was_impossible': False}),\n",
              " Prediction(uid=84404, iid=98056, r_ui=2.0, est=5.0, details={'was_impossible': False}),\n",
              " Prediction(uid=84404, iid=93457, r_ui=4.0, est=5.0, details={'was_impossible': False}),\n",
              " Prediction(uid=84404, iid=1136, r_ui=2.0, est=5.0, details={'was_impossible': False}),\n",
              " Prediction(uid=84404, iid=103688, r_ui=4.0, est=5.0, details={'was_impossible': False}),\n",
              " Prediction(uid=84404, iid=1997, r_ui=4.0, est=5.0, details={'was_impossible': False}),\n",
              " Prediction(uid=84404, iid=102481, r_ui=3.0, est=5.0, details={'was_impossible': False}),\n",
              " Prediction(uid=84404, iid=97921, r_ui=3.5, est=5.0, details={'was_impossible': False}),\n",
              " Prediction(uid=84404, iid=2231, r_ui=3.5, est=5.0, details={'was_impossible': False}),\n",
              " Prediction(uid=84404, iid=87304, r_ui=3.5, est=5.0, details={'was_impossible': False}),\n",
              " Prediction(uid=84404, iid=109315, r_ui=3.5, est=5.0, details={'was_impossible': False}),\n",
              " Prediction(uid=84404, iid=104841, r_ui=3.5, est=5.0, details={'was_impossible': False}),\n",
              " Prediction(uid=101021, iid=55820, r_ui=4.0, est=5.0, details={'was_impossible': False}),\n",
              " Prediction(uid=101021, iid=56782, r_ui=4.0, est=5.0, details={'was_impossible': False}),\n",
              " Prediction(uid=101021, iid=59727, r_ui=3.0, est=5.0, details={'was_impossible': False}),\n",
              " Prediction(uid=101021, iid=61262, r_ui=3.0, est=5.0, details={'was_impossible': False}),\n",
              " Prediction(uid=101021, iid=64957, r_ui=4.0, est=5.0, details={'was_impossible': False}),\n",
              " Prediction(uid=101021, iid=27365, r_ui=4.0, est=5.0, details={'was_impossible': False}),\n",
              " Prediction(uid=101021, iid=68157, r_ui=4.5, est=5.0, details={'was_impossible': False}),\n",
              " Prediction(uid=101021, iid=72998, r_ui=3.5, est=5.0, details={'was_impossible': False}),\n",
              " Prediction(uid=9406, iid=3317, r_ui=4.0, est=5.0, details={'was_impossible': False}),\n",
              " Prediction(uid=9406, iid=318, r_ui=5.0, est=5.0, details={'was_impossible': False}),\n",
              " Prediction(uid=9406, iid=49278, r_ui=4.0, est=5.0, details={'was_impossible': False}),\n",
              " Prediction(uid=9406, iid=33166, r_ui=4.0, est=5.0, details={'was_impossible': False}),\n",
              " Prediction(uid=9406, iid=4014, r_ui=4.0, est=5.0, details={'was_impossible': False}),\n",
              " Prediction(uid=9406, iid=8644, r_ui=3.5, est=5.0, details={'was_impossible': False}),\n",
              " Prediction(uid=9406, iid=3988, r_ui=3.5, est=5.0, details={'was_impossible': False}),\n",
              " Prediction(uid=9406, iid=1271, r_ui=4.5, est=5.0, details={'was_impossible': False}),\n",
              " Prediction(uid=9406, iid=94, r_ui=3.5, est=5.0, details={'was_impossible': False}),\n",
              " Prediction(uid=9406, iid=4679, r_ui=3.0, est=5.0, details={'was_impossible': False}),\n",
              " Prediction(uid=9406, iid=1188, r_ui=3.0, est=5.0, details={'was_impossible': False}),\n",
              " Prediction(uid=9406, iid=1407, r_ui=3.0, est=5.0, details={'was_impossible': False}),\n",
              " Prediction(uid=9406, iid=56333, r_ui=3.0, est=5.0, details={'was_impossible': False}),\n",
              " Prediction(uid=9406, iid=1197, r_ui=3.0, est=5.0, details={'was_impossible': False}),\n",
              " Prediction(uid=9406, iid=4062, r_ui=3.0, est=5.0, details={'was_impossible': False}),\n",
              " Prediction(uid=9406, iid=4886, r_ui=3.0, est=5.0, details={'was_impossible': False}),\n",
              " Prediction(uid=9406, iid=2082, r_ui=3.0, est=5.0, details={'was_impossible': False}),\n",
              " Prediction(uid=9406, iid=262, r_ui=3.0, est=5.0, details={'was_impossible': False}),\n",
              " Prediction(uid=9406, iid=48696, r_ui=4.0, est=5.0, details={'was_impossible': False}),\n",
              " Prediction(uid=9406, iid=4519, r_ui=3.0, est=5.0, details={'was_impossible': False}),\n",
              " Prediction(uid=9406, iid=1620, r_ui=3.0, est=5.0, details={'was_impossible': False}),\n",
              " Prediction(uid=9406, iid=4874, r_ui=3.0, est=5.0, details={'was_impossible': False}),\n",
              " Prediction(uid=9406, iid=2953, r_ui=3.0, est=5.0, details={'was_impossible': False}),\n",
              " Prediction(uid=9406, iid=6944, r_ui=3.0, est=5.0, details={'was_impossible': False}),\n",
              " Prediction(uid=9406, iid=1020, r_ui=3.0, est=5.0, details={'was_impossible': False}),\n",
              " Prediction(uid=9406, iid=1206, r_ui=3.0, est=5.0, details={'was_impossible': False}),\n",
              " Prediction(uid=9406, iid=34437, r_ui=3.0, est=5.0, details={'was_impossible': False}),\n",
              " Prediction(uid=9406, iid=6796, r_ui=3.0, est=5.0, details={'was_impossible': False}),\n",
              " Prediction(uid=9406, iid=7147, r_ui=3.0, est=5.0, details={'was_impossible': False}),\n",
              " Prediction(uid=9406, iid=2018, r_ui=3.0, est=5.0, details={'was_impossible': False}),\n",
              " Prediction(uid=9406, iid=1270, r_ui=3.0, est=5.0, details={'was_impossible': False}),\n",
              " Prediction(uid=9406, iid=2141, r_ui=2.5, est=5.0, details={'was_impossible': False}),\n",
              " Prediction(uid=9406, iid=51575, r_ui=2.5, est=5.0, details={'was_impossible': False}),\n",
              " Prediction(uid=9406, iid=4816, r_ui=2.5, est=5.0, details={'was_impossible': False}),\n",
              " Prediction(uid=9406, iid=6754, r_ui=2.5, est=5.0, details={'was_impossible': False}),\n",
              " Prediction(uid=9406, iid=5502, r_ui=3.5, est=5.0, details={'was_impossible': False}),\n",
              " Prediction(uid=9406, iid=2160, r_ui=2.5, est=5.0, details={'was_impossible': False}),\n",
              " Prediction(uid=9406, iid=597, r_ui=2.5, est=5.0, details={'was_impossible': False}),\n",
              " Prediction(uid=9406, iid=1013, r_ui=2.5, est=5.0, details={'was_impossible': False}),\n",
              " Prediction(uid=9406, iid=1350, r_ui=2.5, est=5.0, details={'was_impossible': False}),\n",
              " Prediction(uid=9406, iid=493, r_ui=2.5, est=5.0, details={'was_impossible': False}),\n",
              " Prediction(uid=9406, iid=4621, r_ui=2.5, est=5.0, details={'was_impossible': False}),\n",
              " Prediction(uid=9406, iid=8640, r_ui=3.5, est=5.0, details={'was_impossible': False}),\n",
              " Prediction(uid=9406, iid=175, r_ui=2.5, est=5.0, details={'was_impossible': False}),\n",
              " Prediction(uid=9406, iid=2078, r_ui=2.5, est=5.0, details={'was_impossible': False}),\n",
              " Prediction(uid=9406, iid=253, r_ui=3.5, est=5.0, details={'was_impossible': False}),\n",
              " Prediction(uid=9406, iid=70, r_ui=2.5, est=5.0, details={'was_impossible': False}),\n",
              " Prediction(uid=9406, iid=2014, r_ui=2.5, est=5.0, details={'was_impossible': False}),\n",
              " Prediction(uid=9406, iid=2428, r_ui=2.5, est=5.0, details={'was_impossible': False}),\n",
              " Prediction(uid=9406, iid=839, r_ui=2.0, est=5.0, details={'was_impossible': False}),\n",
              " Prediction(uid=9406, iid=351, r_ui=2.5, est=5.0, details={'was_impossible': False}),\n",
              " Prediction(uid=9406, iid=6889, r_ui=2.5, est=5.0, details={'was_impossible': False}),\n",
              " Prediction(uid=9406, iid=3257, r_ui=2.5, est=5.0, details={'was_impossible': False}),\n",
              " Prediction(uid=9406, iid=2694, r_ui=2.5, est=5.0, details={'was_impossible': False}),\n",
              " Prediction(uid=9406, iid=8169, r_ui=2.5, est=5.0, details={'was_impossible': False}),\n",
              " Prediction(uid=9406, iid=93, r_ui=2.0, est=5.0, details={'was_impossible': False}),\n",
              " Prediction(uid=9406, iid=1381, r_ui=1.0, est=5.0, details={'was_impossible': False}),\n",
              " Prediction(uid=9406, iid=2713, r_ui=1.5, est=5.0, details={'was_impossible': False}),\n",
              " Prediction(uid=9406, iid=7293, r_ui=4.0, est=5.0, details={'was_impossible': False}),\n",
              " Prediction(uid=9406, iid=8957, r_ui=3.0, est=5.0, details={'was_impossible': False}),\n",
              " Prediction(uid=9406, iid=502, r_ui=1.5, est=5.0, details={'was_impossible': False}),\n",
              " Prediction(uid=9406, iid=4351, r_ui=2.0, est=5.0, details={'was_impossible': False}),\n",
              " Prediction(uid=9406, iid=3686, r_ui=2.0, est=5.0, details={'was_impossible': False}),\n",
              " Prediction(uid=9406, iid=1359, r_ui=2.5, est=5.0, details={'was_impossible': False}),\n",
              " Prediction(uid=9406, iid=3146, r_ui=1.5, est=5.0, details={'was_impossible': False}),\n",
              " Prediction(uid=9406, iid=1126, r_ui=2.5, est=5.0, details={'was_impossible': False}),\n",
              " Prediction(uid=9406, iid=2083, r_ui=3.0, est=5.0, details={'was_impossible': False}),\n",
              " Prediction(uid=9406, iid=2117, r_ui=4.0, est=5.0, details={'was_impossible': False}),\n",
              " Prediction(uid=9406, iid=30825, r_ui=3.5, est=5.0, details={'was_impossible': False}),\n",
              " Prediction(uid=9406, iid=5308, r_ui=3.0, est=5.0, details={'was_impossible': False}),\n",
              " Prediction(uid=9406, iid=2138, r_ui=2.5, est=5.0, details={'was_impossible': False}),\n",
              " Prediction(uid=9406, iid=1009, r_ui=1.5, est=5.0, details={'was_impossible': False}),\n",
              " Prediction(uid=9406, iid=4054, r_ui=3.5, est=5.0, details={'was_impossible': False}),\n",
              " Prediction(uid=9406, iid=1064, r_ui=3.0, est=5.0, details={'was_impossible': False}),\n",
              " Prediction(uid=9406, iid=42, r_ui=3.0, est=5.0, details={'was_impossible': False}),\n",
              " Prediction(uid=9406, iid=5449, r_ui=2.0, est=5.0, details={'was_impossible': False}),\n",
              " Prediction(uid=9406, iid=3821, r_ui=1.5, est=5.0, details={'was_impossible': False}),\n",
              " Prediction(uid=9406, iid=575, r_ui=2.0, est=5.0, details={'was_impossible': False}),\n",
              " Prediction(uid=9406, iid=3248, r_ui=2.5, est=5.0, details={'was_impossible': False}),\n",
              " Prediction(uid=9406, iid=63, r_ui=0.5, est=5.0, details={'was_impossible': False}),\n",
              " Prediction(uid=9406, iid=46723, r_ui=3.5, est=5.0, details={'was_impossible': False}),\n",
              " Prediction(uid=9406, iid=2042, r_ui=2.5, est=5.0, details={'was_impossible': False}),\n",
              " Prediction(uid=9406, iid=4700, r_ui=1.5, est=5.0, details={'was_impossible': False}),\n",
              " Prediction(uid=9406, iid=4677, r_ui=3.0, est=5.0, details={'was_impossible': False}),\n",
              " Prediction(uid=9406, iid=2107, r_ui=2.0, est=5.0, details={'was_impossible': False}),\n",
              " Prediction(uid=9406, iid=8371, r_ui=2.0, est=5.0, details={'was_impossible': False}),\n",
              " Prediction(uid=9406, iid=1727, r_ui=1.5, est=5.0, details={'was_impossible': False}),\n",
              " Prediction(uid=9406, iid=4039, r_ui=1.5, est=5.0, details={'was_impossible': False}),\n",
              " Prediction(uid=9406, iid=2162, r_ui=2.0, est=5.0, details={'was_impossible': False}),\n",
              " Prediction(uid=9406, iid=2236, r_ui=2.5, est=5.0, details={'was_impossible': False}),\n",
              " Prediction(uid=9406, iid=5452, r_ui=2.0, est=5.0, details={'was_impossible': False}),\n",
              " Prediction(uid=9406, iid=421, r_ui=1.0, est=5.0, details={'was_impossible': False}),\n",
              " Prediction(uid=9406, iid=2320, r_ui=3.5, est=5.0, details={'was_impossible': False}),\n",
              " Prediction(uid=9406, iid=5943, r_ui=1.5, est=5.0, details={'was_impossible': False}),\n",
              " Prediction(uid=9406, iid=1840, r_ui=2.5, est=5.0, details={'was_impossible': False}),\n",
              " Prediction(uid=9406, iid=5283, r_ui=0.5, est=5.0, details={'was_impossible': False}),\n",
              " Prediction(uid=9406, iid=8969, r_ui=2.5, est=5.0, details={'was_impossible': False}),\n",
              " Prediction(uid=9406, iid=2315, r_ui=0.5, est=5.0, details={'was_impossible': False}),\n",
              " Prediction(uid=9406, iid=8, r_ui=2.0, est=5.0, details={'was_impossible': False}),\n",
              " Prediction(uid=9406, iid=5970, r_ui=4.0, est=5.0, details={'was_impossible': False}),\n",
              " Prediction(uid=9406, iid=4744, r_ui=1.0, est=5.0, details={'was_impossible': False}),\n",
              " Prediction(uid=9406, iid=2392, r_ui=1.0, est=5.0, details={'was_impossible': False}),\n",
              " Prediction(uid=9406, iid=5009, r_ui=2.0, est=5.0, details={'was_impossible': False}),\n",
              " Prediction(uid=9406, iid=2506, r_ui=2.5, est=5.0, details={'was_impossible': False}),\n",
              " Prediction(uid=9406, iid=2429, r_ui=2.0, est=5.0, details={'was_impossible': False}),\n",
              " Prediction(uid=9406, iid=5309, r_ui=2.5, est=5.0, details={'was_impossible': False}),\n",
              " Prediction(uid=9406, iid=3616, r_ui=1.0, est=5.0, details={'was_impossible': False}),\n",
              " Prediction(uid=9406, iid=8985, r_ui=3.0, est=5.0, details={'was_impossible': False}),\n",
              " Prediction(uid=9406, iid=3784, r_ui=2.0, est=5.0, details={'was_impossible': False}),\n",
              " Prediction(uid=9406, iid=6058, r_ui=1.0, est=5.0, details={'was_impossible': False}),\n",
              " Prediction(uid=9406, iid=4255, r_ui=0.5, est=5.0, details={'was_impossible': False}),\n",
              " Prediction(uid=9406, iid=3538, r_ui=3.5, est=5.0, details={'was_impossible': False}),\n",
              " Prediction(uid=9406, iid=57368, r_ui=2.5, est=5.0, details={'was_impossible': False}),\n",
              " Prediction(uid=9406, iid=2453, r_ui=1.5, est=5.0, details={'was_impossible': False}),\n",
              " Prediction(uid=9406, iid=8880, r_ui=2.5, est=5.0, details={'was_impossible': False}),\n",
              " Prediction(uid=9406, iid=3177, r_ui=1.5, est=5.0, details={'was_impossible': False}),\n",
              " Prediction(uid=9406, iid=2148, r_ui=0.5, est=5.0, details={'was_impossible': False}),\n",
              " Prediction(uid=9406, iid=4030, r_ui=1.0, est=5.0, details={'was_impossible': False}),\n",
              " Prediction(uid=9406, iid=5784, r_ui=0.5, est=5.0, details={'was_impossible': False}),\n",
              " Prediction(uid=9406, iid=4902, r_ui=3.5, est=5.0, details={'was_impossible': False}),\n",
              " Prediction(uid=9406, iid=628, r_ui=4.0, est=5.0, details={'was_impossible': False}),\n",
              " Prediction(uid=9406, iid=1806, r_ui=2.5, est=5.0, details={'was_impossible': False}),\n",
              " Prediction(uid=9406, iid=6793, r_ui=3.0, est=5.0, details={'was_impossible': False}),\n",
              " Prediction(uid=9406, iid=2310, r_ui=2.0, est=5.0, details={'was_impossible': False}),\n",
              " Prediction(uid=9406, iid=42723, r_ui=1.0, est=5.0, details={'was_impossible': False}),\n",
              " Prediction(uid=9406, iid=5899, r_ui=1.5, est=5.0, details={'was_impossible': False}),\n",
              " Prediction(uid=9406, iid=6707, r_ui=0.5, est=5.0, details={'was_impossible': False}),\n",
              " Prediction(uid=9406, iid=33646, r_ui=3.0, est=5.0, details={'was_impossible': False}),\n",
              " Prediction(uid=9406, iid=36535, r_ui=4.5, est=5.0, details={'was_impossible': False}),\n",
              " Prediction(uid=9406, iid=30820, r_ui=3.5, est=5.0, details={'was_impossible': False}),\n",
              " Prediction(uid=9406, iid=7045, r_ui=3.0, est=5.0, details={'was_impossible': False}),\n",
              " Prediction(uid=9406, iid=27788, r_ui=3.5, est=5.0, details={'was_impossible': False}),\n",
              " Prediction(uid=9406, iid=2535, r_ui=2.5, est=5.0, details={'was_impossible': False}),\n",
              " Prediction(uid=9406, iid=4613, r_ui=0.5, est=5.0, details={'was_impossible': False}),\n",
              " Prediction(uid=9406, iid=6794, r_ui=2.0, est=5.0, details={'was_impossible': False}),\n",
              " Prediction(uid=9406, iid=4748, r_ui=0.5, est=5.0, details={'was_impossible': False}),\n",
              " Prediction(uid=9406, iid=37720, r_ui=1.0, est=5.0, details={'was_impossible': False}),\n",
              " Prediction(uid=9406, iid=7757, r_ui=2.0, est=5.0, details={'was_impossible': False}),\n",
              " Prediction(uid=9406, iid=765, r_ui=4.0, est=5.0, details={'was_impossible': False}),\n",
              " Prediction(uid=9406, iid=59727, r_ui=3.0, est=5.0, details={'was_impossible': False}),\n",
              " Prediction(uid=9406, iid=47970, r_ui=3.0, est=5.0, details={'was_impossible': False}),\n",
              " Prediction(uid=9406, iid=2997, r_ui=2.5, est=5.0, details={'was_impossible': False}),\n",
              " Prediction(uid=9406, iid=58559, r_ui=3.5, est=5.0, details={'was_impossible': False}),\n",
              " Prediction(uid=9406, iid=3255, r_ui=2.5, est=5.0, details={'was_impossible': False}),\n",
              " Prediction(uid=9406, iid=1062, r_ui=3.0, est=5.0, details={'was_impossible': False}),\n",
              " Prediction(uid=9406, iid=64575, r_ui=3.5, est=5.0, details={'was_impossible': False}),\n",
              " Prediction(uid=9406, iid=60763, r_ui=3.5, est=5.0, details={'was_impossible': False}),\n",
              " Prediction(uid=9406, iid=63131, r_ui=4.0, est=5.0, details={'was_impossible': False}),\n",
              " Prediction(uid=9406, iid=63876, r_ui=4.5, est=5.0, details={'was_impossible': False}),\n",
              " Prediction(uid=9406, iid=61323, r_ui=3.0, est=5.0, details={'was_impossible': False}),\n",
              " Prediction(uid=9406, iid=63082, r_ui=4.0, est=5.0, details={'was_impossible': False}),\n",
              " Prediction(uid=9406, iid=61024, r_ui=3.5, est=5.0, details={'was_impossible': False}),\n",
              " Prediction(uid=9406, iid=63062, r_ui=4.0, est=5.0, details={'was_impossible': False}),\n",
              " Prediction(uid=9406, iid=59018, r_ui=4.0, est=5.0, details={'was_impossible': False}),\n",
              " Prediction(uid=9406, iid=53123, r_ui=3.0, est=5.0, details={'was_impossible': False}),\n",
              " Prediction(uid=9406, iid=64716, r_ui=3.5, est=5.0, details={'was_impossible': False}),\n",
              " Prediction(uid=9406, iid=61729, r_ui=3.5, est=5.0, details={'was_impossible': False}),\n",
              " Prediction(uid=9406, iid=62113, r_ui=3.5, est=5.0, details={'was_impossible': False}),\n",
              " Prediction(uid=9406, iid=3147, r_ui=4.0, est=5.0, details={'was_impossible': False}),\n",
              " Prediction(uid=9406, iid=2335, r_ui=3.5, est=5.0, details={'was_impossible': False}),\n",
              " Prediction(uid=9406, iid=2399, r_ui=3.0, est=5.0, details={'was_impossible': False}),\n",
              " Prediction(uid=9406, iid=7164, r_ui=3.5, est=5.0, details={'was_impossible': False}),\n",
              " Prediction(uid=9406, iid=1951, r_ui=3.5, est=5.0, details={'was_impossible': False}),\n",
              " Prediction(uid=9406, iid=2161, r_ui=3.0, est=5.0, details={'was_impossible': False}),\n",
              " Prediction(uid=9406, iid=837, r_ui=3.5, est=5.0, details={'was_impossible': False}),\n",
              " Prediction(uid=9406, iid=52973, r_ui=3.5, est=5.0, details={'was_impossible': False}),\n",
              " Prediction(uid=9406, iid=2420, r_ui=3.5, est=5.0, details={'was_impossible': False}),\n",
              " Prediction(uid=9406, iid=6874, r_ui=3.0, est=5.0, details={'was_impossible': False}),\n",
              " Prediction(uid=9406, iid=358, r_ui=3.5, est=5.0, details={'was_impossible': False}),\n",
              " Prediction(uid=9406, iid=247, r_ui=3.5, est=5.0, details={'was_impossible': False}),\n",
              " Prediction(uid=9406, iid=1735, r_ui=3.5, est=5.0, details={'was_impossible': False}),\n",
              " Prediction(uid=9406, iid=31225, r_ui=3.5, est=5.0, details={'was_impossible': False}),\n",
              " Prediction(uid=9406, iid=588, r_ui=3.5, est=5.0, details={'was_impossible': False}),\n",
              " Prediction(uid=9406, iid=2987, r_ui=3.0, est=5.0, details={'was_impossible': False}),\n",
              " Prediction(uid=9406, iid=40819, r_ui=4.5, est=5.0, details={'was_impossible': False}),\n",
              " Prediction(uid=9406, iid=60069, r_ui=3.5, est=5.0, details={'was_impossible': False}),\n",
              " Prediction(uid=116302, iid=7579, r_ui=3.0, est=5.0, details={'was_impossible': False}),\n",
              " Prediction(uid=116302, iid=55814, r_ui=3.5, est=5.0, details={'was_impossible': False}),\n",
              " Prediction(uid=116302, iid=46559, r_ui=3.5, est=5.0, details={'was_impossible': False}),\n",
              " Prediction(uid=116302, iid=53921, r_ui=3.0, est=5.0, details={'was_impossible': False}),\n",
              " Prediction(uid=116302, iid=61323, r_ui=3.5, est=5.0, details={'was_impossible': False}),\n",
              " Prediction(uid=116302, iid=3089, r_ui=5.0, est=5.0, details={'was_impossible': False}),\n",
              " ...]"
            ]
          },
          "metadata": {
            "tags": []
          },
          "execution_count": 17
        }
      ]
    },
    {
      "cell_type": "markdown",
      "metadata": {
        "id": "6I6RH6S1NEYB",
        "colab_type": "text"
      },
      "source": [
        "## SVD Algorithm"
      ]
    },
    {
      "cell_type": "markdown",
      "metadata": {
        "id": "0lKUbdvDP0nP",
        "colab_type": "text"
      },
      "source": [
        "### Without forecasting"
      ]
    },
    {
      "cell_type": "code",
      "metadata": {
        "id": "2DNSWHMMNEYB",
        "colab_type": "code",
        "outputId": "d249316e-674f-4af8-d0fa-31ecc7ed1986",
        "colab": {
          "base_uri": "https://localhost:8080/",
          "height": 87
        }
      },
      "source": [
        "algo = surprise.SVD(n_factors=20, n_epochs=20, biased=True)\n",
        "non_f_preds = test_model(algo, train_dataset, test_dataset)"
      ],
      "execution_count": 0,
      "outputs": [
        {
          "output_type": "stream",
          "text": [
            "NDPM : 0.3524476174094267\n",
            "RMSE: 0.9310\n",
            "MAE:  0.7139\n",
            "FCP:  0.6265\n"
          ],
          "name": "stdout"
        }
      ]
    },
    {
      "cell_type": "markdown",
      "metadata": {
        "id": "vUyQaQddP5TN",
        "colab_type": "text"
      },
      "source": [
        "### With forecasting"
      ]
    },
    {
      "cell_type": "code",
      "metadata": {
        "id": "Ph7aEJPENEYF",
        "colab_type": "code",
        "outputId": "6b050378-589b-4187-e643-aa04ac4683d9",
        "colab": {
          "base_uri": "https://localhost:8080/",
          "height": 87
        }
      },
      "source": [
        "algo = surprise.SVD(n_factors=20, n_epochs=20, biased=True)\n",
        "f_algo = rcm.MeanDeviationsRecommender(algo, forecaster, test_timestamps_dict)\n",
        "\n",
        "preds = test_model(f_algo, train_dataset, test_dataset)"
      ],
      "execution_count": 0,
      "outputs": [
        {
          "output_type": "stream",
          "text": [
            "NDPM : 0.35253238898739103\n",
            "RMSE: 0.9316\n",
            "MAE:  0.7114\n",
            "FCP:  0.6282\n"
          ],
          "name": "stdout"
        }
      ]
    },
    {
      "cell_type": "markdown",
      "metadata": {
        "colab_type": "text",
        "id": "_WtViRjNQdM6"
      },
      "source": [
        "## Probabilistic Matrix Factorization"
      ]
    },
    {
      "cell_type": "markdown",
      "metadata": {
        "colab_type": "text",
        "id": "rTWenv7bQdNE"
      },
      "source": [
        "### Without forecasting"
      ]
    },
    {
      "cell_type": "code",
      "metadata": {
        "colab_type": "code",
        "id": "RODslnleQdNJ",
        "colab": {}
      },
      "source": [
        "algo = surprise.SVD(n_factors=20, n_epochs=10, biased=False)\n",
        "test_model(algo, train_dataset, test_dataset)"
      ],
      "execution_count": 0,
      "outputs": []
    },
    {
      "cell_type": "markdown",
      "metadata": {
        "id": "96sQLNfqm2JP",
        "colab_type": "text"
      },
      "source": [
        "NDPM : 0.4837062061817291\n",
        "RMSE: 1.0097\n",
        "MAE:  0.7783\n",
        "FCP:  0.4098"
      ]
    },
    {
      "cell_type": "markdown",
      "metadata": {
        "colab_type": "text",
        "id": "I4AQGP5-QdNa"
      },
      "source": [
        "### With forecasting"
      ]
    },
    {
      "cell_type": "code",
      "metadata": {
        "colab_type": "code",
        "id": "vz0f7TVUQdNh",
        "colab": {}
      },
      "source": [
        "algo = surprise.SVD(n_factors=20, n_epochs=10, biased=False)\n",
        "f_algo = rcm.MeanDeviationsRecommender(algo, forecaster, test_timestamps_dict)\n",
        "\n",
        "test_model(f_algo, train_dataset, test_dataset)"
      ],
      "execution_count": 0,
      "outputs": []
    },
    {
      "cell_type": "markdown",
      "metadata": {
        "id": "AcicL0uYut83",
        "colab_type": "text"
      },
      "source": [
        "NDPM : 0.3545251071714166\n",
        "RMSE: 0.9426\n",
        "MAE:  0.7192\n",
        "FCP:  0.6231"
      ]
    },
    {
      "cell_type": "markdown",
      "metadata": {
        "colab_type": "text",
        "id": "cbNUymsRPbI-"
      },
      "source": [
        "## Neural Network algorithm"
      ]
    },
    {
      "cell_type": "markdown",
      "metadata": {
        "colab_type": "text",
        "id": "KIPM2ICTPbJJ"
      },
      "source": [
        "### Without forecasting"
      ]
    },
    {
      "cell_type": "code",
      "metadata": {
        "colab_type": "code",
        "id": "pUaPbcWzPbJM",
        "colab": {}
      },
      "source": [
        "algo = pytorchSR.NeuralNetworkSR(train_df, test_df, 1, 20, [256], 0.0, lr=3*1e-3, wd=1e-1, max_time=440.0, batch_size=10000, log_freq=500)\n",
        "test_model(algo, train_dataset, test_dataset)"
      ],
      "execution_count": 0,
      "outputs": []
    },
    {
      "cell_type": "markdown",
      "metadata": {
        "colab_type": "text",
        "id": "lllN-IGAPbJY"
      },
      "source": [
        "### With forecasting"
      ]
    },
    {
      "cell_type": "code",
      "metadata": {
        "colab_type": "code",
        "id": "7sCg8FotPbJd",
        "colab": {}
      },
      "source": [
        "pytorch_model_ratings = forecaster.ratings[['userId', 'movieId', 'y_dev']].copy()\n",
        "pytorch_model_ratings['y_dev'] = pytorch_model_ratings['y_dev'] + 4.5\n",
        "algo = pytorchSR.NeuralNetworkSR(pytorch_model_ratings, test_df, 20, 20, [256], 0.0, lr=3*1e-3, wd=1e-1, max_time=440.0, batch_size=10000, log_freq=500)\n",
        "f_algo = rcm.MeanDeviationsRecommender(algo, forecaster, test_timestamps_dict)\n",
        "\n",
        "test_model(f_algo, train_dataset, test_dataset)"
      ],
      "execution_count": 0,
      "outputs": []
    },
    {
      "cell_type": "markdown",
      "metadata": {
        "colab_type": "text",
        "id": "4IX3VAGinsYS"
      },
      "source": [
        "# Popularity decay split method"
      ]
    },
    {
      "cell_type": "code",
      "metadata": {
        "id": "p1qK97yQuA0f",
        "colab_type": "code",
        "colab": {}
      },
      "source": [
        "# drop 80 % ratings from timebins > 1\n",
        "filtered = ds.filter_dataset_for_forecasting(movielens20m.ratings, timebin=1)"
      ],
      "execution_count": 0,
      "outputs": []
    },
    {
      "cell_type": "code",
      "metadata": {
        "colab_type": "code",
        "id": "1z79FoORhdV-",
        "colab": {}
      },
      "source": [
        "train_df, test_df = ds.split_dataset_for_forecasting(movielens20m.ratings)\n",
        "test_df = test_df[test_df.timebin > 3]\n",
        "\n",
        "train_dataset = ds.to_surprise_trainset(train_df)\n",
        "test_dataset = ds.to_surprise_testset(test_df)"
      ],
      "execution_count": 0,
      "outputs": []
    },
    {
      "cell_type": "code",
      "metadata": {
        "colab_type": "code",
        "id": "sktdQ__EnsYe",
        "colab": {}
      },
      "source": [
        "most_popular_movies = ut.get_popular_movies_ids(train_df, movielens20m, 2000)\n",
        "\n",
        "forecaster = rcm.RatingsForecaster(ft.LastSample)\n",
        "forecaster.compute_devs(train_df, most_popular_movies.movieId.tolist())\n",
        "forecaster.precompute_means(test_df)\n",
        "test_timestamps_dict = ut.get_timestamps_dict(test_df)"
      ],
      "execution_count": 0,
      "outputs": []
    },
    {
      "cell_type": "markdown",
      "metadata": {
        "colab_type": "text",
        "id": "TuN4wpZpnsYn"
      },
      "source": [
        "## Baseline algortithm"
      ]
    },
    {
      "cell_type": "markdown",
      "metadata": {
        "colab_type": "text",
        "id": "WGjP8ZAVnsYo"
      },
      "source": [
        "### Without forecasting"
      ]
    },
    {
      "cell_type": "code",
      "metadata": {
        "colab_type": "code",
        "outputId": "0ec62b69-3b82-436c-c017-4e1c6e97f2db",
        "id": "q21nZPt1nsYp",
        "colab": {
          "base_uri": "https://localhost:8080/",
          "height": 102
        }
      },
      "source": [
        "algo = surprise.prediction_algorithms.baseline_only.BaselineOnly()\n",
        "\n",
        "p = test_model(algo, train_dataset, test_dataset)"
      ],
      "execution_count": 0,
      "outputs": [
        {
          "output_type": "stream",
          "text": [
            "Estimating biases using als...\n",
            "NDPM : 0.3281957041447908\n",
            "RMSE: 0.8556\n",
            "MAE:  0.6429\n",
            "FCP:  0.6620\n"
          ],
          "name": "stdout"
        }
      ]
    },
    {
      "cell_type": "markdown",
      "metadata": {
        "colab_type": "text",
        "id": "w_7vaKNGnsYt"
      },
      "source": [
        "### With forecasting"
      ]
    },
    {
      "cell_type": "code",
      "metadata": {
        "colab_type": "code",
        "outputId": "01ec45de-7868-4644-d92f-5cc2cd54fce9",
        "id": "djtSkLF9nsYu",
        "colab": {
          "base_uri": "https://localhost:8080/",
          "height": 102
        }
      },
      "source": [
        "algo = surprise.prediction_algorithms.baseline_only.BaselineOnly()\n",
        "f_algo = rcm.MeanDeviationsRecommender(algo, forecaster, test_timestamps_dict)\n",
        "\n",
        "p = test_model(f_algo, train_dataset, test_dataset)"
      ],
      "execution_count": 0,
      "outputs": [
        {
          "output_type": "stream",
          "text": [
            "Estimating biases using als...\n",
            "NDPM : 0.32279605820034374\n",
            "RMSE: 0.8512\n",
            "MAE:  0.6424\n",
            "FCP:  0.6652\n"
          ],
          "name": "stdout"
        }
      ]
    },
    {
      "cell_type": "markdown",
      "metadata": {
        "colab_type": "text",
        "id": "LFd5vV2AnsYx"
      },
      "source": [
        "## SVD Algorithm"
      ]
    },
    {
      "cell_type": "markdown",
      "metadata": {
        "colab_type": "text",
        "id": "9mPauow7nsYy"
      },
      "source": [
        "### Without forecasting"
      ]
    },
    {
      "cell_type": "code",
      "metadata": {
        "colab_type": "code",
        "outputId": "73d246ad-9f12-450d-ecf3-bcaadb9f9707",
        "id": "L7qkyFrCJfDa",
        "colab": {
          "base_uri": "https://localhost:8080/",
          "height": 85
        }
      },
      "source": [
        "algo = surprise.SVD(n_factors=20, n_epochs=20, biased=True)\n",
        "\n",
        "p = test_model(algo, train_dataset, test_dataset)"
      ],
      "execution_count": 0,
      "outputs": [
        {
          "output_type": "stream",
          "text": [
            "NDPM : 0.31160740961356553\n",
            "RMSE: 0.8178\n",
            "MAE:  0.6139\n",
            "FCP:  0.6818\n"
          ],
          "name": "stdout"
        }
      ]
    },
    {
      "cell_type": "markdown",
      "metadata": {
        "colab_type": "text",
        "id": "OQEMM574nsY1"
      },
      "source": [
        "### With forecasting"
      ]
    },
    {
      "cell_type": "code",
      "metadata": {
        "colab_type": "code",
        "outputId": "898df74f-7f43-4ba7-d2ae-80264e64abb6",
        "id": "BrRB6PaPJiDm",
        "colab": {
          "base_uri": "https://localhost:8080/",
          "height": 85
        }
      },
      "source": [
        "algo = surprise.SVD(n_factors=20, n_epochs=20, biased=True)\n",
        "f_algo = rcm.MeanDeviationsRecommender(algo, forecaster, test_timestamps_dict)\n",
        "\n",
        "p = test_model(f_algo, train_dataset, test_dataset)"
      ],
      "execution_count": 0,
      "outputs": [
        {
          "output_type": "stream",
          "text": [
            "NDPM : 0.3094253715893138\n",
            "RMSE: 0.8179\n",
            "MAE:  0.6143\n",
            "FCP:  0.6823\n"
          ],
          "name": "stdout"
        }
      ]
    },
    {
      "cell_type": "markdown",
      "metadata": {
        "colab_type": "text",
        "id": "O882o5o8nsY5"
      },
      "source": [
        "## Probabilistic Matrix Factorization"
      ]
    },
    {
      "cell_type": "markdown",
      "metadata": {
        "colab_type": "text",
        "id": "mRkpQ2YJnsY6"
      },
      "source": [
        "### Without forecasting"
      ]
    },
    {
      "cell_type": "code",
      "metadata": {
        "colab_type": "code",
        "id": "0jG5EJpwnsY-",
        "outputId": "189fd957-b824-40b5-acd1-1ea782b05e52",
        "colab": {
          "base_uri": "https://localhost:8080/",
          "height": 85
        }
      },
      "source": [
        "algo = surprise.SVD(n_factors=20, n_epochs=20, biased=False)\n",
        "\n",
        "p = test_model(algo, train_dataset, test_dataset)"
      ],
      "execution_count": 0,
      "outputs": [
        {
          "output_type": "stream",
          "text": [
            "NDPM : 0.30841340544582035\n",
            "RMSE: 0.8553\n",
            "MAE:  0.6337\n",
            "FCP:  0.6809\n"
          ],
          "name": "stdout"
        }
      ]
    },
    {
      "cell_type": "markdown",
      "metadata": {
        "colab_type": "text",
        "id": "dSzpnInAnsY9"
      },
      "source": [
        "### With forecasting"
      ]
    },
    {
      "cell_type": "code",
      "metadata": {
        "colab_type": "code",
        "id": "q_MlATrDnsY7",
        "outputId": "444c9244-41d0-490c-cba7-0793f027b28b",
        "colab": {
          "base_uri": "https://localhost:8080/",
          "height": 85
        }
      },
      "source": [
        "algo = surprise.SVD(n_factors=20, n_epochs=20, biased=False)\n",
        "f_algo = rcm.MeanDeviationsRecommender(algo, forecaster, test_timestamps_dict)\n",
        "\n",
        "p = test_model(f_algo, train_dataset, test_dataset)"
      ],
      "execution_count": 0,
      "outputs": [
        {
          "output_type": "stream",
          "text": [
            "NDPM : 0.31017355874108393\n",
            "RMSE: 0.8791\n",
            "MAE:  0.6498\n",
            "FCP:  0.6725\n"
          ],
          "name": "stdout"
        }
      ]
    },
    {
      "cell_type": "markdown",
      "metadata": {
        "colab_type": "text",
        "id": "Wqg04Jb_nsZB"
      },
      "source": [
        "## Neural Network algorithm"
      ]
    },
    {
      "cell_type": "markdown",
      "metadata": {
        "colab_type": "text",
        "id": "lZ7MI8EvnsZC"
      },
      "source": [
        "### Without forecasting"
      ]
    },
    {
      "cell_type": "code",
      "metadata": {
        "colab_type": "code",
        "outputId": "deb5fdc8-29e6-4847-c45d-372dd5812150",
        "id": "KsBjGE_uJ60v",
        "colab": {
          "base_uri": "https://localhost:8080/",
          "height": 459
        }
      },
      "source": [
        "algo = pytorchSR.NeuralNetworkSR(train_df, test_df, 20, 20, [256], 0.0, lr=3*1e-3, wd=1e-1, max_time=7000.0, batch_size=10000, log_freq=500)\n",
        "p = test_model(algo, train_dataset, test_dataset)"
      ],
      "execution_count": 0,
      "outputs": [
        {
          "output_type": "stream",
          "text": [
            "[1,   500] loss: 1.710\n",
            "[2,   500] loss: 0.842\n",
            "[3,   500] loss: 0.799\n",
            "[4,   500] loss: 0.766\n",
            "[5,   500] loss: 0.740\n",
            "[6,   500] loss: 0.722\n",
            "[7,   500] loss: 0.707\n",
            "[8,   500] loss: 0.696\n",
            "[9,   500] loss: 0.688\n",
            "[10,   500] loss: 0.681\n",
            "[11,   500] loss: 0.675\n",
            "[12,   500] loss: 0.669\n",
            "[13,   500] loss: 0.664\n",
            "[14,   500] loss: 0.660\n",
            "[15,   500] loss: 0.658\n",
            "[16,   500] loss: 0.656\n",
            "[17,   500] loss: 0.653\n",
            "[18,   500] loss: 0.651\n",
            "[19,   500] loss: 0.649\n",
            "[20,   500] loss: 0.648\n",
            "Finished Training\n",
            "Estimated all\n",
            "NDPM : 0.3060602449250163\n",
            "RMSE: 0.8177\n",
            "MAE:  0.6146\n",
            "FCP:  0.6861\n"
          ],
          "name": "stdout"
        }
      ]
    },
    {
      "cell_type": "code",
      "metadata": {
        "id": "Oa8VB_6eXyta",
        "colab_type": "code",
        "colab": {}
      },
      "source": [
        "algo = pytorchSR.NeuralNetworkSR(train_df, test_df, 1, 20, [256], 0.0, lr=3*1e-3, wd=1e-1, max_time=7000.0, batch_size=10000, log_freq=500)\n",
        "p = test_model(algo, train_dataset, test_dataset)"
      ],
      "execution_count": 0,
      "outputs": []
    },
    {
      "cell_type": "markdown",
      "metadata": {
        "colab_type": "text",
        "id": "E6vkc1BznsZF"
      },
      "source": [
        "### With forecasting"
      ]
    },
    {
      "cell_type": "code",
      "metadata": {
        "colab_type": "code",
        "outputId": "ada0c309-64cd-4cf5-e01b-2901167f25ef",
        "id": "X9n7uNJYKAfq",
        "colab": {
          "base_uri": "https://localhost:8080/",
          "height": 459
        }
      },
      "source": [
        "pytorch_model_ratings = forecaster.ratings[['userId', 'movieId', 'y_dev']].copy()\n",
        "pytorch_model_ratings['y_dev'] = pytorch_model_ratings['y_dev'] + 6.0\n",
        "algo = pytorchSR.NeuralNetworkSR(pytorch_model_ratings, test_df, 20, 20, [256], 0.0, lr=3*1e-3, wd=1e-1, max_time=440.0, batch_size=10000, log_freq=500)\n",
        "f_algo = rcm.MeanDeviationsRecommender(algo, forecaster, test_timestamps_dict)\n",
        "\n",
        "p = test_model(f_algo, train_dataset, test_dataset)"
      ],
      "execution_count": 0,
      "outputs": [
        {
          "output_type": "stream",
          "text": [
            "[1,   500] loss: 1.640\n",
            "[2,   500] loss: 0.833\n",
            "[3,   500] loss: 0.791\n",
            "[4,   500] loss: 0.774\n",
            "[5,   500] loss: 0.742\n",
            "[6,   500] loss: 0.725\n",
            "[7,   500] loss: 0.710\n",
            "[8,   500] loss: 0.694\n",
            "[9,   500] loss: 0.684\n",
            "[10,   500] loss: 0.675\n",
            "[11,   500] loss: 0.669\n",
            "[12,   500] loss: 0.663\n",
            "[13,   500] loss: 0.659\n",
            "[14,   500] loss: 0.654\n",
            "[15,   500] loss: 0.652\n",
            "[16,   500] loss: 0.649\n",
            "[17,   500] loss: 0.647\n",
            "[18,   500] loss: 0.645\n",
            "[19,   500] loss: 0.644\n",
            "[20,   500] loss: 0.642\n",
            "Finished Training\n",
            "Estimated all\n",
            "NDPM : 0.30359779483382343\n",
            "RMSE: 0.8162\n",
            "MAE:  0.6133\n",
            "FCP:  0.6872\n"
          ],
          "name": "stdout"
        }
      ]
    },
    {
      "cell_type": "markdown",
      "metadata": {
        "id": "Y2KUfkuKpoab",
        "colab_type": "text"
      },
      "source": [
        "# Time-awareness neural network model"
      ]
    },
    {
      "cell_type": "code",
      "metadata": {
        "id": "WyLAjTdWqwfz",
        "colab_type": "code",
        "colab": {}
      },
      "source": [
        "movielens20m = ds.get_movielens('20m')\n",
        "ut.add_timebins(movielens20m.ratings,10)"
      ],
      "execution_count": 0,
      "outputs": []
    },
    {
      "cell_type": "markdown",
      "metadata": {
        "id": "7tUzk3pcpvJe",
        "colab_type": "text"
      },
      "source": [
        "### Without time-awareness"
      ]
    },
    {
      "cell_type": "code",
      "metadata": {
        "id": "KAbDoZK_pqTY",
        "colab_type": "code",
        "outputId": "11a7b3c1-4cf2-4ddb-e83e-724f6fd94de3",
        "colab": {
          "base_uri": "https://localhost:8080/",
          "height": 1000
        }
      },
      "source": [
        "def model_constructor(train_df, test_df):\n",
        "  return pytorchSR.NeuralNetworkSR(train_df, test_df, 20, 20, [256], 0.0, lr=3*1e-3, wd=1e-1, max_time=440.0, batch_size=10000, log_freq=500, time_biased=False)\n",
        "\n",
        "ut.cross_validate(model_constructor, movielens20m.ratings, k=3)"
      ],
      "execution_count": 0,
      "outputs": [
        {
          "output_type": "stream",
          "text": [
            "[1,   500] loss: 1.672\n",
            "[1,  1000] loss: 0.891\n",
            "[2,   500] loss: 0.796\n",
            "[2,  1000] loss: 0.781\n",
            "[3,   500] loss: 0.749\n",
            "[3,  1000] loss: 0.738\n",
            "[4,   500] loss: 0.718\n",
            "[4,  1000] loss: 0.719\n",
            "[5,   500] loss: 0.698\n",
            "[5,  1000] loss: 0.703\n",
            "[6,   500] loss: 0.682\n",
            "[6,  1000] loss: 0.690\n",
            "[7,   500] loss: 0.671\n",
            "[7,  1000] loss: 0.683\n",
            "[8,   500] loss: 0.664\n",
            "[8,  1000] loss: 0.677\n",
            "[9,   500] loss: 0.658\n",
            "[9,  1000] loss: 0.673\n",
            "[10,   500] loss: 0.653\n",
            "[10,  1000] loss: 0.670\n",
            "[11,   500] loss: 0.649\n",
            "[11,  1000] loss: 0.666\n",
            "[12,   500] loss: 0.646\n",
            "[12,  1000] loss: 0.664\n",
            "[13,   500] loss: 0.644\n",
            "[13,  1000] loss: 0.663\n",
            "[14,   500] loss: 0.642\n",
            "[14,  1000] loss: 0.661\n",
            "[15,   500] loss: 0.641\n",
            "[15,  1000] loss: 0.661\n",
            "[16,   500] loss: 0.640\n",
            "[16,  1000] loss: 0.659\n",
            "[17,   500] loss: 0.639\n",
            "[17,  1000] loss: 0.658\n",
            "[18,   500] loss: 0.637\n",
            "[18,  1000] loss: 0.658\n",
            "[19,   500] loss: 0.637\n",
            "[19,  1000] loss: 0.657\n",
            "[20,   500] loss: 0.636\n",
            "[20,  1000] loss: 0.657\n",
            "Finished Training\n",
            "Estimated all\n",
            "RMSE: 0.8099\n",
            "MAE:  0.6200\n",
            "FCP:  0.7447\n",
            "[1,   500] loss: 1.678\n",
            "[1,  1000] loss: 0.894\n",
            "[2,   500] loss: 0.796\n",
            "[2,  1000] loss: 0.782\n",
            "[3,   500] loss: 0.759\n",
            "[3,  1000] loss: 0.744\n",
            "[4,   500] loss: 0.719\n",
            "[4,  1000] loss: 0.720\n",
            "[5,   500] loss: 0.701\n",
            "[5,  1000] loss: 0.704\n",
            "[6,   500] loss: 0.685\n",
            "[6,  1000] loss: 0.691\n",
            "[7,   500] loss: 0.673\n",
            "[7,  1000] loss: 0.685\n",
            "[8,   500] loss: 0.667\n",
            "[8,  1000] loss: 0.679\n",
            "[9,   500] loss: 0.661\n",
            "[9,  1000] loss: 0.676\n",
            "[10,   500] loss: 0.656\n",
            "[10,  1000] loss: 0.672\n",
            "[11,   500] loss: 0.652\n",
            "[11,  1000] loss: 0.669\n",
            "[12,   500] loss: 0.648\n",
            "[12,  1000] loss: 0.666\n",
            "[13,   500] loss: 0.645\n",
            "[13,  1000] loss: 0.664\n",
            "[14,   500] loss: 0.643\n",
            "[14,  1000] loss: 0.661\n",
            "[15,   500] loss: 0.642\n",
            "[15,  1000] loss: 0.661\n",
            "[16,   500] loss: 0.639\n",
            "[16,  1000] loss: 0.659\n",
            "[17,   500] loss: 0.639\n",
            "[17,  1000] loss: 0.659\n",
            "[18,   500] loss: 0.638\n",
            "[18,  1000] loss: 0.658\n",
            "[19,   500] loss: 0.637\n",
            "[19,  1000] loss: 0.657\n",
            "[20,   500] loss: 0.635\n",
            "[20,  1000] loss: 0.657\n",
            "Finished Training\n",
            "Estimated all\n",
            "RMSE: 0.8094\n",
            "MAE:  0.6203\n",
            "FCP:  0.7447\n",
            "[1,   500] loss: 1.669\n",
            "[1,  1000] loss: 0.894\n",
            "[2,   500] loss: 0.796\n",
            "[2,  1000] loss: 0.781\n",
            "[3,   500] loss: 0.753\n",
            "[3,  1000] loss: 0.740\n",
            "[4,   500] loss: 0.717\n",
            "[4,  1000] loss: 0.717\n",
            "[5,   500] loss: 0.696\n",
            "[5,  1000] loss: 0.701\n",
            "[6,   500] loss: 0.681\n",
            "[6,  1000] loss: 0.688\n",
            "[7,   500] loss: 0.670\n",
            "[7,  1000] loss: 0.681\n",
            "[8,   500] loss: 0.664\n",
            "[8,  1000] loss: 0.676\n",
            "[9,   500] loss: 0.658\n",
            "[9,  1000] loss: 0.673\n",
            "[10,   500] loss: 0.653\n",
            "[10,  1000] loss: 0.670\n",
            "[11,   500] loss: 0.650\n",
            "[11,  1000] loss: 0.666\n",
            "[12,   500] loss: 0.647\n",
            "[12,  1000] loss: 0.665\n",
            "[13,   500] loss: 0.645\n",
            "[13,  1000] loss: 0.663\n",
            "[14,   500] loss: 0.644\n",
            "[14,  1000] loss: 0.663\n",
            "[15,   500] loss: 0.643\n",
            "[15,  1000] loss: 0.661\n",
            "[16,   500] loss: 0.641\n",
            "[16,  1000] loss: 0.660\n",
            "[17,   500] loss: 0.640\n",
            "[17,  1000] loss: 0.660\n",
            "[18,   500] loss: 0.639\n",
            "[18,  1000] loss: 0.659\n",
            "[19,   500] loss: 0.638\n",
            "[19,  1000] loss: 0.658\n",
            "[20,   500] loss: 0.638\n",
            "[20,  1000] loss: 0.658\n",
            "Finished Training\n",
            "Estimated all\n",
            "RMSE: 0.8106\n",
            "MAE:  0.6188\n",
            "FCP:  0.7436\n",
            "Average RMSE = 0.809966249669023\n",
            "Average MAE = 0.6196975830664752\n",
            "Average NDPM = 0.286160475772077\n",
            "Average FCP = 0.7443059051909892\n"
          ],
          "name": "stdout"
        }
      ]
    },
    {
      "cell_type": "markdown",
      "metadata": {
        "id": "osf0NIlAp2DO",
        "colab_type": "text"
      },
      "source": [
        "### With forecasting"
      ]
    },
    {
      "cell_type": "markdown",
      "metadata": {
        "id": "QqX-TyxPp_0c",
        "colab_type": "text"
      },
      "source": [
        "### Cross validation"
      ]
    },
    {
      "cell_type": "code",
      "metadata": {
        "id": "Lso7zLIhJsOL",
        "colab_type": "code",
        "outputId": "500c93be-02f6-40a4-ab26-ca80b3a123c7",
        "colab": {
          "base_uri": "https://localhost:8080/",
          "height": 1000
        }
      },
      "source": [
        "def model_constructor(train_df, test_df):\n",
        "  return pytorchSR.NeuralNetworkSR(train_df, test_df, 20, 20, [256], 0.0, lr=3*1e-3, wd=1e-1, max_time=440.0, batch_size=10000, log_freq=500, time_biased=True, time_bins=51)\n",
        "\n",
        "ut.cross_validate(model_constructor, movielens20m.ratings, k=3)"
      ],
      "execution_count": 0,
      "outputs": [
        {
          "output_type": "stream",
          "text": [
            "[1,   500] loss: 2.215\n",
            "[1,  1000] loss: 1.052\n",
            "[2,   500] loss: 0.813\n",
            "[2,  1000] loss: 0.782\n",
            "[3,   500] loss: 0.754\n",
            "[3,  1000] loss: 0.740\n",
            "[4,   500] loss: 0.712\n",
            "[4,  1000] loss: 0.713\n",
            "[5,   500] loss: 0.692\n",
            "[5,  1000] loss: 0.697\n",
            "[6,   500] loss: 0.677\n",
            "[6,  1000] loss: 0.686\n",
            "[7,   500] loss: 0.666\n",
            "[7,  1000] loss: 0.678\n",
            "[8,   500] loss: 0.660\n",
            "[8,  1000] loss: 0.673\n",
            "[9,   500] loss: 0.655\n",
            "[9,  1000] loss: 0.670\n",
            "[10,   500] loss: 0.651\n",
            "[10,  1000] loss: 0.667\n",
            "[11,   500] loss: 0.647\n",
            "[11,  1000] loss: 0.664\n",
            "[12,   500] loss: 0.644\n",
            "[12,  1000] loss: 0.662\n",
            "[13,   500] loss: 0.642\n",
            "[13,  1000] loss: 0.660\n",
            "[14,   500] loss: 0.640\n",
            "[14,  1000] loss: 0.659\n",
            "[15,   500] loss: 0.638\n",
            "[15,  1000] loss: 0.658\n",
            "[16,   500] loss: 0.637\n",
            "[16,  1000] loss: 0.656\n",
            "[17,   500] loss: 0.636\n",
            "[17,  1000] loss: 0.656\n",
            "[18,   500] loss: 0.635\n",
            "[18,  1000] loss: 0.655\n",
            "[19,   500] loss: 0.633\n",
            "[19,  1000] loss: 0.655\n",
            "[20,   500] loss: 0.633\n",
            "[20,  1000] loss: 0.654\n",
            "Finished Training\n",
            "Estimated all\n",
            "RMSE: 0.8091\n",
            "MAE:  0.6195\n",
            "FCP:  0.7434\n",
            "[1,   500] loss: 2.237\n",
            "[1,  1000] loss: 1.059\n",
            "[2,   500] loss: 0.814\n",
            "[2,  1000] loss: 0.782\n",
            "[3,   500] loss: 0.747\n",
            "[3,  1000] loss: 0.734\n",
            "[4,   500] loss: 0.711\n",
            "[4,  1000] loss: 0.713\n",
            "[5,   500] loss: 0.694\n",
            "[5,  1000] loss: 0.696\n",
            "[6,   500] loss: 0.676\n",
            "[6,  1000] loss: 0.684\n",
            "[7,   500] loss: 0.665\n",
            "[7,  1000] loss: 0.678\n",
            "[8,   500] loss: 0.659\n",
            "[8,  1000] loss: 0.672\n",
            "[9,   500] loss: 0.654\n",
            "[9,  1000] loss: 0.669\n",
            "[10,   500] loss: 0.650\n",
            "[10,  1000] loss: 0.666\n",
            "[11,   500] loss: 0.646\n",
            "[11,  1000] loss: 0.664\n",
            "[12,   500] loss: 0.643\n",
            "[12,  1000] loss: 0.661\n",
            "[13,   500] loss: 0.641\n",
            "[13,  1000] loss: 0.660\n",
            "[14,   500] loss: 0.639\n",
            "[14,  1000] loss: 0.657\n",
            "[15,   500] loss: 0.638\n",
            "[15,  1000] loss: 0.657\n",
            "[16,   500] loss: 0.636\n",
            "[16,  1000] loss: 0.656\n",
            "[17,   500] loss: 0.636\n",
            "[17,  1000] loss: 0.655\n",
            "[18,   500] loss: 0.635\n",
            "[18,  1000] loss: 0.654\n",
            "[19,   500] loss: 0.634\n",
            "[19,  1000] loss: 0.654\n",
            "[20,   500] loss: 0.632\n",
            "[20,  1000] loss: 0.654\n",
            "Finished Training\n",
            "Estimated all\n",
            "RMSE: 0.8084\n",
            "MAE:  0.6197\n",
            "FCP:  0.7435\n",
            "[1,   500] loss: 2.192\n",
            "[1,  1000] loss: 1.045\n",
            "[2,   500] loss: 0.812\n",
            "[2,  1000] loss: 0.781\n",
            "[3,   500] loss: 0.751\n",
            "[3,  1000] loss: 0.737\n",
            "[4,   500] loss: 0.711\n",
            "[4,  1000] loss: 0.712\n",
            "[5,   500] loss: 0.692\n",
            "[5,  1000] loss: 0.697\n",
            "[6,   500] loss: 0.678\n",
            "[6,  1000] loss: 0.685\n",
            "[7,   500] loss: 0.665\n",
            "[7,  1000] loss: 0.677\n",
            "[8,   500] loss: 0.659\n",
            "[8,  1000] loss: 0.671\n",
            "[9,   500] loss: 0.654\n",
            "[9,  1000] loss: 0.669\n",
            "[10,   500] loss: 0.649\n",
            "[10,  1000] loss: 0.666\n",
            "[11,   500] loss: 0.646\n",
            "[11,  1000] loss: 0.663\n",
            "[12,   500] loss: 0.643\n",
            "[12,  1000] loss: 0.662\n",
            "[13,   500] loss: 0.641\n",
            "[13,  1000] loss: 0.659\n",
            "[14,   500] loss: 0.639\n",
            "[14,  1000] loss: 0.658\n",
            "[15,   500] loss: 0.638\n",
            "[15,  1000] loss: 0.656\n",
            "[16,   500] loss: 0.636\n",
            "[16,  1000] loss: 0.656\n",
            "[17,   500] loss: 0.635\n",
            "[17,  1000] loss: 0.655\n",
            "[18,   500] loss: 0.634\n",
            "[18,  1000] loss: 0.654\n",
            "[19,   500] loss: 0.632\n",
            "[19,  1000] loss: 0.653\n",
            "[20,   500] loss: 0.632\n",
            "[20,  1000] loss: 0.653\n",
            "Finished Training\n",
            "Estimated all\n",
            "RMSE: 0.8084\n",
            "MAE:  0.6183\n",
            "FCP:  0.7432\n",
            "Average RMSE = 0.8086462830330893\n",
            "Average MAE = 0.6191376114063646\n",
            "Average NDPM = 0.28375396881203235\n",
            "Average FCP = 0.7433996294650088\n"
          ],
          "name": "stdout"
        }
      ]
    },
    {
      "cell_type": "code",
      "metadata": {
        "colab_type": "code",
        "id": "vFi_O09p4--P",
        "colab": {}
      },
      "source": [
        "# drop 80 % ratings from timebins > 1\n",
        "filtered = ds.filter_dataset_for_forecasting(movielens20m.ratings, timebin=1)"
      ],
      "execution_count": 0,
      "outputs": []
    },
    {
      "cell_type": "code",
      "metadata": {
        "id": "vGTStcMz6WPA",
        "colab_type": "code",
        "colab": {}
      },
      "source": [
        "train_df, test_df = ds.split_dataset_for_forecasting(movielens20m.ratings)\n",
        "test_df = test_df[test_df.timebin > 3]"
      ],
      "execution_count": 0,
      "outputs": []
    },
    {
      "cell_type": "code",
      "metadata": {
        "id": "9qZbUtp86al1",
        "colab_type": "code",
        "outputId": "dbddf151-b3d2-4426-e4cf-506cfd84619a",
        "colab": {
          "base_uri": "https://localhost:8080/",
          "height": 68
        }
      },
      "source": [
        "test_df.userId.isin(train_df.userId).value_counts()"
      ],
      "execution_count": 0,
      "outputs": [
        {
          "output_type": "execute_result",
          "data": {
            "text/plain": [
              "True     367608\n",
              "False       209\n",
              "Name: userId, dtype: int64"
            ]
          },
          "metadata": {
            "tags": []
          },
          "execution_count": 10
        }
      ]
    },
    {
      "cell_type": "code",
      "metadata": {
        "colab_type": "code",
        "id": "2DooHYPA4--c",
        "colab": {}
      },
      "source": [
        "train_dataset = ds.to_surprise_trainset(train_df)\n",
        "test_dataset = ds.to_surprise_testset(test_df)"
      ],
      "execution_count": 0,
      "outputs": []
    },
    {
      "cell_type": "code",
      "metadata": {
        "colab_type": "code",
        "id": "wwYELzhR4--i",
        "colab": {}
      },
      "source": [
        "most_popular_movies = ut.get_popular_movies_ids(train_df, movielens20m, 2000)\n",
        "\n",
        "forecaster = rcm.RatingsForecaster(ft.LastSample)\n",
        "forecaster.compute_devs(train_df, most_popular_movies.movieId.tolist())\n",
        "forecaster.precompute_means(test_df)\n",
        "test_timestamps_dict = ut.get_timestamps_dict(test_df)"
      ],
      "execution_count": 0,
      "outputs": []
    },
    {
      "cell_type": "markdown",
      "metadata": {
        "colab_type": "text",
        "id": "hBTgDcvf4te1"
      },
      "source": [
        "## Baseline algortithm"
      ]
    },
    {
      "cell_type": "markdown",
      "metadata": {
        "colab_type": "text",
        "id": "RUcPDYZ94tfD"
      },
      "source": [
        "### Without forecasting"
      ]
    },
    {
      "cell_type": "code",
      "metadata": {
        "colab_type": "code",
        "outputId": "0ec62b69-3b82-436c-c017-4e1c6e97f2db",
        "id": "QcGdFiqM4tfI",
        "colab": {
          "base_uri": "https://localhost:8080/",
          "height": 102
        }
      },
      "source": [
        "algo = surprise.prediction_algorithms.baseline_only.BaselineOnly()\n",
        "\n",
        "p = test_model(algo, train_dataset, test_dataset)"
      ],
      "execution_count": 0,
      "outputs": [
        {
          "output_type": "stream",
          "text": [
            "Estimating biases using als...\n",
            "NDPM : 0.3281957041447908\n",
            "RMSE: 0.8556\n",
            "MAE:  0.6429\n",
            "FCP:  0.6620\n"
          ],
          "name": "stdout"
        }
      ]
    },
    {
      "cell_type": "markdown",
      "metadata": {
        "colab_type": "text",
        "id": "hE5dRHtL4tfW"
      },
      "source": [
        "### With forecasting"
      ]
    },
    {
      "cell_type": "code",
      "metadata": {
        "colab_type": "code",
        "outputId": "01ec45de-7868-4644-d92f-5cc2cd54fce9",
        "id": "wWM1RQB_4tfa",
        "colab": {
          "base_uri": "https://localhost:8080/",
          "height": 102
        }
      },
      "source": [
        "algo = surprise.prediction_algorithms.baseline_only.BaselineOnly()\n",
        "f_algo = rcm.MeanDeviationsRecommender(algo, forecaster, test_timestamps_dict)\n",
        "\n",
        "p = test_model(f_algo, train_dataset, test_dataset)"
      ],
      "execution_count": 0,
      "outputs": [
        {
          "output_type": "stream",
          "text": [
            "Estimating biases using als...\n",
            "NDPM : 0.32279605820034374\n",
            "RMSE: 0.8512\n",
            "MAE:  0.6424\n",
            "FCP:  0.6652\n"
          ],
          "name": "stdout"
        }
      ]
    }
  ]
}